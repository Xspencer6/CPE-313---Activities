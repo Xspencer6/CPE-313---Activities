{
 "cells": [
  {
   "cell_type": "markdown",
   "id": "annual-sandwich",
   "metadata": {},
   "source": [
    "# Activity 2.2 - Transfer Learning "
   ]
  },
  {
   "cell_type": "markdown",
   "id": "b6860d24",
   "metadata": {},
   "source": [
    "**Name**: Almodiel, Mj Spencer <br>\n",
    "**Instructor**: Engr Roman Richard "
   ]
  },
  {
   "cell_type": "markdown",
   "id": "great-fireplace",
   "metadata": {},
   "source": [
    "#### Objective(s):\n",
    "\n",
    "This activity aims to introduce how to apply transfer learning "
   ]
  },
  {
   "cell_type": "markdown",
   "id": "subjective-elimination",
   "metadata": {},
   "source": [
    "#### Intended Learning Outcomes (ILOs):\n",
    "* Demonstrate how to build and train neural network \n",
    "* Demonstrate how to apply transfer learning in neural network\n"
   ]
  },
  {
   "cell_type": "markdown",
   "id": "simplified-azerbaijan",
   "metadata": {},
   "source": [
    "#### Resources:\n",
    "* Jupyter Notebook\n",
    "* CIFAR-10 dataset"
   ]
  },
  {
   "cell_type": "markdown",
   "id": "ordinary-crime",
   "metadata": {},
   "source": [
    "#### Procedures\n",
    "Load the necessary libraries"
   ]
  },
  {
   "cell_type": "code",
   "execution_count": 1,
   "id": "comic-joining",
   "metadata": {},
   "outputs": [],
   "source": [
    "from __future__ import print_function\n",
    "\n",
    "import datetime\n",
    "import keras\n",
    "from keras.datasets import mnist\n",
    "from keras.models import Sequential\n",
    "from keras.layers import Dense, Dropout, Activation, Flatten\n",
    "from keras.layers import Conv2D, MaxPooling2D\n",
    "from keras import backend as K"
   ]
  },
  {
   "cell_type": "markdown",
   "id": "moral-chair",
   "metadata": {},
   "source": [
    "Set the parameters"
   ]
  },
  {
   "cell_type": "code",
   "execution_count": 28,
   "id": "sticky-metallic",
   "metadata": {},
   "outputs": [],
   "source": [
    "now = datetime.datetime.now\n",
    "batch_size = 128\n",
    "num_classes = 5\n",
    "epochs = 70\n",
    "img_rows, img_cols = 28, 28\n",
    "filters = 32\n",
    "pool_size = 2\n",
    "kernel_size = 3"
   ]
  },
  {
   "cell_type": "markdown",
   "id": "resident-activity",
   "metadata": {},
   "source": [
    "Set how the input data is loaded"
   ]
  },
  {
   "cell_type": "code",
   "execution_count": 3,
   "id": "measured-queens",
   "metadata": {},
   "outputs": [],
   "source": [
    "\n",
    "if K.image_data_format() == 'channels_first':\n",
    "    input_shape = (1, img_rows, img_cols)\n",
    "else:\n",
    "    input_shape = (img_rows, img_cols, 1)"
   ]
  },
  {
   "cell_type": "markdown",
   "id": "jewish-russell",
   "metadata": {},
   "source": [
    "* Write a function to include all the training steps. \n",
    "* Use the model, training set, test set and number of classes as function parameters\n"
   ]
  },
  {
   "cell_type": "code",
   "execution_count": 35,
   "id": "julian-batch",
   "metadata": {},
   "outputs": [],
   "source": [
    "def train_model(model, train, test, num_classes):\n",
    "    x_train = train[0].reshape((train[0].shape[0],) + input_shape)\n",
    "    x_test = test[0].reshape((test[0].shape[0],) + input_shape)\n",
    "    x_train = x_train.astype('float32')\n",
    "    x_test = x_test.astype('float32')\n",
    "    x_train /= 255\n",
    "    x_test /= 255\n",
    "    print('x_train shape:', x_train.shape)\n",
    "    print(x_train.shape[0], 'train samples')\n",
    "    print(x_test.shape[0], 'test samples')\n",
    "\n",
    "    # convert class vectors to binary class matrices\n",
    "    y_train = keras.utils.to_categorical(train[1], num_classes)\n",
    "    y_test = keras.utils.to_categorical(test[1], num_classes)\n",
    "\n",
    "    model.compile(loss='categorical_crossentropy',\n",
    "                  optimizer='adadelta',\n",
    "                  metrics=['accuracy'])\n",
    "\n",
    "    t = now()\n",
    "    run_hist = model.fit(x_train, y_train,\n",
    "              batch_size=batch_size,\n",
    "              epochs=epochs,\n",
    "              verbose=1,\n",
    "              validation_data=(x_test, y_test))\n",
    "    print('Training time: %s' % (now() - t))\n",
    "\n",
    "    score = model.evaluate(x_test, y_test, verbose=0)\n",
    "    print('Test score:', score[0])\n",
    "    print('Test accuracy:', score[1])\n",
    "\n",
    "    return run_hist"
   ]
  },
  {
   "cell_type": "markdown",
   "id": "monetary-final",
   "metadata": {},
   "source": [
    "Shuffle and split the data between train and test sets"
   ]
  },
  {
   "cell_type": "code",
   "execution_count": 5,
   "id": "hollywood-amendment",
   "metadata": {},
   "outputs": [],
   "source": [
    "\n",
    "(x_train, y_train), (x_test, y_test) = mnist.load_data()\n",
    "\n"
   ]
  },
  {
   "cell_type": "markdown",
   "id": "committed-bench",
   "metadata": {},
   "source": [
    "Create two datasets \n",
    "* one with digits below 5\n",
    "* one with 5 and above"
   ]
  },
  {
   "cell_type": "code",
   "execution_count": 6,
   "id": "lesser-bradley",
   "metadata": {},
   "outputs": [],
   "source": [
    "x_train_lt5 = x_train[y_train < 5]\n",
    "y_train_lt5 = y_train[y_train < 5]\n",
    "x_test_lt5 = x_test[y_test < 5]\n",
    "y_test_lt5 = y_test[y_test < 5]\n",
    "\n",
    "x_train_gte5 = x_train[y_train >= 5]\n",
    "y_train_gte5 = y_train[y_train >= 5] - 5\n",
    "x_test_gte5 = x_test[y_test >= 5]\n",
    "y_test_gte5 = y_test[y_test >= 5] - 5"
   ]
  },
  {
   "cell_type": "markdown",
   "id": "talented-scheme",
   "metadata": {},
   "source": [
    "* Define the feature layers that will used for transfer learning\n",
    "* Freeze these layers during fine-tuning process"
   ]
  },
  {
   "cell_type": "code",
   "execution_count": 7,
   "id": "ranging-neutral",
   "metadata": {},
   "outputs": [],
   "source": [
    "\n",
    "feature_layers = [\n",
    "    Conv2D(filters, kernel_size,\n",
    "           padding='valid',\n",
    "           input_shape=input_shape),\n",
    "    Activation('relu'),\n",
    "    Conv2D(filters, kernel_size),\n",
    "    Activation('relu'),\n",
    "    MaxPooling2D(pool_size=pool_size),\n",
    "    Dropout(0.25),\n",
    "    Flatten(),\n",
    "]"
   ]
  },
  {
   "cell_type": "markdown",
   "id": "bulgarian-accuracy",
   "metadata": {},
   "source": [
    "Define the classification layers"
   ]
  },
  {
   "cell_type": "code",
   "execution_count": 8,
   "id": "religious-timer",
   "metadata": {},
   "outputs": [],
   "source": [
    "\n",
    "\n",
    "classification_layers = [\n",
    "    Dense(128),\n",
    "    Activation('relu'),\n",
    "    Dropout(0.5),\n",
    "    Dense(num_classes),\n",
    "    Activation('softmax')\n",
    "]"
   ]
  },
  {
   "cell_type": "markdown",
   "id": "yellow-puzzle",
   "metadata": {},
   "source": [
    "Create a model by combining the feature layers and classification layers"
   ]
  },
  {
   "cell_type": "code",
   "execution_count": 9,
   "id": "governmental-portable",
   "metadata": {},
   "outputs": [],
   "source": [
    "\n",
    "model = Sequential(feature_layers + classification_layers)"
   ]
  },
  {
   "cell_type": "markdown",
   "id": "noticed-dairy",
   "metadata": {},
   "source": [
    "Check the model summary"
   ]
  },
  {
   "cell_type": "code",
   "execution_count": 10,
   "id": "correct-syria",
   "metadata": {},
   "outputs": [
    {
     "name": "stdout",
     "output_type": "stream",
     "text": [
      "Model: \"sequential\"\n",
      "_________________________________________________________________\n",
      " Layer (type)                Output Shape              Param #   \n",
      "=================================================================\n",
      " conv2d (Conv2D)             (None, 26, 26, 32)        320       \n",
      "                                                                 \n",
      " activation (Activation)     (None, 26, 26, 32)        0         \n",
      "                                                                 \n",
      " conv2d_1 (Conv2D)           (None, 24, 24, 32)        9248      \n",
      "                                                                 \n",
      " activation_1 (Activation)   (None, 24, 24, 32)        0         \n",
      "                                                                 \n",
      " max_pooling2d (MaxPooling2D  (None, 12, 12, 32)       0         \n",
      " )                                                               \n",
      "                                                                 \n",
      " dropout (Dropout)           (None, 12, 12, 32)        0         \n",
      "                                                                 \n",
      " flatten (Flatten)           (None, 4608)              0         \n",
      "                                                                 \n",
      " dense (Dense)               (None, 128)               589952    \n",
      "                                                                 \n",
      " activation_2 (Activation)   (None, 128)               0         \n",
      "                                                                 \n",
      " dropout_1 (Dropout)         (None, 128)               0         \n",
      "                                                                 \n",
      " dense_1 (Dense)             (None, 5)                 645       \n",
      "                                                                 \n",
      " activation_3 (Activation)   (None, 5)                 0         \n",
      "                                                                 \n",
      "=================================================================\n",
      "Total params: 600,165\n",
      "Trainable params: 600,165\n",
      "Non-trainable params: 0\n",
      "_________________________________________________________________\n"
     ]
    }
   ],
   "source": [
    "\n",
    "model.summary()"
   ]
  },
  {
   "cell_type": "markdown",
   "id": "productive-regular",
   "metadata": {},
   "source": [
    " Train the  model on the digits 5,6,7,8,9"
   ]
  },
  {
   "cell_type": "code",
   "execution_count": 11,
   "id": "distinct-ticket",
   "metadata": {},
   "outputs": [
    {
     "name": "stdout",
     "output_type": "stream",
     "text": [
      "x_train shape: (29404, 28, 28, 1)\n",
      "29404 train samples\n",
      "4861 test samples\n",
      "Epoch 1/5\n",
      "230/230 [==============================] - 4s 7ms/step - loss: 1.6230 - accuracy: 0.1766 - val_loss: 1.6055 - val_accuracy: 0.1851\n",
      "Epoch 2/5\n",
      "230/230 [==============================] - 1s 5ms/step - loss: 1.6002 - accuracy: 0.2351 - val_loss: 1.5799 - val_accuracy: 0.2929\n",
      "Epoch 3/5\n",
      "230/230 [==============================] - 1s 5ms/step - loss: 1.5765 - accuracy: 0.2960 - val_loss: 1.5529 - val_accuracy: 0.4769\n",
      "Epoch 4/5\n",
      "230/230 [==============================] - 1s 5ms/step - loss: 1.5508 - accuracy: 0.3633 - val_loss: 1.5233 - val_accuracy: 0.6172\n",
      "Epoch 5/5\n",
      "230/230 [==============================] - 1s 5ms/step - loss: 1.5226 - accuracy: 0.4245 - val_loss: 1.4901 - val_accuracy: 0.6768\n",
      "Training time: 0:00:09.342703\n",
      "Test score: 1.4900732040405273\n",
      "Test accuracy: 0.6768154501914978\n"
     ]
    }
   ],
   "source": [
    "train_model(model,\n",
    "            (x_train_gte5, y_train_gte5),\n",
    "            (x_test_gte5, y_test_gte5), num_classes)"
   ]
  },
  {
   "cell_type": "markdown",
   "id": "racial-emission",
   "metadata": {},
   "source": [
    "Freeze only the feature layers"
   ]
  },
  {
   "cell_type": "code",
   "execution_count": 12,
   "id": "violent-territory",
   "metadata": {},
   "outputs": [],
   "source": [
    "for l in feature_layers:\n",
    "    l.trainable = False"
   ]
  },
  {
   "cell_type": "markdown",
   "id": "continuous-injection",
   "metadata": {},
   "source": [
    "Check again the summary and observe the parameters from the previous model"
   ]
  },
  {
   "cell_type": "code",
   "execution_count": 13,
   "id": "sunset-manhattan",
   "metadata": {},
   "outputs": [
    {
     "name": "stdout",
     "output_type": "stream",
     "text": [
      "Model: \"sequential\"\n",
      "_________________________________________________________________\n",
      " Layer (type)                Output Shape              Param #   \n",
      "=================================================================\n",
      " conv2d (Conv2D)             (None, 26, 26, 32)        320       \n",
      "                                                                 \n",
      " activation (Activation)     (None, 26, 26, 32)        0         \n",
      "                                                                 \n",
      " conv2d_1 (Conv2D)           (None, 24, 24, 32)        9248      \n",
      "                                                                 \n",
      " activation_1 (Activation)   (None, 24, 24, 32)        0         \n",
      "                                                                 \n",
      " max_pooling2d (MaxPooling2D  (None, 12, 12, 32)       0         \n",
      " )                                                               \n",
      "                                                                 \n",
      " dropout (Dropout)           (None, 12, 12, 32)        0         \n",
      "                                                                 \n",
      " flatten (Flatten)           (None, 4608)              0         \n",
      "                                                                 \n",
      " dense (Dense)               (None, 128)               589952    \n",
      "                                                                 \n",
      " activation_2 (Activation)   (None, 128)               0         \n",
      "                                                                 \n",
      " dropout_1 (Dropout)         (None, 128)               0         \n",
      "                                                                 \n",
      " dense_1 (Dense)             (None, 5)                 645       \n",
      "                                                                 \n",
      " activation_3 (Activation)   (None, 5)                 0         \n",
      "                                                                 \n",
      "=================================================================\n",
      "Total params: 600,165\n",
      "Trainable params: 590,597\n",
      "Non-trainable params: 9,568\n",
      "_________________________________________________________________\n"
     ]
    }
   ],
   "source": [
    "model.summary()"
   ]
  },
  {
   "cell_type": "markdown",
   "id": "modern-carnival",
   "metadata": {},
   "source": [
    "Train again the model using the 0 to 4 digits"
   ]
  },
  {
   "cell_type": "code",
   "execution_count": 14,
   "id": "comprehensive-nurse",
   "metadata": {},
   "outputs": [
    {
     "name": "stdout",
     "output_type": "stream",
     "text": [
      "x_train shape: (30596, 28, 28, 1)\n",
      "30596 train samples\n",
      "5139 test samples\n",
      "Epoch 1/5\n",
      "240/240 [==============================] - 1s 5ms/step - loss: 1.5771 - accuracy: 0.3259 - val_loss: 1.5447 - val_accuracy: 0.5678\n",
      "Epoch 2/5\n",
      "240/240 [==============================] - 1s 4ms/step - loss: 1.5350 - accuracy: 0.4270 - val_loss: 1.5005 - val_accuracy: 0.6768\n",
      "Epoch 3/5\n",
      "240/240 [==============================] - 1s 4ms/step - loss: 1.4951 - accuracy: 0.5067 - val_loss: 1.4577 - val_accuracy: 0.7295\n",
      "Epoch 4/5\n",
      "240/240 [==============================] - 1s 4ms/step - loss: 1.4565 - accuracy: 0.5697 - val_loss: 1.4161 - val_accuracy: 0.7712\n",
      "Epoch 5/5\n",
      "240/240 [==============================] - 1s 4ms/step - loss: 1.4174 - accuracy: 0.6239 - val_loss: 1.3756 - val_accuracy: 0.8105\n",
      "Training time: 0:00:05.276840\n",
      "Test score: 1.375634789466858\n",
      "Test accuracy: 0.8104689717292786\n"
     ]
    }
   ],
   "source": [
    "train_model(model,\n",
    "            (x_train_lt5, y_train_lt5),\n",
    "            (x_test_lt5, y_test_lt5), num_classes)"
   ]
  },
  {
   "cell_type": "markdown",
   "id": "8b7cc14c",
   "metadata": {},
   "source": [
    "When training the numbers greater than or equal to 5, the initial accuracy at first epoch is at 20% and ends at fifth epoch having an accuracy of 65.21%. After freezing the models, this reduced the time needed to train the model again in learning numbers less than 5. Since the feature layers are frozen, the weights and biases will not be updated same during the training process of numbers less than 5. Transfer learning can improve generalization because of the learned features that is reused on unseen data such as on digits less than 5."
   ]
  },
  {
   "cell_type": "markdown",
   "id": "7bd0c702",
   "metadata": {},
   "source": [
    "![Features of MNIST handwritten dataset](https://www.researchgate.net/publication/334449142/figure/fig3/AS:962117259771913@1606398038769/Example-of-atomic-features-extracted-from-the-MNIST-handwritten-digits-dataset-46.png)"
   ]
  },
  {
   "cell_type": "markdown",
   "id": "88d12684",
   "metadata": {},
   "source": [
    "source: https://www.researchgate.net/figure/Example-of-atomic-features-extracted-from-the-MNIST-handwritten-digits-dataset-46_fig3_334449142"
   ]
  },
  {
   "cell_type": "markdown",
   "id": "a51eb4b8",
   "metadata": {},
   "source": [
    "- These are the sample features that are used when training digits from numbers greater than or equal to 5, which can also be **REUSED** in training for numbers less than 5"
   ]
  },
  {
   "cell_type": "markdown",
   "id": "numerical-integer",
   "metadata": {},
   "source": [
    "#### Supplementary Activity\n",
    "Now write code to reverse this training process. That is, you will train on the digits 0-4, and then finetune only the last layers on the digits 5-9."
   ]
  },
  {
   "cell_type": "code",
   "execution_count": 36,
   "id": "f6d7cb45",
   "metadata": {},
   "outputs": [
    {
     "name": "stdout",
     "output_type": "stream",
     "text": [
      "Model: \"sequential_5\"\n",
      "_________________________________________________________________\n",
      " Layer (type)                Output Shape              Param #   \n",
      "=================================================================\n",
      " conv2d_10 (Conv2D)          (None, 26, 26, 32)        320       \n",
      "                                                                 \n",
      " conv2d_11 (Conv2D)          (None, 24, 24, 32)        9248      \n",
      "                                                                 \n",
      " max_pooling2d_5 (MaxPooling  (None, 12, 12, 32)       0         \n",
      " 2D)                                                             \n",
      "                                                                 \n",
      " dropout_10 (Dropout)        (None, 12, 12, 32)        0         \n",
      "                                                                 \n"
     ]
    },
    {
     "name": "stdout",
     "output_type": "stream",
     "text": [
      " flatten_5 (Flatten)         (None, 4608)              0         \n",
      "                                                                 \n",
      " dense_10 (Dense)            (None, 128)               589952    \n",
      "                                                                 \n",
      " dropout_11 (Dropout)        (None, 128)               0         \n",
      "                                                                 \n",
      " dense_11 (Dense)            (None, 5)                 645       \n",
      "                                                                 \n",
      "=================================================================\n",
      "Total params: 600,165\n",
      "Trainable params: 600,165\n",
      "Non-trainable params: 0\n",
      "_________________________________________________________________\n"
     ]
    }
   ],
   "source": [
    "# create layers\n",
    "supple_layers = [\n",
    "    Conv2D(filters, kernel_size=kernel_size,\n",
    "        padding='valid', input_shape=input_shape, activation='relu'),\n",
    "    Conv2D(filters, kernel_size, activation='relu'),\n",
    "    MaxPooling2D(pool_size=pool_size),\n",
    "    Dropout(0.25),\n",
    "    Flatten()\n",
    "]\n",
    "\n",
    "# create classification layers\n",
    "supple_class_layers = [\n",
    "    Dense(128, activation='relu'),\n",
    "    Dropout(0.25),\n",
    "    Dense(num_classes, activation='softmax')  # output \n",
    "]\n",
    "\n",
    "# create model\n",
    "supple_model = Sequential(supple_layers + supple_class_layers)\n",
    "\n",
    "supple_model.summary()"
   ]
  },
  {
   "cell_type": "code",
   "execution_count": 38,
   "id": "33ace712",
   "metadata": {},
   "outputs": [
    {
     "name": "stdout",
     "output_type": "stream",
     "text": [
      "x_train shape: (30596, 28, 28, 1)\n",
      "30596 train samples\n",
      "5139 test samples\n",
      "Epoch 1/70\n",
      "240/240 [==============================] - 2s 6ms/step - loss: 0.1706 - accuracy: 0.9461 - val_loss: 0.1123 - val_accuracy: 0.9694\n",
      "Epoch 2/70\n",
      "240/240 [==============================] - 1s 6ms/step - loss: 0.1692 - accuracy: 0.9482 - val_loss: 0.1113 - val_accuracy: 0.9691\n",
      "Epoch 3/70\n",
      "240/240 [==============================] - 1s 6ms/step - loss: 0.1667 - accuracy: 0.9484 - val_loss: 0.1100 - val_accuracy: 0.9694\n",
      "Epoch 4/70\n",
      "240/240 [==============================] - 1s 6ms/step - loss: 0.1668 - accuracy: 0.9491 - val_loss: 0.1091 - val_accuracy: 0.9693\n",
      "Epoch 5/70\n",
      "240/240 [==============================] - 1s 6ms/step - loss: 0.1655 - accuracy: 0.9490 - val_loss: 0.1081 - val_accuracy: 0.9702\n",
      "Epoch 6/70\n",
      "240/240 [==============================] - 1s 5ms/step - loss: 0.1647 - accuracy: 0.9498 - val_loss: 0.1072 - val_accuracy: 0.9702\n",
      "Epoch 7/70\n",
      "240/240 [==============================] - 1s 5ms/step - loss: 0.1626 - accuracy: 0.9506 - val_loss: 0.1065 - val_accuracy: 0.9700\n",
      "Epoch 8/70\n",
      "240/240 [==============================] - 1s 6ms/step - loss: 0.1625 - accuracy: 0.9493 - val_loss: 0.1052 - val_accuracy: 0.9710\n",
      "Epoch 9/70\n",
      "240/240 [==============================] - 1s 6ms/step - loss: 0.1640 - accuracy: 0.9495 - val_loss: 0.1045 - val_accuracy: 0.9712\n",
      "Epoch 10/70\n",
      "240/240 [==============================] - 1s 5ms/step - loss: 0.1585 - accuracy: 0.9519 - val_loss: 0.1036 - val_accuracy: 0.9710\n",
      "Epoch 11/70\n",
      "240/240 [==============================] - 1s 6ms/step - loss: 0.1602 - accuracy: 0.9512 - val_loss: 0.1031 - val_accuracy: 0.9712\n",
      "Epoch 12/70\n",
      "240/240 [==============================] - 1s 6ms/step - loss: 0.1580 - accuracy: 0.9518 - val_loss: 0.1022 - val_accuracy: 0.9716\n",
      "Epoch 13/70\n",
      "240/240 [==============================] - 1s 6ms/step - loss: 0.1582 - accuracy: 0.9512 - val_loss: 0.1018 - val_accuracy: 0.9716\n",
      "Epoch 14/70\n",
      "240/240 [==============================] - 1s 6ms/step - loss: 0.1577 - accuracy: 0.9529 - val_loss: 0.1011 - val_accuracy: 0.9718\n",
      "Epoch 15/70\n",
      "240/240 [==============================] - 1s 5ms/step - loss: 0.1524 - accuracy: 0.9532 - val_loss: 0.1000 - val_accuracy: 0.9720\n",
      "Epoch 16/70\n",
      "240/240 [==============================] - 1s 6ms/step - loss: 0.1545 - accuracy: 0.9522 - val_loss: 0.0993 - val_accuracy: 0.9720\n",
      "Epoch 17/70\n",
      "240/240 [==============================] - 1s 5ms/step - loss: 0.1521 - accuracy: 0.9531 - val_loss: 0.0987 - val_accuracy: 0.9722\n",
      "Epoch 18/70\n",
      "240/240 [==============================] - 1s 5ms/step - loss: 0.1525 - accuracy: 0.9522 - val_loss: 0.0982 - val_accuracy: 0.9724\n",
      "Epoch 19/70\n",
      "240/240 [==============================] - 1s 5ms/step - loss: 0.1520 - accuracy: 0.9540 - val_loss: 0.0977 - val_accuracy: 0.9724\n",
      "Epoch 20/70\n",
      "240/240 [==============================] - 1s 5ms/step - loss: 0.1529 - accuracy: 0.9533 - val_loss: 0.0967 - val_accuracy: 0.9726\n",
      "Epoch 21/70\n",
      "240/240 [==============================] - 1s 5ms/step - loss: 0.1520 - accuracy: 0.9537 - val_loss: 0.0964 - val_accuracy: 0.9728\n",
      "Epoch 22/70\n",
      "240/240 [==============================] - 1s 6ms/step - loss: 0.1486 - accuracy: 0.9545 - val_loss: 0.0959 - val_accuracy: 0.9728\n",
      "Epoch 23/70\n",
      "240/240 [==============================] - 1s 5ms/step - loss: 0.1468 - accuracy: 0.9546 - val_loss: 0.0951 - val_accuracy: 0.9730\n",
      "Epoch 24/70\n",
      "240/240 [==============================] - 1s 5ms/step - loss: 0.1494 - accuracy: 0.9537 - val_loss: 0.0945 - val_accuracy: 0.9730\n",
      "Epoch 25/70\n",
      "240/240 [==============================] - 1s 5ms/step - loss: 0.1462 - accuracy: 0.9558 - val_loss: 0.0941 - val_accuracy: 0.9728\n",
      "Epoch 26/70\n",
      "240/240 [==============================] - 1s 5ms/step - loss: 0.1449 - accuracy: 0.9561 - val_loss: 0.0935 - val_accuracy: 0.9728\n",
      "Epoch 27/70\n",
      "240/240 [==============================] - 1s 5ms/step - loss: 0.1469 - accuracy: 0.9552 - val_loss: 0.0929 - val_accuracy: 0.9730\n",
      "Epoch 28/70\n",
      "240/240 [==============================] - 1s 5ms/step - loss: 0.1447 - accuracy: 0.9547 - val_loss: 0.0925 - val_accuracy: 0.9731\n",
      "Epoch 29/70\n",
      "240/240 [==============================] - 1s 5ms/step - loss: 0.1438 - accuracy: 0.9569 - val_loss: 0.0920 - val_accuracy: 0.9737\n",
      "Epoch 30/70\n",
      "240/240 [==============================] - 1s 6ms/step - loss: 0.1419 - accuracy: 0.9555 - val_loss: 0.0914 - val_accuracy: 0.9735\n",
      "Epoch 31/70\n",
      "240/240 [==============================] - 1s 5ms/step - loss: 0.1426 - accuracy: 0.9564 - val_loss: 0.0910 - val_accuracy: 0.9735\n",
      "Epoch 32/70\n",
      "240/240 [==============================] - 1s 5ms/step - loss: 0.1412 - accuracy: 0.9565 - val_loss: 0.0903 - val_accuracy: 0.9739\n",
      "Epoch 33/70\n",
      "240/240 [==============================] - 1s 5ms/step - loss: 0.1394 - accuracy: 0.9568 - val_loss: 0.0899 - val_accuracy: 0.9737\n",
      "Epoch 34/70\n",
      "240/240 [==============================] - 1s 5ms/step - loss: 0.1385 - accuracy: 0.9566 - val_loss: 0.0894 - val_accuracy: 0.9739\n",
      "Epoch 35/70\n",
      "240/240 [==============================] - 1s 5ms/step - loss: 0.1383 - accuracy: 0.9569 - val_loss: 0.0892 - val_accuracy: 0.9735\n",
      "Epoch 36/70\n",
      "240/240 [==============================] - 1s 5ms/step - loss: 0.1392 - accuracy: 0.9572 - val_loss: 0.0889 - val_accuracy: 0.9735\n",
      "Epoch 37/70\n",
      "240/240 [==============================] - 1s 5ms/step - loss: 0.1397 - accuracy: 0.9570 - val_loss: 0.0885 - val_accuracy: 0.9739\n",
      "Epoch 38/70\n",
      "240/240 [==============================] - 1s 5ms/step - loss: 0.1372 - accuracy: 0.9571 - val_loss: 0.0879 - val_accuracy: 0.9741\n",
      "Epoch 39/70\n",
      "240/240 [==============================] - 1s 5ms/step - loss: 0.1349 - accuracy: 0.9584 - val_loss: 0.0876 - val_accuracy: 0.9741\n",
      "Epoch 40/70\n",
      "240/240 [==============================] - 1s 6ms/step - loss: 0.1374 - accuracy: 0.9577 - val_loss: 0.0871 - val_accuracy: 0.9741\n",
      "Epoch 41/70\n",
      "240/240 [==============================] - 1s 6ms/step - loss: 0.1354 - accuracy: 0.9574 - val_loss: 0.0869 - val_accuracy: 0.9741\n",
      "Epoch 42/70\n",
      "240/240 [==============================] - 1s 5ms/step - loss: 0.1369 - accuracy: 0.9579 - val_loss: 0.0866 - val_accuracy: 0.9741\n",
      "Epoch 43/70\n",
      "240/240 [==============================] - 1s 6ms/step - loss: 0.1356 - accuracy: 0.9592 - val_loss: 0.0860 - val_accuracy: 0.9741\n",
      "Epoch 44/70\n",
      "240/240 [==============================] - 1s 5ms/step - loss: 0.1344 - accuracy: 0.9586 - val_loss: 0.0858 - val_accuracy: 0.9743\n",
      "Epoch 45/70\n",
      "240/240 [==============================] - 1s 6ms/step - loss: 0.1321 - accuracy: 0.9584 - val_loss: 0.0853 - val_accuracy: 0.9745\n",
      "Epoch 46/70\n",
      "240/240 [==============================] - 1s 6ms/step - loss: 0.1344 - accuracy: 0.9589 - val_loss: 0.0849 - val_accuracy: 0.9745\n",
      "Epoch 47/70\n",
      "240/240 [==============================] - 1s 5ms/step - loss: 0.1318 - accuracy: 0.9593 - val_loss: 0.0845 - val_accuracy: 0.9749\n",
      "Epoch 48/70\n",
      "240/240 [==============================] - 1s 6ms/step - loss: 0.1313 - accuracy: 0.9596 - val_loss: 0.0842 - val_accuracy: 0.9751\n",
      "Epoch 49/70\n",
      "240/240 [==============================] - 1s 6ms/step - loss: 0.1314 - accuracy: 0.9594 - val_loss: 0.0839 - val_accuracy: 0.9751\n",
      "Epoch 50/70\n",
      "240/240 [==============================] - 1s 6ms/step - loss: 0.1319 - accuracy: 0.9585 - val_loss: 0.0833 - val_accuracy: 0.9755\n",
      "Epoch 51/70\n",
      "240/240 [==============================] - 1s 6ms/step - loss: 0.1296 - accuracy: 0.9606 - val_loss: 0.0829 - val_accuracy: 0.9755\n",
      "Epoch 52/70\n",
      "240/240 [==============================] - 1s 5ms/step - loss: 0.1287 - accuracy: 0.9589 - val_loss: 0.0825 - val_accuracy: 0.9755\n",
      "Epoch 53/70\n",
      "240/240 [==============================] - 1s 6ms/step - loss: 0.1312 - accuracy: 0.9599 - val_loss: 0.0822 - val_accuracy: 0.9753\n",
      "Epoch 54/70\n",
      "240/240 [==============================] - 2s 7ms/step - loss: 0.1290 - accuracy: 0.9599 - val_loss: 0.0818 - val_accuracy: 0.9757\n",
      "Epoch 55/70\n",
      "240/240 [==============================] - 1s 6ms/step - loss: 0.1266 - accuracy: 0.9609 - val_loss: 0.0816 - val_accuracy: 0.9757\n",
      "Epoch 56/70\n",
      "240/240 [==============================] - 1s 6ms/step - loss: 0.1276 - accuracy: 0.9610 - val_loss: 0.0811 - val_accuracy: 0.9765\n",
      "Epoch 57/70\n",
      "240/240 [==============================] - 1s 6ms/step - loss: 0.1289 - accuracy: 0.9607 - val_loss: 0.0809 - val_accuracy: 0.9761\n",
      "Epoch 58/70\n",
      "240/240 [==============================] - 1s 6ms/step - loss: 0.1273 - accuracy: 0.9605 - val_loss: 0.0806 - val_accuracy: 0.9761\n",
      "Epoch 59/70\n",
      "240/240 [==============================] - 2s 6ms/step - loss: 0.1286 - accuracy: 0.9604 - val_loss: 0.0802 - val_accuracy: 0.9761\n",
      "Epoch 60/70\n",
      "240/240 [==============================] - 2s 6ms/step - loss: 0.1284 - accuracy: 0.9611 - val_loss: 0.0798 - val_accuracy: 0.9765\n",
      "Epoch 61/70\n",
      "240/240 [==============================] - 2s 7ms/step - loss: 0.1270 - accuracy: 0.9609 - val_loss: 0.0797 - val_accuracy: 0.9761\n",
      "Epoch 62/70\n",
      "240/240 [==============================] - 1s 6ms/step - loss: 0.1253 - accuracy: 0.9620 - val_loss: 0.0794 - val_accuracy: 0.9765\n",
      "Epoch 63/70\n",
      "240/240 [==============================] - 1s 5ms/step - loss: 0.1242 - accuracy: 0.9619 - val_loss: 0.0790 - val_accuracy: 0.9765\n",
      "Epoch 64/70\n",
      "240/240 [==============================] - 1s 5ms/step - loss: 0.1269 - accuracy: 0.9606 - val_loss: 0.0787 - val_accuracy: 0.9765\n",
      "Epoch 65/70\n",
      "240/240 [==============================] - 1s 5ms/step - loss: 0.1246 - accuracy: 0.9613 - val_loss: 0.0786 - val_accuracy: 0.9765\n",
      "Epoch 66/70\n",
      "240/240 [==============================] - 1s 5ms/step - loss: 0.1252 - accuracy: 0.9613 - val_loss: 0.0784 - val_accuracy: 0.9763\n",
      "Epoch 67/70\n",
      "240/240 [==============================] - 1s 5ms/step - loss: 0.1258 - accuracy: 0.9602 - val_loss: 0.0778 - val_accuracy: 0.9766\n",
      "Epoch 68/70\n",
      "240/240 [==============================] - 1s 5ms/step - loss: 0.1228 - accuracy: 0.9627 - val_loss: 0.0777 - val_accuracy: 0.9766\n",
      "Epoch 69/70\n",
      "240/240 [==============================] - 1s 5ms/step - loss: 0.1250 - accuracy: 0.9615 - val_loss: 0.0774 - val_accuracy: 0.9765\n",
      "Epoch 70/70\n",
      "240/240 [==============================] - 1s 5ms/step - loss: 0.1238 - accuracy: 0.9610 - val_loss: 0.0770 - val_accuracy: 0.9768\n",
      "Training time: 0:01:34.213768\n",
      "Test score: 0.07699041813611984\n",
      "Test accuracy: 0.9768437147140503\n"
     ]
    }
   ],
   "source": [
    "# train on digits 0-4\n",
    "lt4_hist = train_model(supple_model, (x_train_lt5, y_train_lt5),\n",
    "            (x_test_lt5, y_test_lt5), num_classes)"
   ]
  },
  {
   "cell_type": "code",
   "execution_count": 39,
   "id": "cb829508",
   "metadata": {},
   "outputs": [],
   "source": [
    "# Freeze layers for digits 5-9\n",
    "for l in supple_layers:\n",
    "    l.trainable = False"
   ]
  },
  {
   "cell_type": "code",
   "execution_count": 40,
   "id": "5dc420a4",
   "metadata": {},
   "outputs": [
    {
     "name": "stdout",
     "output_type": "stream",
     "text": [
      "Model: \"sequential_5\"\n",
      "_________________________________________________________________\n",
      " Layer (type)                Output Shape              Param #   \n",
      "=================================================================\n",
      " conv2d_10 (Conv2D)          (None, 26, 26, 32)        320       \n",
      "                                                                 \n",
      " conv2d_11 (Conv2D)          (None, 24, 24, 32)        9248      \n",
      "                                                                 \n",
      " max_pooling2d_5 (MaxPooling  (None, 12, 12, 32)       0         \n",
      " 2D)                                                             \n",
      "                                                                 \n",
      " dropout_10 (Dropout)        (None, 12, 12, 32)        0         \n",
      "                                                                 \n",
      " flatten_5 (Flatten)         (None, 4608)              0         \n",
      "                                                                 \n",
      " dense_10 (Dense)            (None, 128)               589952    \n",
      "                                                                 \n",
      " dropout_11 (Dropout)        (None, 128)               0         \n",
      "                                                                 \n",
      " dense_11 (Dense)            (None, 5)                 645       \n",
      "                                                                 \n",
      "=================================================================\n",
      "Total params: 600,165\n",
      "Trainable params: 590,597\n",
      "Non-trainable params: 9,568\n",
      "_________________________________________________________________\n"
     ]
    }
   ],
   "source": [
    "supple_model.summary()"
   ]
  },
  {
   "cell_type": "code",
   "execution_count": 41,
   "id": "8cd39c6f",
   "metadata": {},
   "outputs": [
    {
     "name": "stdout",
     "output_type": "stream",
     "text": [
      "x_train shape: (29404, 28, 28, 1)\n",
      "29404 train samples\n",
      "4861 test samples\n",
      "Epoch 1/70\n",
      "230/230 [==============================] - 1s 4ms/step - loss: 3.1200 - accuracy: 0.3403 - val_loss: 2.8195 - val_accuracy: 0.3748\n",
      "Epoch 2/70\n",
      "230/230 [==============================] - 1s 4ms/step - loss: 2.5400 - accuracy: 0.3594 - val_loss: 2.2164 - val_accuracy: 0.3940\n",
      "Epoch 3/70\n",
      "230/230 [==============================] - 1s 4ms/step - loss: 2.0449 - accuracy: 0.3933 - val_loss: 1.7323 - val_accuracy: 0.4349\n",
      "Epoch 4/70\n",
      "230/230 [==============================] - 1s 4ms/step - loss: 1.6687 - accuracy: 0.4381 - val_loss: 1.3890 - val_accuracy: 0.5028\n",
      "Epoch 5/70\n",
      "230/230 [==============================] - 1s 4ms/step - loss: 1.3993 - accuracy: 0.4970 - val_loss: 1.1584 - val_accuracy: 0.5748\n",
      "Epoch 6/70\n",
      "230/230 [==============================] - 1s 4ms/step - loss: 1.2074 - accuracy: 0.5588 - val_loss: 1.0026 - val_accuracy: 0.6392\n",
      "Epoch 7/70\n",
      "230/230 [==============================] - 1s 4ms/step - loss: 1.0734 - accuracy: 0.6096 - val_loss: 0.8911 - val_accuracy: 0.6929\n",
      "Epoch 8/70\n",
      "230/230 [==============================] - 1s 4ms/step - loss: 0.9705 - accuracy: 0.6528 - val_loss: 0.8066 - val_accuracy: 0.7305\n",
      "Epoch 9/70\n",
      "230/230 [==============================] - 1s 4ms/step - loss: 0.8866 - accuracy: 0.6858 - val_loss: 0.7393 - val_accuracy: 0.7538\n",
      "Epoch 10/70\n",
      "230/230 [==============================] - 1s 4ms/step - loss: 0.8181 - accuracy: 0.7155 - val_loss: 0.6848 - val_accuracy: 0.7743\n",
      "Epoch 11/70\n",
      "230/230 [==============================] - 1s 4ms/step - loss: 0.7697 - accuracy: 0.7366 - val_loss: 0.6398 - val_accuracy: 0.7928\n",
      "Epoch 12/70\n",
      "230/230 [==============================] - 1s 4ms/step - loss: 0.7237 - accuracy: 0.7554 - val_loss: 0.6019 - val_accuracy: 0.8087\n",
      "Epoch 13/70\n",
      "230/230 [==============================] - 1s 4ms/step - loss: 0.6806 - accuracy: 0.7722 - val_loss: 0.5693 - val_accuracy: 0.8221\n",
      "Epoch 14/70\n",
      "230/230 [==============================] - 1s 4ms/step - loss: 0.6472 - accuracy: 0.7823 - val_loss: 0.5410 - val_accuracy: 0.8350\n",
      "Epoch 15/70\n",
      "230/230 [==============================] - 1s 4ms/step - loss: 0.6235 - accuracy: 0.7931 - val_loss: 0.5164 - val_accuracy: 0.8467\n",
      "Epoch 16/70\n",
      "230/230 [==============================] - 1s 4ms/step - loss: 0.5927 - accuracy: 0.8028 - val_loss: 0.4939 - val_accuracy: 0.8541\n",
      "Epoch 17/70\n",
      "230/230 [==============================] - 1s 4ms/step - loss: 0.5708 - accuracy: 0.8115 - val_loss: 0.4737 - val_accuracy: 0.8593\n",
      "Epoch 18/70\n",
      "230/230 [==============================] - 1s 4ms/step - loss: 0.5504 - accuracy: 0.8200 - val_loss: 0.4556 - val_accuracy: 0.8669\n",
      "Epoch 19/70\n",
      "230/230 [==============================] - 1s 4ms/step - loss: 0.5308 - accuracy: 0.8272 - val_loss: 0.4392 - val_accuracy: 0.8710\n",
      "Epoch 20/70\n",
      "230/230 [==============================] - 1s 4ms/step - loss: 0.5118 - accuracy: 0.8349 - val_loss: 0.4242 - val_accuracy: 0.8753\n",
      "Epoch 21/70\n",
      "230/230 [==============================] - 1s 4ms/step - loss: 0.4975 - accuracy: 0.8402 - val_loss: 0.4107 - val_accuracy: 0.8790\n",
      "Epoch 22/70\n",
      "230/230 [==============================] - 1s 4ms/step - loss: 0.4813 - accuracy: 0.8429 - val_loss: 0.3985 - val_accuracy: 0.8825\n",
      "Epoch 23/70\n",
      "230/230 [==============================] - 1s 4ms/step - loss: 0.4689 - accuracy: 0.8497 - val_loss: 0.3871 - val_accuracy: 0.8852\n",
      "Epoch 24/70\n",
      "230/230 [==============================] - 1s 4ms/step - loss: 0.4578 - accuracy: 0.8552 - val_loss: 0.3769 - val_accuracy: 0.8871\n",
      "Epoch 25/70\n",
      "230/230 [==============================] - 1s 4ms/step - loss: 0.4472 - accuracy: 0.8576 - val_loss: 0.3674 - val_accuracy: 0.8904\n",
      "Epoch 26/70\n",
      "230/230 [==============================] - 1s 4ms/step - loss: 0.4366 - accuracy: 0.8607 - val_loss: 0.3585 - val_accuracy: 0.8928\n",
      "Epoch 27/70\n",
      "230/230 [==============================] - 1s 4ms/step - loss: 0.4257 - accuracy: 0.8648 - val_loss: 0.3502 - val_accuracy: 0.8949\n",
      "Epoch 28/70\n",
      "230/230 [==============================] - 1s 4ms/step - loss: 0.4178 - accuracy: 0.8669 - val_loss: 0.3426 - val_accuracy: 0.8973\n",
      "Epoch 29/70\n",
      "230/230 [==============================] - 1s 4ms/step - loss: 0.4102 - accuracy: 0.8678 - val_loss: 0.3354 - val_accuracy: 0.8998\n",
      "Epoch 30/70\n",
      "230/230 [==============================] - 1s 4ms/step - loss: 0.4016 - accuracy: 0.8724 - val_loss: 0.3286 - val_accuracy: 0.9025\n",
      "Epoch 31/70\n",
      "230/230 [==============================] - 1s 4ms/step - loss: 0.3968 - accuracy: 0.8740 - val_loss: 0.3224 - val_accuracy: 0.9043\n",
      "Epoch 32/70\n",
      "230/230 [==============================] - 1s 4ms/step - loss: 0.3853 - accuracy: 0.8794 - val_loss: 0.3165 - val_accuracy: 0.9052\n",
      "Epoch 33/70\n",
      "230/230 [==============================] - 1s 4ms/step - loss: 0.3782 - accuracy: 0.8822 - val_loss: 0.3108 - val_accuracy: 0.9080\n",
      "Epoch 34/70\n",
      "230/230 [==============================] - 1s 5ms/step - loss: 0.3716 - accuracy: 0.8819 - val_loss: 0.3053 - val_accuracy: 0.9095\n",
      "Epoch 35/70\n",
      "230/230 [==============================] - 1s 4ms/step - loss: 0.3658 - accuracy: 0.8852 - val_loss: 0.3004 - val_accuracy: 0.9115\n",
      "Epoch 36/70\n",
      "230/230 [==============================] - 1s 5ms/step - loss: 0.3602 - accuracy: 0.8876 - val_loss: 0.2955 - val_accuracy: 0.9124\n",
      "Epoch 37/70\n",
      "230/230 [==============================] - 1s 5ms/step - loss: 0.3584 - accuracy: 0.8863 - val_loss: 0.2910 - val_accuracy: 0.9132\n",
      "Epoch 38/70\n",
      "230/230 [==============================] - 1s 4ms/step - loss: 0.3511 - accuracy: 0.8894 - val_loss: 0.2866 - val_accuracy: 0.9157\n",
      "Epoch 39/70\n",
      "230/230 [==============================] - 1s 4ms/step - loss: 0.3471 - accuracy: 0.8903 - val_loss: 0.2825 - val_accuracy: 0.9167\n",
      "Epoch 40/70\n",
      "230/230 [==============================] - 1s 4ms/step - loss: 0.3408 - accuracy: 0.8946 - val_loss: 0.2787 - val_accuracy: 0.9181\n",
      "Epoch 41/70\n",
      "230/230 [==============================] - 1s 5ms/step - loss: 0.3372 - accuracy: 0.8942 - val_loss: 0.2749 - val_accuracy: 0.9187\n",
      "Epoch 42/70\n",
      "230/230 [==============================] - 1s 4ms/step - loss: 0.3344 - accuracy: 0.8946 - val_loss: 0.2713 - val_accuracy: 0.9187\n",
      "Epoch 43/70\n",
      "230/230 [==============================] - 1s 4ms/step - loss: 0.3287 - accuracy: 0.8961 - val_loss: 0.2681 - val_accuracy: 0.9196\n",
      "Epoch 44/70\n",
      "230/230 [==============================] - 1s 4ms/step - loss: 0.3255 - accuracy: 0.8989 - val_loss: 0.2648 - val_accuracy: 0.9198\n",
      "Epoch 45/70\n",
      "230/230 [==============================] - 1s 4ms/step - loss: 0.3218 - accuracy: 0.8999 - val_loss: 0.2615 - val_accuracy: 0.9214\n",
      "Epoch 46/70\n",
      "230/230 [==============================] - 1s 4ms/step - loss: 0.3175 - accuracy: 0.9010 - val_loss: 0.2585 - val_accuracy: 0.9222\n",
      "Epoch 47/70\n",
      "230/230 [==============================] - 1s 4ms/step - loss: 0.3144 - accuracy: 0.9016 - val_loss: 0.2556 - val_accuracy: 0.9224\n",
      "Epoch 48/70\n",
      "230/230 [==============================] - 1s 4ms/step - loss: 0.3081 - accuracy: 0.9059 - val_loss: 0.2529 - val_accuracy: 0.9229\n",
      "Epoch 49/70\n",
      "230/230 [==============================] - 1s 4ms/step - loss: 0.3077 - accuracy: 0.9034 - val_loss: 0.2501 - val_accuracy: 0.9229\n",
      "Epoch 50/70\n",
      "230/230 [==============================] - 1s 4ms/step - loss: 0.3025 - accuracy: 0.9059 - val_loss: 0.2475 - val_accuracy: 0.9237\n",
      "Epoch 51/70\n",
      "230/230 [==============================] - 1s 4ms/step - loss: 0.2997 - accuracy: 0.9067 - val_loss: 0.2450 - val_accuracy: 0.9239\n",
      "Epoch 52/70\n",
      "230/230 [==============================] - 1s 4ms/step - loss: 0.2968 - accuracy: 0.9066 - val_loss: 0.2425 - val_accuracy: 0.9253\n",
      "Epoch 53/70\n",
      "230/230 [==============================] - 1s 4ms/step - loss: 0.2953 - accuracy: 0.9057 - val_loss: 0.2401 - val_accuracy: 0.9255\n",
      "Epoch 54/70\n",
      "230/230 [==============================] - 1s 4ms/step - loss: 0.2931 - accuracy: 0.9076 - val_loss: 0.2380 - val_accuracy: 0.9264\n",
      "Epoch 55/70\n",
      "230/230 [==============================] - 1s 4ms/step - loss: 0.2897 - accuracy: 0.9097 - val_loss: 0.2357 - val_accuracy: 0.9272\n",
      "Epoch 56/70\n",
      "230/230 [==============================] - 1s 4ms/step - loss: 0.2852 - accuracy: 0.9115 - val_loss: 0.2336 - val_accuracy: 0.9278\n",
      "Epoch 57/70\n",
      "230/230 [==============================] - 1s 4ms/step - loss: 0.2874 - accuracy: 0.9095 - val_loss: 0.2315 - val_accuracy: 0.9284\n",
      "Epoch 58/70\n",
      "230/230 [==============================] - 1s 4ms/step - loss: 0.2826 - accuracy: 0.9133 - val_loss: 0.2295 - val_accuracy: 0.9290\n",
      "Epoch 59/70\n",
      "230/230 [==============================] - 1s 4ms/step - loss: 0.2830 - accuracy: 0.9112 - val_loss: 0.2278 - val_accuracy: 0.9294\n",
      "Epoch 60/70\n",
      "230/230 [==============================] - 1s 4ms/step - loss: 0.2798 - accuracy: 0.9136 - val_loss: 0.2259 - val_accuracy: 0.9294\n",
      "Epoch 61/70\n",
      "230/230 [==============================] - 1s 4ms/step - loss: 0.2768 - accuracy: 0.9131 - val_loss: 0.2239 - val_accuracy: 0.9296\n",
      "Epoch 62/70\n",
      "230/230 [==============================] - 1s 4ms/step - loss: 0.2721 - accuracy: 0.9154 - val_loss: 0.2222 - val_accuracy: 0.9298\n",
      "Epoch 63/70\n",
      "230/230 [==============================] - 1s 4ms/step - loss: 0.2708 - accuracy: 0.9144 - val_loss: 0.2206 - val_accuracy: 0.9305\n",
      "Epoch 64/70\n",
      "230/230 [==============================] - 1s 4ms/step - loss: 0.2689 - accuracy: 0.9172 - val_loss: 0.2190 - val_accuracy: 0.9315\n",
      "Epoch 65/70\n",
      "230/230 [==============================] - 1s 5ms/step - loss: 0.2689 - accuracy: 0.9164 - val_loss: 0.2174 - val_accuracy: 0.9315\n",
      "Epoch 66/70\n",
      "230/230 [==============================] - 1s 4ms/step - loss: 0.2642 - accuracy: 0.9176 - val_loss: 0.2158 - val_accuracy: 0.9329\n",
      "Epoch 67/70\n",
      "230/230 [==============================] - 1s 5ms/step - loss: 0.2624 - accuracy: 0.9186 - val_loss: 0.2142 - val_accuracy: 0.9331\n",
      "Epoch 68/70\n",
      "230/230 [==============================] - 1s 5ms/step - loss: 0.2657 - accuracy: 0.9168 - val_loss: 0.2126 - val_accuracy: 0.9340\n",
      "Epoch 69/70\n",
      "230/230 [==============================] - 1s 4ms/step - loss: 0.2575 - accuracy: 0.9190 - val_loss: 0.2113 - val_accuracy: 0.9331\n",
      "Epoch 70/70\n",
      "230/230 [==============================] - 1s 4ms/step - loss: 0.2603 - accuracy: 0.9192 - val_loss: 0.2098 - val_accuracy: 0.9344\n",
      "Training time: 0:01:06.449579\n",
      "Test score: 0.20982804894447327\n",
      "Test accuracy: 0.9343756437301636\n"
     ]
    }
   ],
   "source": [
    "# train digits 5-9\n",
    "gte5_hist = train_model(supple_model, (x_train_gte5, y_train_gte5),\n",
    "            (x_test_gte5, y_test_gte5), num_classes=num_classes)"
   ]
  },
  {
   "cell_type": "markdown",
   "id": "8b496051",
   "metadata": {},
   "source": [
    "### Visualize loss and accuracy of model training digits 5-9"
   ]
  },
  {
   "cell_type": "code",
   "execution_count": 42,
   "id": "ae0066c4",
   "metadata": {},
   "outputs": [
    {
     "data": {
      "image/png": "[encoded data removed]",
      "text/plain": [
       "<Figure size 640x480 with 1 Axes>"
      ]
     },
     "metadata": {},
     "output_type": "display_data"
    },
    {
     "ename": "NameError",
     "evalue": "name 'np' is not defined",
     "output_type": "error",
     "traceback": [
      "\u001b[1;31m---------------------------------------------------------------------------\u001b[0m",
      "\u001b[1;31mNameError\u001b[0m                                 Traceback (most recent call last)",
      "\u001b[1;32m~\\AppData\\Local\\Temp\\ipykernel_30924\\2024434171.py\u001b[0m in \u001b[0;36m<module>\u001b[1;34m\u001b[0m\n\u001b[0;32m      1\u001b[0m \u001b[1;32mfrom\u001b[0m \u001b[0mplot\u001b[0m \u001b[1;32mimport\u001b[0m \u001b[0mplot_training_history\u001b[0m\u001b[1;33m\u001b[0m\u001b[1;33m\u001b[0m\u001b[0m\n\u001b[0;32m      2\u001b[0m \u001b[1;33m\u001b[0m\u001b[0m\n\u001b[1;32m----> 3\u001b[1;33m \u001b[0mplot_training_history\u001b[0m\u001b[1;33m(\u001b[0m\u001b[0mgte5_hist\u001b[0m\u001b[1;33m)\u001b[0m\u001b[1;33m\u001b[0m\u001b[1;33m\u001b[0m\u001b[0m\n\u001b[0m",
      "\u001b[1;32mc:\\Users\\spenc\\projects\\CPE-313---Activities\\plot.py\u001b[0m in \u001b[0;36mplot_training_history\u001b[1;34m(history)\u001b[0m\n\u001b[0;32m     18\u001b[0m     \u001b[0mplt\u001b[0m\u001b[1;33m.\u001b[0m\u001b[0mylabel\u001b[0m\u001b[1;33m(\u001b[0m\u001b[1;34m'Accuracy'\u001b[0m\u001b[1;33m)\u001b[0m\u001b[1;33m\u001b[0m\u001b[1;33m\u001b[0m\u001b[0m\n\u001b[0;32m     19\u001b[0m     \u001b[0mplt\u001b[0m\u001b[1;33m.\u001b[0m\u001b[0mlegend\u001b[0m\u001b[1;33m(\u001b[0m\u001b[1;33m[\u001b[0m\u001b[1;34m'Train'\u001b[0m\u001b[1;33m,\u001b[0m \u001b[1;34m'Test'\u001b[0m\u001b[1;33m]\u001b[0m\u001b[1;33m,\u001b[0m \u001b[0mloc\u001b[0m\u001b[1;33m=\u001b[0m\u001b[1;34m'center right'\u001b[0m\u001b[1;33m)\u001b[0m\u001b[1;33m\u001b[0m\u001b[1;33m\u001b[0m\u001b[0m\n\u001b[1;32m---> 20\u001b[1;33m     \u001b[0mplt\u001b[0m\u001b[1;33m.\u001b[0m\u001b[0myticks\u001b[0m\u001b[1;33m(\u001b[0m\u001b[0mnp\u001b[0m\u001b[1;33m.\u001b[0m\u001b[0marange\u001b[0m\u001b[1;33m(\u001b[0m\u001b[1;36m0\u001b[0m\u001b[1;33m,\u001b[0m \u001b[1;36m1.1\u001b[0m\u001b[1;33m,\u001b[0m \u001b[1;36m0.1\u001b[0m\u001b[1;33m)\u001b[0m\u001b[1;33m)\u001b[0m\u001b[1;33m\u001b[0m\u001b[1;33m\u001b[0m\u001b[0m\n\u001b[0m\u001b[0;32m     21\u001b[0m     \u001b[0mplt\u001b[0m\u001b[1;33m.\u001b[0m\u001b[0mshow\u001b[0m\u001b[1;33m(\u001b[0m\u001b[1;33m)\u001b[0m\u001b[1;33m\u001b[0m\u001b[1;33m\u001b[0m\u001b[0m\n",
      "\u001b[1;31mNameError\u001b[0m: name 'np' is not defined"
     ]
    },
    {
     "data": {
      "image/png": "[encoded data removed]",
      "text/plain": [
       "<Figure size 640x480 with 1 Axes>"
      ]
     },
     "metadata": {},
     "output_type": "display_data"
    }
   ],
   "source": [
    "from plot import plot_training_history\n",
    "\n",
    "plot_training_history(gte5_hist)"
   ]
  },
  {
   "cell_type": "markdown",
   "id": "25e58190",
   "metadata": {},
   "source": [
    "Since the number of epochs is 5, this provides low performance as it can further increase as the performance graph shows no signs of performance being constant."
   ]
  },
  {
   "cell_type": "markdown",
   "id": "cardiovascular-sapphire",
   "metadata": {},
   "source": [
    "#### Conclusion"
   ]
  },
  {
   "cell_type": "markdown",
   "id": "conditional-prerequisite",
   "metadata": {},
   "source": [
    "- Transfer learning can be used to reuse the pre-trained model on solving tasks with similar features on pre-trained model. This improves generalization as it already learns the features like edges, shapes and textures. Since there is no need to train on solving a new problem, training time is reduced as the model does not need to learn the features again back from scratch."
   ]
  },
  {
   "cell_type": "code",
   "execution_count": null,
   "id": "8bf41325",
   "metadata": {},
   "outputs": [],
   "source": []
  }
 ],
 "metadata": {
  "kernelspec": {
   "display_name": "Python 3",
   "language": "python",
   "name": "python3"
  },
  "language_info": {
   "codemirror_mode": {
    "name": "ipython",
    "version": 3
   },
   "file_extension": ".py",
   "mimetype": "text/x-python",
   "name": "python",
   "nbconvert_exporter": "python",
   "pygments_lexer": "ipython3",
   "version": "3.7.16"
  }
 },
 "nbformat": 4,
 "nbformat_minor": 5
}
