{
 "cells": [
  {
   "cell_type": "markdown",
   "id": "historic-trainer",
   "metadata": {},
   "source": [
    "# Activity 2.1 : Convolutional Neural Network"
   ]
  },
  {
   "cell_type": "markdown",
   "id": "olive-manner",
   "metadata": {},
   "source": [
    "#### Objective(s):\n",
    "\n",
    "This activity aims to introduce how to build a convolutional neural network"
   ]
  },
  {
   "cell_type": "markdown",
   "id": "happy-transport",
   "metadata": {},
   "source": [
    "#### Intended Learning Outcomes (ILOs):\n",
    "* Demonstrate how to build and train convolutional neural network \n",
    "* Evaluate the accuracy and loss of the model using convolutional neural network"
   ]
  },
  {
   "cell_type": "markdown",
   "id": "leading-providence",
   "metadata": {},
   "source": [
    "#### Resources:\n",
    "* Jupyter Notebook\n",
    "* CIFAR-10 dataset"
   ]
  },
  {
   "cell_type": "markdown",
   "id": "literary-trail",
   "metadata": {},
   "source": [
    "#### Procedures\n",
    "Load the necessary libraries"
   ]
  },
  {
   "cell_type": "code",
   "execution_count": 1,
   "id": "stretch-active",
   "metadata": {},
   "outputs": [],
   "source": [
    "from __future__ import print_function\n",
    "import keras\n",
    "from keras.datasets import cifar10\n",
    "from keras.preprocessing.image import ImageDataGenerator\n",
    "from keras.models import Sequential\n",
    "from keras.layers import Dense, Dropout, Activation, Flatten, BatchNormalization\n",
    "from keras.layers import Conv2D, MaxPooling2D\n",
    "from tensorflow.keras.callbacks import EarlyStopping\n",
    "\n",
    "import matplotlib.pyplot as plt\n",
    "%matplotlib inline"
   ]
  },
  {
   "cell_type": "code",
   "execution_count": 2,
   "id": "fad7f50b",
   "metadata": {},
   "outputs": [
    {
     "data": {
      "text/plain": [
       "[PhysicalDevice(name='/physical_device:GPU:0', device_type='GPU')]"
      ]
     },
     "execution_count": 2,
     "metadata": {},
     "output_type": "execute_result"
    }
   ],
   "source": [
    "import tensorflow as tf\n",
    "tf.config.list_physical_devices('GPU')\n",
    "# output: []"
   ]
  },
  {
   "cell_type": "markdown",
   "id": "collaborative-seating",
   "metadata": {},
   "source": [
    "* Shuffle the data\n",
    "* Split the data into train and test sets"
   ]
  },
  {
   "cell_type": "code",
   "execution_count": 3,
   "id": "modular-springer",
   "metadata": {},
   "outputs": [
    {
     "name": "stdout",
     "output_type": "stream",
     "text": [
      "x_train shape: (50000, 32, 32, 3)\n",
      "50000 train samples\n",
      "10000 test samples\n"
     ]
    }
   ],
   "source": [
    "\n",
    "(x_train, y_train), (x_test, y_test) = cifar10.load_data()\n",
    "print('x_train shape:', x_train.shape)\n",
    "print(x_train.shape[0], 'train samples')\n",
    "print(x_test.shape[0], 'test samples')"
   ]
  },
  {
   "cell_type": "markdown",
   "id": "female-carolina",
   "metadata": {},
   "source": [
    "Check the image size"
   ]
  },
  {
   "cell_type": "code",
   "execution_count": 4,
   "id": "alleged-stephen",
   "metadata": {},
   "outputs": [
    {
     "data": {
      "text/plain": [
       "(32, 32, 3)"
      ]
     },
     "execution_count": 4,
     "metadata": {},
     "output_type": "execute_result"
    }
   ],
   "source": [
    "\n",
    "x_train[444].shape"
   ]
  },
  {
   "cell_type": "markdown",
   "id": "conscious-twenty",
   "metadata": {},
   "source": [
    "Visualize one of the images"
   ]
  },
  {
   "cell_type": "code",
   "execution_count": 5,
   "id": "positive-creation",
   "metadata": {},
   "outputs": [
    {
     "name": "stdout",
     "output_type": "stream",
     "text": [
      "[9]\n"
     ]
    },
    {
     "data": {
      "text/plain": [
       "<matplotlib.image.AxesImage at 0x1e689012b08>"
      ]
     },
     "execution_count": 5,
     "metadata": {},
     "output_type": "execute_result"
    },
    {
     "data": {
      "image/png": "[encoded data removed]",
      "text/plain": [
       "<Figure size 640x480 with 1 Axes>"
      ]
     },
     "metadata": {},
     "output_type": "display_data"
    }
   ],
   "source": [
    "print(y_train[444])\n",
    "plt.imshow(x_train[444])"
   ]
  },
  {
   "cell_type": "code",
   "execution_count": 6,
   "id": "animated-rotation",
   "metadata": {},
   "outputs": [],
   "source": [
    "num_classes = 10\n",
    "\n",
    "y_train = keras.utils.to_categorical(y_train, num_classes)\n",
    "y_test = keras.utils.to_categorical(y_test, num_classes)"
   ]
  },
  {
   "cell_type": "markdown",
   "id": "severe-filing",
   "metadata": {},
   "source": [
    "Instead of classes described by an integer between 0-9 we have a vector with a 1 in the (Pythonic) 9th position"
   ]
  },
  {
   "cell_type": "code",
   "execution_count": 7,
   "id": "genetic-centre",
   "metadata": {},
   "outputs": [
    {
     "data": {
      "text/plain": [
       "array([0., 0., 0., 0., 0., 0., 0., 0., 0., 1.], dtype=float32)"
      ]
     },
     "execution_count": 7,
     "metadata": {},
     "output_type": "execute_result"
    }
   ],
   "source": [
    "y_train[444]"
   ]
  },
  {
   "cell_type": "markdown",
   "id": "detected-education",
   "metadata": {},
   "source": [
    "Convert to float and scale the datasets"
   ]
  },
  {
   "cell_type": "code",
   "execution_count": 8,
   "id": "familiar-damages",
   "metadata": {},
   "outputs": [],
   "source": [
    "x_train = x_train.astype('float32')\n",
    "x_test = x_test.astype('float32')\n",
    "x_train /= 255\n",
    "x_test /= 255"
   ]
  },
  {
   "cell_type": "markdown",
   "id": "bizarre-smith",
   "metadata": {},
   "source": [
    "Build a CNN using Keras Sequential"
   ]
  },
  {
   "cell_type": "code",
   "execution_count": 42,
   "id": "684eb4d3",
   "metadata": {},
   "outputs": [
    {
     "name": "stdout",
     "output_type": "stream",
     "text": [
      "Model: \"sequential_4\"\n",
      "_________________________________________________________________\n",
      " Layer (type)                Output Shape              Param #   \n",
      "=================================================================\n",
      " conv2d_20 (Conv2D)          (None, 16, 16, 32)        2432      \n",
      "                                                                 \n",
      " activation_4 (Activation)   (None, 16, 16, 32)        0         \n",
      "                                                                 \n",
      " conv2d_21 (Conv2D)          (None, 6, 6, 32)          25632     \n",
      "                                                                 \n",
      " activation_5 (Activation)   (None, 6, 6, 32)          0         \n",
      "                                                                 \n",
      " max_pooling2d_10 (MaxPoolin  (None, 3, 3, 32)         0         \n",
      " g2D)                                                            \n",
      "                                                                 \n",
      " dropout_14 (Dropout)        (None, 3, 3, 32)          0         \n",
      "                                                                 \n",
      " flatten_4 (Flatten)         (None, 288)               0         \n",
      "                                                                 \n",
      " dense_8 (Dense)             (None, 512)               147968    \n",
      "                                                                 \n",
      " activation_6 (Activation)   (None, 512)               0         \n",
      "                                                                 \n",
      " dropout_15 (Dropout)        (None, 512)               0         \n",
      "                                                                 \n",
      " dense_9 (Dense)             (None, 10)                5130      \n",
      "                                                                 \n",
      " activation_7 (Activation)   (None, 10)                0         \n",
      "                                                                 \n",
      "=================================================================\n",
      "Total params: 181,162\n",
      "Trainable params: 181,162\n",
      "Non-trainable params: 0\n",
      "_________________________________________________________________\n"
     ]
    }
   ],
   "source": [
    "model_1 = Sequential()\n",
    "\n",
    "\n",
    "## 5x5 convolution with 2x2 stride and 32 filters\n",
    "model_1.add(Conv2D(32, (5, 5), strides = (2,2), padding='same',\n",
    "                 input_shape=x_train.shape[1:]))\n",
    "model_1.add(Activation('relu'))\n",
    "\n",
    "## Another 5x5 convolution with 2x2 stride and 32 filters\n",
    "model_1.add(Conv2D(32, (5, 5), strides = (2,2)))\n",
    "model_1.add(Activation('relu'))\n",
    "\n",
    "## 2x2 max pooling reduces to 3 x 3 x 32\n",
    "model_1.add(MaxPooling2D(pool_size=(2, 2)))\n",
    "model_1.add(Dropout(0.25))\n",
    "\n",
    "## Flatten turns 3x3x32 into 288x1\n",
    "model_1.add(Flatten())\n",
    "model_1.add(Dense(512))\n",
    "model_1.add(Activation('relu'))\n",
    "model_1.add(Dropout(0.5))\n",
    "model_1.add(Dense(num_classes))\n",
    "model_1.add(Activation('softmax'))\n",
    "\n",
    "model_1.summary()"
   ]
  },
  {
   "cell_type": "code",
   "execution_count": 43,
   "id": "b1fed033",
   "metadata": {},
   "outputs": [
    {
     "name": "stdout",
     "output_type": "stream",
     "text": [
      "Epoch 1/15\n",
      "1563/1563 [==============================] - 9s 6ms/step - loss: 1.7483 - accuracy: 0.3610 - val_loss: 1.5064 - val_accuracy: 0.4585\n",
      "Epoch 2/15\n",
      "1563/1563 [==============================] - 8s 5ms/step - loss: 1.4659 - accuracy: 0.4686 - val_loss: 1.3333 - val_accuracy: 0.5266\n",
      "Epoch 3/15\n",
      "1563/1563 [==============================] - 9s 6ms/step - loss: 1.3641 - accuracy: 0.5128 - val_loss: 1.2140 - val_accuracy: 0.5686\n",
      "Epoch 4/15\n",
      "1563/1563 [==============================] - 9s 6ms/step - loss: 1.2918 - accuracy: 0.5402 - val_loss: 1.1781 - val_accuracy: 0.5809\n",
      "Epoch 5/15\n",
      "1563/1563 [==============================] - 8s 5ms/step - loss: 1.2468 - accuracy: 0.5568 - val_loss: 1.1684 - val_accuracy: 0.5896\n",
      "Epoch 6/15\n",
      "1563/1563 [==============================] - 9s 6ms/step - loss: 1.2106 - accuracy: 0.5714 - val_loss: 1.1471 - val_accuracy: 0.5978\n",
      "Epoch 7/15\n",
      "1563/1563 [==============================] - 9s 5ms/step - loss: 1.1858 - accuracy: 0.5808 - val_loss: 1.1090 - val_accuracy: 0.6073\n",
      "Epoch 8/15\n",
      "1563/1563 [==============================] - 9s 6ms/step - loss: 1.1608 - accuracy: 0.5908 - val_loss: 1.1122 - val_accuracy: 0.6076\n",
      "Epoch 9/15\n",
      "1563/1563 [==============================] - 10s 6ms/step - loss: 1.1477 - accuracy: 0.5980 - val_loss: 1.2651 - val_accuracy: 0.5657\n",
      "Epoch 10/15\n",
      "1563/1563 [==============================] - 9s 6ms/step - loss: 1.1382 - accuracy: 0.6012 - val_loss: 1.0494 - val_accuracy: 0.6326\n",
      "Epoch 11/15\n",
      "1563/1563 [==============================] - 8s 5ms/step - loss: 1.1249 - accuracy: 0.6068 - val_loss: 1.0832 - val_accuracy: 0.6219\n",
      "Epoch 12/15\n",
      "1563/1563 [==============================] - 9s 6ms/step - loss: 1.1199 - accuracy: 0.6126 - val_loss: 1.0606 - val_accuracy: 0.6337\n",
      "Epoch 13/15\n",
      "1563/1563 [==============================] - 10s 6ms/step - loss: 1.1130 - accuracy: 0.6143 - val_loss: 1.0589 - val_accuracy: 0.6410\n",
      "Epoch 14/15\n",
      "1563/1563 [==============================] - 8s 5ms/step - loss: 1.1080 - accuracy: 0.6189 - val_loss: 1.0819 - val_accuracy: 0.6239\n",
      "Epoch 15/15\n",
      "1563/1563 [==============================] - 9s 6ms/step - loss: 1.1050 - accuracy: 0.6233 - val_loss: 1.0942 - val_accuracy: 0.6208\n"
     ]
    }
   ],
   "source": [
    "batch_size = 32\n",
    "\n",
    "opt = keras.optimizers.RMSprop(lr=0.0005)\n",
    "\n",
    "\n",
    "model_1.compile(loss='categorical_crossentropy',\n",
    "              optimizer=opt,\n",
    "              metrics=['accuracy'])\n",
    "\n",
    "run_hist1 = model_1.fit(x_train, y_train,\n",
    "              batch_size=batch_size,\n",
    "              epochs=15,\n",
    "              validation_data=(x_test, y_test))"
   ]
  },
  {
   "cell_type": "markdown",
   "id": "baking-portable",
   "metadata": {},
   "source": [
    "* Use batch size of 32\n",
    "* Initiate RMSprop optimizer\n",
    "* Train the model using RMSprop"
   ]
  },
  {
   "cell_type": "markdown",
   "id": "jewish-lambda",
   "metadata": {},
   "source": [
    "#### Supplementary Activity"
   ]
  },
  {
   "cell_type": "markdown",
   "id": "southeast-theater",
   "metadata": {},
   "source": [
    "* Build a more complicated model with the following pattern:\n",
    "Conv -> Conv -> MaxPool -> Conv -> Conv -> MaxPool -> (Flatten) -> Dense -> Final Classification\n",
    "\n",
    "* Use strides of 1 for all convolutional layers.\n",
    "\n",
    "* Write the number of parameters of your model  and compare it to the previous model\n",
    "\n",
    "* Train it for 5 epochs. Commpare the training time, loss and accuracy numbers (on both the training and validation sets)?\n",
    "\n",
    "* Use different structures and run times, and see how accurate your model can be."
   ]
  },
  {
   "cell_type": "code",
   "execution_count": 9,
   "id": "802a6e57",
   "metadata": {},
   "outputs": [],
   "source": [
    "INPUT_SHAPE = (32, 32, 3)\n",
    "KERNEL_SIZE = (3, 3)\n",
    "STRIDE = (1, 1)\n",
    "\n",
    "supple_model = Sequential()\n",
    "\n",
    "# Convolutional Layer\n",
    "supple_model.add(Conv2D(filters=32, kernel_size=KERNEL_SIZE, input_shape=INPUT_SHAPE, activation='relu', padding='same', strides=STRIDE))\n",
    "supple_model.add(BatchNormalization())\n",
    "supple_model.add(Conv2D(filters=32, kernel_size=KERNEL_SIZE, activation='relu', padding='same', strides=STRIDE))\n",
    "supple_model.add(BatchNormalization())\n",
    "\n",
    "# Pooling layer\n",
    "supple_model.add(MaxPooling2D(pool_size=(2, 2)))\n",
    "# Dropout layers\n",
    "supple_model.add(Dropout(0.25))\n",
    "\n",
    "supple_model.add(Conv2D(filters=64, kernel_size=KERNEL_SIZE, activation='relu', padding='same', strides=STRIDE))\n",
    "supple_model.add(BatchNormalization())\n",
    "supple_model.add(Conv2D(filters=64, kernel_size=KERNEL_SIZE, activation='relu', padding='same', strides=STRIDE))\n",
    "supple_model.add(BatchNormalization())\n",
    "supple_model.add(MaxPooling2D(pool_size=(2, 2)))\n",
    "supple_model.add(Dropout(0.25))\n",
    "\n",
    "supple_model.add(Conv2D(filters=128, kernel_size=KERNEL_SIZE, activation='relu', padding='same', strides=STRIDE))\n",
    "supple_model.add(BatchNormalization())\n",
    "supple_model.add(Conv2D(filters=128, kernel_size=KERNEL_SIZE, activation='relu', padding='same', strides=STRIDE))\n",
    "supple_model.add(BatchNormalization())\n",
    "supple_model.add(MaxPooling2D(pool_size=(2, 2)))\n",
    "supple_model.add(Dropout(0.25))\n",
    "\n",
    "supple_model.add(Flatten())\n",
    "supple_model.add(Dense(128, activation='relu'))\n",
    "supple_model.add(Dropout(0.25))\n",
    "supple_model.add(Dense(10, activation='softmax'))"
   ]
  },
  {
   "cell_type": "code",
   "execution_count": 10,
   "id": "a4beeea2",
   "metadata": {},
   "outputs": [
    {
     "name": "stdout",
     "output_type": "stream",
     "text": [
      "Epoch 1/5\n",
      "782/782 [==============================] - 25s 18ms/step - loss: 1.5743 - accuracy: 0.4344 - val_loss: 1.3937 - val_accuracy: 0.5119\n",
      "Epoch 2/5\n",
      "782/782 [==============================] - 15s 19ms/step - loss: 1.1151 - accuracy: 0.6081 - val_loss: 0.9674 - val_accuracy: 0.6722\n",
      "Epoch 3/5\n",
      "782/782 [==============================] - 17s 21ms/step - loss: 0.9130 - accuracy: 0.6845 - val_loss: 0.7838 - val_accuracy: 0.7315\n",
      "Epoch 4/5\n",
      "782/782 [==============================] - 14s 17ms/step - loss: 0.7946 - accuracy: 0.7228 - val_loss: 0.7353 - val_accuracy: 0.7477\n",
      "Epoch 5/5\n",
      "782/782 [==============================] - 13s 17ms/step - loss: 0.7162 - accuracy: 0.7536 - val_loss: 0.6914 - val_accuracy: 0.7684\n"
     ]
    }
   ],
   "source": [
    "batch_size = 64\n",
    "\n",
    "supple_model.compile(loss='categorical_crossentropy',\n",
    "              optimizer='adam',\n",
    "              metrics=['accuracy'])\n",
    "\n",
    "run_hist_supple_model = supple_model.fit(x_train, y_train,\n",
    "              batch_size=batch_size,\n",
    "              epochs=5,\n",
    "              validation_data=(x_test, y_test))"
   ]
  },
  {
   "cell_type": "markdown",
   "id": "08accd95",
   "metadata": {},
   "source": [
    "## Evaluate model performance"
   ]
  },
  {
   "cell_type": "code",
   "execution_count": 11,
   "id": "740f7789",
   "metadata": {},
   "outputs": [
    {
     "data": {
      "text/plain": [
       "<matplotlib.legend.Legend at 0x1e6dc956a08>"
      ]
     },
     "execution_count": 11,
     "metadata": {},
     "output_type": "execute_result"
    },
    {
     "data": {
      "image/png": "[encoded data removed]",
      "text/plain": [
       "<Figure size 1200x1600 with 2 Axes>"
      ]
     },
     "metadata": {},
     "output_type": "display_data"
    }
   ],
   "source": [
    "plt.figure(figsize=(12, 16))\n",
    "\n",
    "plt.subplot(4, 2, 1)\n",
    "plt.plot(run_hist_supple_model.history['loss'], label='Loss')\n",
    "plt.plot(run_hist_supple_model.history['val_loss'], label='val_Loss')\n",
    "plt.title('Loss Function Evolution')\n",
    "plt.legend()\n",
    "\n",
    "plt.subplot(4, 2, 2)\n",
    "plt.plot(run_hist_supple_model.history['accuracy'], label='accuracy')\n",
    "plt.plot(run_hist_supple_model.history['val_accuracy'], label='val_accuracy')\n",
    "plt.title('Accuracy Function Evolution')\n",
    "plt.legend()"
   ]
  },
  {
   "cell_type": "markdown",
   "id": "compact-still",
   "metadata": {},
   "source": [
    "#### Conclusion"
   ]
  },
  {
   "cell_type": "markdown",
   "id": "desirable-jackson",
   "metadata": {},
   "source": [
    "- The accuracy and loss function shows no sign of overfitting between training and validation but since we only used 5 epochs, the model is able to achieve an accuracy of 76%. The graph still show signs of increased performance if we increase the number of epochs, for the reason that there is no signs of plateau within the graph. "
   ]
  },
  {
   "cell_type": "code",
   "execution_count": 49,
   "id": "expired-community",
   "metadata": {},
   "outputs": [
    {
     "name": "stdout",
     "output_type": "stream",
     "text": [
      "Name: tensorflowNote: you may need to restart the kernel to use updated packages.\n",
      "\n",
      "Version: 2.10.1\n",
      "Summary: TensorFlow is an open source machine learning framework for everyone.\n",
      "Home-page: https://www.tensorflow.org/\n",
      "Author: Google Inc.\n",
      "Author-email: packages@tensorflow.org\n",
      "License: Apache 2.0\n",
      "Location: c:\\users\\spenc\\anaconda3\\envs\\gpuenv\\lib\\site-packages\n",
      "Requires: absl-py, astunparse, flatbuffers, gast, google-pasta, grpcio, h5py, keras, keras-preprocessing, libclang, numpy, opt-einsum, packaging, protobuf, setuptools, six, tensorboard, tensorflow-estimator, tensorflow-io-gcs-filesystem, termcolor, typing-extensions, wrapt\n",
      "Required-by: \n"
     ]
    }
   ],
   "source": [
    "%pip show tensorflow"
   ]
  },
  {
   "cell_type": "code",
   "execution_count": null,
   "id": "75641c91",
   "metadata": {},
   "outputs": [],
   "source": []
  }
 ],
 "metadata": {
  "kernelspec": {
   "display_name": "Python 3 (ipykernel)",
   "language": "python",
   "name": "python3"
  },
  "language_info": {
   "codemirror_mode": {
    "name": "ipython",
    "version": 3
   },
   "file_extension": ".py",
   "mimetype": "text/x-python",
   "name": "python",
   "nbconvert_exporter": "python",
   "pygments_lexer": "ipython3",
   "version": "3.7.16"
  }
 },
 "nbformat": 4,
 "nbformat_minor": 5
}
