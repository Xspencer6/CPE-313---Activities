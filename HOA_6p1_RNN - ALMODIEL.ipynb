{
  "cells": [
    {
      "cell_type": "markdown",
      "id": "fourth-lesbian",
      "metadata": {
        "id": "fourth-lesbian"
      },
      "source": [
        "# Activity 6.1 - Recurrent Neural Networks"
      ]
    },
    {
      "cell_type": "markdown",
      "id": "historical-import",
      "metadata": {
        "id": "historical-import"
      },
      "source": [
        "#### Objective(s):\n",
        "\n",
        "This activity aims to introduce how to build a recurrent neural network"
      ]
    },
    {
      "cell_type": "markdown",
      "id": "related-karma",
      "metadata": {
        "id": "related-karma"
      },
      "source": [
        "#### Intended Learning Outcomes (ILOs):\n",
        "* Demonstrate how to build and train neural recurrent neural network\n",
        "* Evaluate the score and accuracy of the recurrent neural network"
      ]
    },
    {
      "cell_type": "markdown",
      "id": "fossil-thermal",
      "metadata": {
        "id": "fossil-thermal"
      },
      "source": [
        "#### Resources:\n",
        "* Jupyter Notebook\n",
        "* IMDB"
      ]
    },
    {
      "cell_type": "markdown",
      "id": "australian-marketing",
      "metadata": {
        "id": "australian-marketing"
      },
      "source": [
        "#### Procedures\n",
        "Load the necessary libraries"
      ]
    },
    {
      "cell_type": "code",
      "execution_count": 1,
      "id": "based-growing",
      "metadata": {
        "id": "based-growing"
      },
      "outputs": [],
      "source": [
        "from __future__ import print_function\n",
        "import keras\n",
        "from keras.preprocessing import sequence\n",
        "from keras.models import Sequential\n",
        "from keras.layers import Dense, Embedding\n",
        "from keras.layers import SimpleRNN\n",
        "from keras.datasets import imdb\n",
        "from keras import initializers"
      ]
    },
    {
      "cell_type": "markdown",
      "id": "romance-object",
      "metadata": {
        "id": "romance-object"
      },
      "source": [
        "* Set the max_features to 20000\n",
        "* Set the maximum length of a sequence\n",
        "* Use the batch size of 32"
      ]
    },
    {
      "cell_type": "code",
      "execution_count": 2,
      "id": "pending-finance",
      "metadata": {
        "id": "pending-finance"
      },
      "outputs": [],
      "source": [
        "max_features = 20000\n",
        "maxlen = 30\n",
        "batch_size = 32"
      ]
    },
    {
      "cell_type": "markdown",
      "id": "juvenile-defensive",
      "metadata": {
        "id": "juvenile-defensive"
      },
      "source": [
        "Load the data"
      ]
    },
    {
      "cell_type": "code",
      "execution_count": 4,
      "id": "familiar-escape",
      "metadata": {
        "id": "familiar-escape"
      },
      "outputs": [
        {
          "name": "stdout",
          "output_type": "stream",
          "text": [
            "Downloading data from https://storage.googleapis.com/tensorflow/tf-keras-datasets/imdb.npz\n",
            "17464789/17464789 [==============================] - 2s 0us/step\n",
            "25000 train sequences\n",
            "25000 test sequences\n"
          ]
        }
      ],
      "source": [
        "\n",
        "(x_train, y_train), (x_test, y_test) = imdb.load_data(num_words=max_features)\n",
        "print(len(x_train), 'train sequences')\n",
        "print(len(x_test), 'test sequences')"
      ]
    },
    {
      "cell_type": "markdown",
      "id": "hairy-volleyball",
      "metadata": {
        "id": "hairy-volleyball"
      },
      "source": [
        " Truncates the sequences so that they are of the maximum length"
      ]
    },
    {
      "cell_type": "code",
      "execution_count": 6,
      "id": "9b5594ed",
      "metadata": {},
      "outputs": [],
      "source": [
        "from keras.utils.data_utils import pad_sequences"
      ]
    },
    {
      "cell_type": "code",
      "execution_count": 7,
      "id": "distant-praise",
      "metadata": {
        "id": "distant-praise"
      },
      "outputs": [
        {
          "name": "stdout",
          "output_type": "stream",
          "text": [
            "x_train shape: (25000, 30)\n",
            "x_test shape: (25000, 30)\n"
          ]
        }
      ],
      "source": [
        "\n",
        "x_train = pad_sequences(x_train, maxlen=maxlen)\n",
        "x_test = pad_sequences(x_test, maxlen=maxlen)\n",
        "print('x_train shape:', x_train.shape)\n",
        "print('x_test shape:', x_test.shape)"
      ]
    },
    {
      "cell_type": "markdown",
      "id": "cloudy-elimination",
      "metadata": {
        "id": "cloudy-elimination"
      },
      "source": [
        "Check the example of sequence"
      ]
    },
    {
      "cell_type": "code",
      "execution_count": 8,
      "id": "surprising-bacteria",
      "metadata": {
        "id": "surprising-bacteria"
      },
      "outputs": [
        {
          "data": {
            "text/plain": [
              "array([  219,   141,    35,   221,   956,    54,    13,    16,    11,\n",
              "        2714,    61,   322,   423,    12,    38,    76,    59,  1803,\n",
              "          72,     8, 10508,    23,     5,   967,    12,    38,    85,\n",
              "          62,   358,    99])"
            ]
          },
          "execution_count": 8,
          "metadata": {},
          "output_type": "execute_result"
        }
      ],
      "source": [
        "x_train[123,:]"
      ]
    },
    {
      "cell_type": "markdown",
      "id": "quantitative-breath",
      "metadata": {
        "id": "quantitative-breath"
      },
      "source": [
        "Build a recurrent neural network"
      ]
    },
    {
      "cell_type": "code",
      "execution_count": 9,
      "id": "closed-writer",
      "metadata": {
        "id": "closed-writer"
      },
      "outputs": [],
      "source": [
        "rnn_hidden_dim = 5\n",
        "word_embedding_dim = 50\n",
        "model_rnn = Sequential()\n",
        "model_rnn.add(Embedding(max_features, word_embedding_dim))  #This layer takes each integer in the sequence and embeds it in a 50-dimensional vector\n",
        "model_rnn.add(SimpleRNN(rnn_hidden_dim,\n",
        "                    kernel_initializer=initializers.RandomNormal(stddev=0.001),\n",
        "                    recurrent_initializer=initializers.Identity(gain=1.0),\n",
        "                    activation='relu',\n",
        "                    input_shape=x_train.shape[1:]))\n",
        "\n",
        "model_rnn.add(Dense(1, activation='sigmoid'))"
      ]
    },
    {
      "cell_type": "code",
      "execution_count": 10,
      "id": "developmental-foster",
      "metadata": {
        "id": "developmental-foster"
      },
      "outputs": [
        {
          "name": "stderr",
          "output_type": "stream",
          "text": [
            "c:\\Users\\spenc\\anaconda3\\envs\\gpuenv\\lib\\site-packages\\keras\\optimizers\\optimizer_v2\\rmsprop.py:140: UserWarning: The `lr` argument is deprecated, use `learning_rate` instead.\n",
            "  super().__init__(name, **kwargs)\n"
          ]
        }
      ],
      "source": [
        "rmsprop = keras.optimizers.RMSprop(lr = .0001)\n",
        "\n",
        "model_rnn.compile(loss='binary_crossentropy',\n",
        "              optimizer=rmsprop,\n",
        "              metrics=['accuracy'])"
      ]
    },
    {
      "cell_type": "code",
      "execution_count": 11,
      "id": "joined-athletics",
      "metadata": {
        "id": "joined-athletics"
      },
      "outputs": [
        {
          "name": "stdout",
          "output_type": "stream",
          "text": [
            "Epoch 1/10\n",
            "782/782 [==============================] - 42s 49ms/step - loss: 0.6571 - accuracy: 0.6232 - val_loss: 0.6039 - val_accuracy: 0.6789\n",
            "Epoch 2/10\n",
            "782/782 [==============================] - 36s 47ms/step - loss: 0.5560 - accuracy: 0.7180 - val_loss: 0.5444 - val_accuracy: 0.7221\n",
            "Epoch 3/10\n",
            "782/782 [==============================] - 36s 46ms/step - loss: 0.4974 - accuracy: 0.7618 - val_loss: 0.5118 - val_accuracy: 0.7428\n",
            "Epoch 4/10\n",
            "782/782 [==============================] - 31s 40ms/step - loss: 0.4578 - accuracy: 0.7869 - val_loss: 0.4899 - val_accuracy: 0.7577\n",
            "Epoch 5/10\n",
            "782/782 [==============================] - 33s 42ms/step - loss: 0.4286 - accuracy: 0.8044 - val_loss: 0.4725 - val_accuracy: 0.7685\n",
            "Epoch 6/10\n",
            "782/782 [==============================] - 33s 43ms/step - loss: 0.4068 - accuracy: 0.8166 - val_loss: 0.4626 - val_accuracy: 0.7753\n",
            "Epoch 7/10\n",
            "782/782 [==============================] - 35s 44ms/step - loss: 0.3904 - accuracy: 0.8254 - val_loss: 0.4551 - val_accuracy: 0.7803\n",
            "Epoch 8/10\n",
            "782/782 [==============================] - 34s 43ms/step - loss: 0.3785 - accuracy: 0.8318 - val_loss: 0.4493 - val_accuracy: 0.7854\n",
            "Epoch 9/10\n",
            "782/782 [==============================] - 34s 44ms/step - loss: 0.3693 - accuracy: 0.8374 - val_loss: 0.4475 - val_accuracy: 0.7877\n",
            "Epoch 10/10\n",
            "782/782 [==============================] - 34s 43ms/step - loss: 0.3619 - accuracy: 0.8415 - val_loss: 0.4544 - val_accuracy: 0.7863\n"
          ]
        },
        {
          "data": {
            "text/plain": [
              "<keras.callbacks.History at 0x163b7b14ac0>"
            ]
          },
          "execution_count": 11,
          "metadata": {},
          "output_type": "execute_result"
        }
      ],
      "source": [
        "model_rnn.fit(x_train, y_train,\n",
        "          batch_size=batch_size,\n",
        "          epochs=10,\n",
        "          validation_data=(x_test, y_test))"
      ]
    },
    {
      "cell_type": "markdown",
      "id": "freelance-proposal",
      "metadata": {
        "id": "freelance-proposal"
      },
      "source": [
        "Evaluate the model using the test set."
      ]
    },
    {
      "cell_type": "code",
      "execution_count": 12,
      "id": "early-connecticut",
      "metadata": {
        "id": "early-connecticut"
      },
      "outputs": [
        {
          "name": "stdout",
          "output_type": "stream",
          "text": [
            "782/782 [==============================] - 6s 7ms/step - loss: 0.4544 - accuracy: 0.7863\n",
            "Test score: 0.4543546736240387\n",
            "Test accuracy: 0.7862799763679504\n"
          ]
        }
      ],
      "source": [
        "score, acc = model_rnn.evaluate(x_test, y_test,\n",
        "                            batch_size=batch_size)\n",
        "print('Test score:', score)\n",
        "print('Test accuracy:', acc)"
      ]
    },
    {
      "cell_type": "markdown",
      "id": "miniature-generic",
      "metadata": {
        "id": "miniature-generic"
      },
      "source": [
        "Interpret the result"
      ]
    },
    {
      "cell_type": "markdown",
      "id": "2614354c",
      "metadata": {},
      "source": [
        "- The 78.62% means that the model is able to generalize approximately 78% of the test instances."
      ]
    },
    {
      "cell_type": "markdown",
      "id": "planned-detection",
      "metadata": {
        "id": "planned-detection"
      },
      "source": [
        "#### Supplementary Activity"
      ]
    },
    {
      "cell_type": "markdown",
      "id": "industrial-frequency",
      "metadata": {
        "id": "industrial-frequency"
      },
      "source": [
        "- Prepare the data to use sequences of length 80 rather than length 30.  Did it improve the performance?\n",
        "- Try different values of the \"max_features\".  Can you improve the performance?\n",
        "- Try smaller and larger sizes of the RNN hidden dimension.  How does it affect the model performance?  How does it affect the run time?"
      ]
    },
    {
      "cell_type": "code",
      "execution_count": 14,
      "id": "important-delight",
      "metadata": {
        "id": "important-delight"
      },
      "outputs": [],
      "source": [
        "max_features = 2000\n",
        "length = 80\n",
        "\n",
        "(x_train, y_train), (x_test, y_test) = imdb.load_data(num_words=max_features)\n",
        "\n",
        "x_train = pad_sequences(x_train, maxlen=length)\n",
        "x_test = pad_sequences(x_test, maxlen=length)"
      ]
    },
    {
      "cell_type": "markdown",
      "id": "limiting-bachelor",
      "metadata": {
        "id": "limiting-bachelor"
      },
      "source": [
        "## First model with max words of 2000 and pad sequence length of 80"
      ]
    },
    {
      "cell_type": "code",
      "execution_count": 15,
      "id": "973da4ee",
      "metadata": {},
      "outputs": [
        {
          "name": "stderr",
          "output_type": "stream",
          "text": [
            "c:\\Users\\spenc\\anaconda3\\envs\\gpuenv\\lib\\site-packages\\keras\\optimizers\\optimizer_v2\\rmsprop.py:140: UserWarning: The `lr` argument is deprecated, use `learning_rate` instead.\n",
            "  super().__init__(name, **kwargs)\n"
          ]
        }
      ],
      "source": [
        "rmsprop = keras.optimizers.RMSprop(lr = .0001)\n",
        "\n",
        "model_rnn.compile(loss='binary_crossentropy',\n",
        "              optimizer=rmsprop,\n",
        "              metrics=['accuracy'])"
      ]
    },
    {
      "cell_type": "code",
      "execution_count": 16,
      "id": "79582430",
      "metadata": {},
      "outputs": [
        {
          "name": "stdout",
          "output_type": "stream",
          "text": [
            "Epoch 1/10\n",
            "782/782 [==============================] - 101s 128ms/step - loss: 0.4334 - accuracy: 0.8199 - val_loss: 0.4588 - val_accuracy: 0.7940\n",
            "Epoch 2/10\n",
            "782/782 [==============================] - 103s 131ms/step - loss: 0.3714 - accuracy: 0.8362 - val_loss: 0.4108 - val_accuracy: 0.8150\n",
            "Epoch 3/10\n",
            "782/782 [==============================] - 100s 128ms/step - loss: 0.3555 - accuracy: 0.8428 - val_loss: 0.4188 - val_accuracy: 0.8150\n",
            "Epoch 4/10\n",
            "782/782 [==============================] - 106s 136ms/step - loss: 0.3485 - accuracy: 0.8460 - val_loss: 0.3898 - val_accuracy: 0.8227\n",
            "Epoch 5/10\n",
            "782/782 [==============================] - 99s 126ms/step - loss: 0.3429 - accuracy: 0.8516 - val_loss: 0.3932 - val_accuracy: 0.8252\n",
            "Epoch 6/10\n",
            "782/782 [==============================] - 101s 129ms/step - loss: 0.3391 - accuracy: 0.8529 - val_loss: 0.3856 - val_accuracy: 0.8263\n",
            "Epoch 7/10\n",
            "782/782 [==============================] - 99s 126ms/step - loss: 0.3352 - accuracy: 0.8534 - val_loss: 0.3716 - val_accuracy: 0.8336\n",
            "Epoch 8/10\n",
            "782/782 [==============================] - 100s 127ms/step - loss: 0.3328 - accuracy: 0.8566 - val_loss: 0.3677 - val_accuracy: 0.8342\n",
            "Epoch 9/10\n",
            "782/782 [==============================] - 100s 128ms/step - loss: 0.3292 - accuracy: 0.8579 - val_loss: 0.4214 - val_accuracy: 0.8178\n",
            "Epoch 10/10\n",
            "782/782 [==============================] - 90s 115ms/step - loss: 0.3279 - accuracy: 0.8582 - val_loss: 0.3701 - val_accuracy: 0.8335\n"
          ]
        },
        {
          "data": {
            "text/plain": [
              "<keras.callbacks.History at 0x163bf3878e0>"
            ]
          },
          "execution_count": 16,
          "metadata": {},
          "output_type": "execute_result"
        }
      ],
      "source": [
        "model_rnn.fit(x_train, y_train,\n",
        "          batch_size=batch_size,\n",
        "          epochs=10,\n",
        "          validation_data=(x_test, y_test))"
      ]
    },
    {
      "cell_type": "markdown",
      "id": "0315edd5",
      "metadata": {},
      "source": [
        "- The model's performance increased from 78% to 83% when the pad sequence was increased from 30 to 80. Since the pad sequence restricts the number of words that may be given into the RNN model, the model provides a better overview of various IMDb reviews."
      ]
    },
    {
      "cell_type": "markdown",
      "id": "ac6a5586",
      "metadata": {},
      "source": [
        "## Second model: max feature of 500"
      ]
    },
    {
      "cell_type": "code",
      "execution_count": 17,
      "id": "405d3cb3",
      "metadata": {},
      "outputs": [],
      "source": [
        "max_features = 500\n",
        "length = 80\n",
        "\n",
        "(x_train, y_train), (x_test, y_test) = imdb.load_data(num_words=max_features)\n",
        "\n",
        "x_train = pad_sequences(x_train, maxlen=length)\n",
        "x_test = pad_sequences(x_test, maxlen=length)"
      ]
    },
    {
      "cell_type": "code",
      "execution_count": 18,
      "id": "7ccebb8e",
      "metadata": {},
      "outputs": [],
      "source": [
        "rmsprop = keras.optimizers.RMSprop(lr = .0001)\n",
        "\n",
        "model_rnn.compile(loss='binary_crossentropy',\n",
        "              optimizer=rmsprop,\n",
        "              metrics=['accuracy'])"
      ]
    },
    {
      "cell_type": "code",
      "execution_count": 19,
      "id": "83874280",
      "metadata": {},
      "outputs": [
        {
          "name": "stdout",
          "output_type": "stream",
          "text": [
            "Epoch 1/10\n",
            "782/782 [==============================] - 101s 128ms/step - loss: 0.4414 - accuracy: 0.7928 - val_loss: 0.4461 - val_accuracy: 0.7896\n",
            "Epoch 2/10\n",
            "782/782 [==============================] - 94s 121ms/step - loss: 0.4367 - accuracy: 0.7947 - val_loss: 0.4524 - val_accuracy: 0.7844\n",
            "Epoch 3/10\n",
            "782/782 [==============================] - 97s 124ms/step - loss: 0.4346 - accuracy: 0.7969 - val_loss: 0.4518 - val_accuracy: 0.7873\n",
            "Epoch 4/10\n",
            "782/782 [==============================] - 98s 125ms/step - loss: 0.4327 - accuracy: 0.7971 - val_loss: 0.4419 - val_accuracy: 0.7934\n",
            "Epoch 5/10\n",
            "782/782 [==============================] - 95s 121ms/step - loss: 0.4313 - accuracy: 0.8002 - val_loss: 0.4430 - val_accuracy: 0.7921\n",
            "Epoch 6/10\n",
            "782/782 [==============================] - 98s 125ms/step - loss: 0.4299 - accuracy: 0.7991 - val_loss: 0.4455 - val_accuracy: 0.7902\n",
            "Epoch 7/10\n",
            "782/782 [==============================] - 98s 125ms/step - loss: 0.4290 - accuracy: 0.8013 - val_loss: 0.4395 - val_accuracy: 0.7934\n",
            "Epoch 8/10\n",
            "782/782 [==============================] - 95s 121ms/step - loss: 0.4275 - accuracy: 0.8017 - val_loss: 0.4397 - val_accuracy: 0.7944\n",
            "Epoch 9/10\n",
            "782/782 [==============================] - 96s 122ms/step - loss: 0.4263 - accuracy: 0.8034 - val_loss: 0.4389 - val_accuracy: 0.7942\n",
            "Epoch 10/10\n",
            "782/782 [==============================] - 95s 121ms/step - loss: 0.4248 - accuracy: 0.8032 - val_loss: 0.4398 - val_accuracy: 0.7935\n"
          ]
        },
        {
          "data": {
            "text/plain": [
              "<keras.callbacks.History at 0x163b500b700>"
            ]
          },
          "execution_count": 19,
          "metadata": {},
          "output_type": "execute_result"
        }
      ],
      "source": [
        "model_rnn.fit(x_train, y_train,\n",
        "          batch_size=batch_size,\n",
        "          epochs=10,\n",
        "          validation_data=(x_test, y_test))"
      ]
    },
    {
      "cell_type": "markdown",
      "id": "signal-federal",
      "metadata": {
        "id": "signal-federal"
      },
      "source": [
        "#### Conclusion"
      ]
    },
    {
      "cell_type": "markdown",
      "id": "interpreted-stadium",
      "metadata": {
        "id": "interpreted-stadium"
      },
      "source": [
        "- RNN model's uses is not limited in forecasting complex stock prices or price forecasting. It is also widely used in sentimental analysis and LSTM (Long Short Term Memory) which is a specialized form of RNN. RNN works by remembering the important information about the input it receives, which makes it possible for RNN to be precise in predicting the next event."
      ]
    },
    {
      "cell_type": "markdown",
      "id": "662ba171",
      "metadata": {},
      "source": [
        "Almodiel, Mj Spencer"
      ]
    }
  ],
  "metadata": {
    "colab": {
      "provenance": []
    },
    "kernelspec": {
      "display_name": "Python 3",
      "language": "python",
      "name": "python3"
    },
    "language_info": {
      "codemirror_mode": {
        "name": "ipython",
        "version": 3
      },
      "file_extension": ".py",
      "mimetype": "text/x-python",
      "name": "python",
      "nbconvert_exporter": "python",
      "pygments_lexer": "ipython3",
      "version": "3.9.19"
    }
  },
  "nbformat": 4,
  "nbformat_minor": 5
}
