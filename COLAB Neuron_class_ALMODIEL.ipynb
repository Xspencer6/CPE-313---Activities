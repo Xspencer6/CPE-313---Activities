{
  "nbformat": 4,
  "nbformat_minor": 0,
  "metadata": {
    "colab": {
      "provenance": [],
      "authorship_tag": "ABX9TyN+CzJdHH6yIAKbsUrOl7qi",
      "include_colab_link": true
    },
    "kernelspec": {
      "name": "python3",
      "display_name": "Python 3"
    },
    "language_info": {
      "name": "python"
    }
  },
  "cells": [
    {
      "cell_type": "markdown",
      "metadata": {
        "id": "view-in-github",
        "colab_type": "text"
      },
      "source": [
        "<a href=\"https://colab.research.google.com/github/Xspencer6/CPE-313---Activities/blob/main/COLAB%20Neuron_class_ALMODIEL.ipynb\" target=\"_parent\"><img src=\"https://colab.research.google.com/assets/colab-badge.svg\" alt=\"Open In Colab\"/></a>"
      ]
    },
    {
      "cell_type": "code",
      "execution_count": null,
      "metadata": {
        "colab": {
          "base_uri": "https://localhost:8080/"
        },
        "id": "HHYmDmwFKmjT",
        "outputId": "74462dd6-fa44-4f8d-fead-3192d92d53df"
      },
      "outputs": [
        {
          "output_type": "stream",
          "name": "stdout",
          "text": [
            "0\n"
          ]
        }
      ],
      "source": [
        "import numpy as np\n",
        "\n",
        "class Neuron:\n",
        "\n",
        "\n",
        "  def __init__(self, input):\n",
        "    np.random.seed(1)\n",
        "    self.weights = np.random.random((len(input), len(input[0]))) - 1   # random 3 x 1 weight matrix\n",
        "    self.input = input\n",
        "    self.output = self.relu()\n",
        "\n",
        "\n",
        "  def __str__(self):\n",
        "    return str(self.output)\n",
        "\n",
        "\n",
        "  def adder(self):\n",
        "    result = 0\n",
        "    for i in range(len(self.input)):\n",
        "      result += self.input[i] + self.weights[i]\n",
        "    return result\n",
        "\n",
        "\n",
        "  def relu(self):\n",
        "    if self.adder() > 0:  # max (0, input)\n",
        "      return self.adder()\n",
        "    return 0\n",
        "\n",
        "\n",
        "# test\n",
        "weights = [[0.12232323],\n",
        "           [0.98095526],\n",
        "           [0.65721003]]\n",
        "\n",
        "test = Neuron(weights)\n",
        "print(test)"
      ]
    },
    {
      "cell_type": "code",
      "source": [
        "test = 2 * np.random.random((3, 1)) - 1\n",
        "test"
      ],
      "metadata": {
        "colab": {
          "base_uri": "https://localhost:8080/"
        },
        "id": "DJ1D2Xm2OBuD",
        "outputId": "a3af2bee-0f03-4d92-99f8-89aae64abd4e"
      },
      "execution_count": null,
      "outputs": [
        {
          "output_type": "execute_result",
          "data": {
            "text/plain": [
              "array([[ 0.34093502],\n",
              "       [-0.1653904 ],\n",
              "       [ 0.11737966]])"
            ]
          },
          "metadata": {},
          "execution_count": 27
        }
      ]
    },
    {
      "cell_type": "code",
      "source": [
        "weights = [[1.23753265],\n",
        "           [0.98095526],\n",
        "           [0.65721003]]\n",
        "\n",
        "for i in range(len(weights)):\n",
        "  print(i)"
      ],
      "metadata": {
        "colab": {
          "base_uri": "https://localhost:8080/"
        },
        "id": "TilxayiZOaYM",
        "outputId": "0df4c4ba-3799-43b3-c3cc-b078b6ac0a06"
      },
      "execution_count": null,
      "outputs": [
        {
          "output_type": "stream",
          "name": "stdout",
          "text": [
            "0\n",
            "1\n",
            "2\n"
          ]
        }
      ]
    },
    {
      "cell_type": "code",
      "source": [
        "x = 2 * np.random.random((3, 1)) - 1\n",
        "x"
      ],
      "metadata": {
        "colab": {
          "base_uri": "https://localhost:8080/"
        },
        "id": "HQxLiG3oVq-7",
        "outputId": "08b43e80-7893-44a0-d484-5d2535cfcfe8"
      },
      "execution_count": null,
      "outputs": [
        {
          "output_type": "execute_result",
          "data": {
            "text/plain": [
              "array([[-0.43911202],\n",
              "       [ 0.57855866],\n",
              "       [-0.79354799]])"
            ]
          },
          "metadata": {},
          "execution_count": 36
        }
      ]
    },
    {
      "cell_type": "code",
      "source": [],
      "metadata": {
        "id": "K9z4iEvLXD1L"
      },
      "execution_count": null,
      "outputs": []
    }
  ]
}