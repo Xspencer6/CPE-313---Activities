{
  "cells": [
    {
      "cell_type": "markdown",
      "id": "frozen-passport",
      "metadata": {
        "id": "frozen-passport"
      },
      "source": [
        "# Activity 1.3 : Regularization"
      ]
    },
    {
      "cell_type": "markdown",
      "id": "0d5222d7",
      "metadata": {},
      "source": [
        "**Name**: Almodiel, Mj Spencer <br>\n",
        "**Instructor**: Engr. Roman Richard <br>"
      ]
    },
    {
      "cell_type": "markdown",
      "id": "downtown-relay",
      "metadata": {
        "id": "downtown-relay"
      },
      "source": [
        "#### Objective(s):\n",
        "\n",
        "This activity aims to demonstrate how to apply  regularization in neural networks"
      ]
    },
    {
      "cell_type": "markdown",
      "id": "weird-journal",
      "metadata": {
        "id": "weird-journal"
      },
      "source": [
        "#### Intended Learning Outcomes (ILOs):\n",
        "* Demonstrate how to build and train neural networks with regularization\n",
        "* Demonstrate how to visualize the model with regularization\n",
        "* Evaluate the result of model with regularization\n"
      ]
    },
    {
      "cell_type": "markdown",
      "id": "returning-harvard",
      "metadata": {
        "id": "returning-harvard"
      },
      "source": [
        "#### Resources:\n",
        "* Jupyter Notebook\n",
        "* MNIST\n"
      ]
    },
    {
      "cell_type": "markdown",
      "id": "virgin-webcam",
      "metadata": {
        "id": "virgin-webcam"
      },
      "source": [
        "#### Procedures\n",
        "Load the necessary libraries"
      ]
    },
    {
      "cell_type": "code",
      "execution_count": 4,
      "id": "changing-emergency",
      "metadata": {
        "id": "changing-emergency"
      },
      "outputs": [
        {
          "name": "stdout",
          "output_type": "stream",
          "text": [
            "WARNING:tensorflow:From C:\\Users\\MJ\\anaconda3\\Lib\\site-packages\\keras\\src\\losses.py:2976: The name tf.losses.sparse_softmax_cross_entropy is deprecated. Please use tf.compat.v1.losses.sparse_softmax_cross_entropy instead.\n",
            "\n"
          ]
        }
      ],
      "source": [
        "from __future__ import print_function\n",
        "import keras\n",
        "from keras.datasets import mnist\n",
        "from keras.models import Sequential\n",
        "from keras.layers import Dense, Dropout\n",
        "from keras.optimizers import RMSprop\n",
        "\n",
        "import numpy as np\n",
        "import matplotlib.pyplot as plt\n",
        "%matplotlib inline"
      ]
    },
    {
      "cell_type": "markdown",
      "id": "central-drama",
      "metadata": {
        "id": "central-drama"
      },
      "source": [
        "Load the data, shuffled and split between train and test sets"
      ]
    },
    {
      "cell_type": "code",
      "execution_count": 5,
      "id": "egyptian-driving",
      "metadata": {
        "id": "egyptian-driving"
      },
      "outputs": [],
      "source": [
        "(x_train, y_train), (x_test, y_test) = mnist.load_data()"
      ]
    },
    {
      "cell_type": "markdown",
      "id": "creative-cricket",
      "metadata": {
        "id": "creative-cricket"
      },
      "source": [
        "Get the size of the sample train data"
      ]
    },
    {
      "cell_type": "code",
      "execution_count": 11,
      "id": "instrumental-funds",
      "metadata": {
        "id": "instrumental-funds"
      },
      "outputs": [
        {
          "data": {
            "text/plain": [
              "(28, 28)"
            ]
          },
          "execution_count": 11,
          "metadata": {},
          "output_type": "execute_result"
        }
      ],
      "source": [
        "x_train[0].shape"
      ]
    },
    {
      "cell_type": "markdown",
      "id": "atmospheric-carol",
      "metadata": {
        "id": "atmospheric-carol"
      },
      "source": [
        "Check the sample train data"
      ]
    },
    {
      "cell_type": "code",
      "execution_count": 12,
      "id": "mental-johnston",
      "metadata": {
        "id": "mental-johnston"
      },
      "outputs": [
        {
          "data": {
            "text/plain": [
              "array([[  0,   0,   0,   0,   0,   0,   0,   0,   0,   0,   0,   0,   0,\n",
              "          0,   0,   0,   0,   0,   0,   0,   0,   0,   0,   0,   0,   0,\n",
              "          0,   0],\n",
              "       [  0,   0,   0,   0,   0,   0,   0,   0,   0,   0,   0,   0,   0,\n",
              "          0,   0,   0,   0,   0,   0,   0,   0,   0,   0,   0,   0,   0,\n",
              "          0,   0],\n",
              "       [  0,   0,   0,   0,   0,   0,   0,   0,   0,   0,   0,   0,   0,\n",
              "          0,   0,   0,   0,   0,   0,   0,   0,   0,   0,   0,   0,   0,\n",
              "          0,   0],\n",
              "       [  0,   0,   0,   0,   0,   0,   0,   0,   0,   0,   0,   0,   0,\n",
              "          0,   0,   0,   0,   0,   0,   0,   0,   0,   0,   0,   0,   0,\n",
              "          0,   0],\n",
              "       [  0,   0,   0,   0,   0,   0,   0,   0,   0,   0,   0,   0,   0,\n",
              "          0,   0,   0,   0,   0,   0,   0,   0,   0,   0,   0,   0,   0,\n",
              "          0,   0],\n",
              "       [  0,   0,   0,   0,   0,   0,   0,   0,   0,   0,   0,  87, 138,\n",
              "        170, 253, 201, 244, 212, 222, 138,  86,  22,   0,   0,   0,   0,\n",
              "          0,   0],\n",
              "       [  0,   0,   0,   0,   0,   0,   0,   0,   0,   0,  95, 253, 252,\n",
              "        252, 252, 252, 253, 252, 252, 252, 252, 245,  80,   0,   0,   0,\n",
              "          0,   0],\n",
              "       [  0,   0,   0,   0,   0,   0,   0,   0,   0,  68, 246, 205,  69,\n",
              "         69,  69,  69,  69,  69,  69,  69, 205, 253, 240,  50,   0,   0,\n",
              "          0,   0],\n",
              "       [  0,   0,   0,   0,   0,   0,   0,   0,   0, 187, 252, 218,  34,\n",
              "          0,   0,   0,   0,   0,   0,   0, 116, 253, 252,  69,   0,   0,\n",
              "          0,   0],\n",
              "       [  0,   0,   0,   0,   0,   0,   0,   0, 116, 248, 252, 253,  92,\n",
              "          0,   0,   0,   0,   0,   0,  95, 230, 253, 157,   6,   0,   0,\n",
              "          0,   0],\n",
              "       [  0,   0,   0,   0,   0,   0,   0,   0, 116, 249, 253, 189,  42,\n",
              "          0,   0,   0,   0,  36, 170, 253, 243, 158,   0,   0,   0,   0,\n",
              "          0,   0],\n",
              "       [  0,   0,   0,   0,   0,   0,   0,   0,   0, 133, 252, 245, 140,\n",
              "         34,   0,   0,  57, 219, 252, 235,  60,   0,   0,   0,   0,   0,\n",
              "          0,   0],\n",
              "       [  0,   0,   0,   0,   0,   0,   0,   0,   0,  25, 205, 253, 252,\n",
              "        234, 184, 184, 253, 240, 100,  44,   0,   0,   0,   0,   0,   0,\n",
              "          0,   0],\n",
              "       [  0,   0,   0,   0,   0,   0,   0,   0,   0,   0,  21, 161, 219,\n",
              "        252, 252, 252, 234,  37,   0,   0,   0,   0,   0,   0,   0,   0,\n",
              "          0,   0],\n",
              "       [  0,   0,   0,   0,   0,   0,   0,   0,   0,   0,   0,  11, 203,\n",
              "        252, 252, 252, 251, 135,   0,   0,   0,   0,   0,   0,   0,   0,\n",
              "          0,   0],\n",
              "       [  0,   0,   0,   0,   0,   0,   0,   0,   0,   9,  76, 255, 253,\n",
              "        205, 168, 220, 255, 253, 137,   5,   0,   0,   0,   0,   0,   0,\n",
              "          0,   0],\n",
              "       [  0,   0,   0,   0,   0,   0,   0,   0,   0, 114, 252, 249, 132,\n",
              "         25,   0,   0, 180, 252, 252,  45,   0,   0,   0,   0,   0,   0,\n",
              "          0,   0],\n",
              "       [  0,   0,   0,   0,   0,   0,   0,   0,  51, 220, 252, 199,   0,\n",
              "          0,   0,   0,  38, 186, 252, 154,   7,   0,   0,   0,   0,   0,\n",
              "          0,   0],\n",
              "       [  0,   0,   0,   0,   0,   0,   0,   0, 184, 252, 252,  21,   0,\n",
              "          0,   0,   0,   0,  67, 252, 252,  22,   0,   0,   0,   0,   0,\n",
              "          0,   0],\n",
              "       [  0,   0,   0,   0,   0,   0,   0,   0, 184, 252, 200,   0,   0,\n",
              "          0,   0,   0,   0,  47, 252, 252,  22,   0,   0,   0,   0,   0,\n",
              "          0,   0],\n",
              "       [  0,   0,   0,   0,   0,   0,   0,   0, 185, 253, 201,   0,   0,\n",
              "          0,   0,   0,   3, 118, 253, 245,  21,   0,   0,   0,   0,   0,\n",
              "          0,   0],\n",
              "       [  0,   0,   0,   0,   0,   0,   0,   0, 163, 252, 252,   0,   0,\n",
              "          0,   0,   0,  97, 252, 252,  87,   0,   0,   0,   0,   0,   0,\n",
              "          0,   0],\n",
              "       [  0,   0,   0,   0,   0,   0,   0,   0,  51, 240, 252, 123,  70,\n",
              "         70, 112, 184, 222, 252, 170,  13,   0,   0,   0,   0,   0,   0,\n",
              "          0,   0],\n",
              "       [  0,   0,   0,   0,   0,   0,   0,   0,   0, 165, 252, 253, 252,\n",
              "        252, 252, 252, 245, 139,  13,   0,   0,   0,   0,   0,   0,   0,\n",
              "          0,   0],\n",
              "       [  0,   0,   0,   0,   0,   0,   0,   0,   0,   9,  75, 253, 252,\n",
              "        221, 137, 137,  21,   0,   0,   0,   0,   0,   0,   0,   0,   0,\n",
              "          0,   0],\n",
              "       [  0,   0,   0,   0,   0,   0,   0,   0,   0,   0,   0,   0,   0,\n",
              "          0,   0,   0,   0,   0,   0,   0,   0,   0,   0,   0,   0,   0,\n",
              "          0,   0],\n",
              "       [  0,   0,   0,   0,   0,   0,   0,   0,   0,   0,   0,   0,   0,\n",
              "          0,   0,   0,   0,   0,   0,   0,   0,   0,   0,   0,   0,   0,\n",
              "          0,   0],\n",
              "       [  0,   0,   0,   0,   0,   0,   0,   0,   0,   0,   0,   0,   0,\n",
              "          0,   0,   0,   0,   0,   0,   0,   0,   0,   0,   0,   0,   0,\n",
              "          0,   0]], dtype=uint8)"
            ]
          },
          "execution_count": 12,
          "metadata": {},
          "output_type": "execute_result"
        }
      ],
      "source": [
        "x_train[333]"
      ]
    },
    {
      "cell_type": "markdown",
      "id": "compact-disposal",
      "metadata": {
        "id": "compact-disposal"
      },
      "source": [
        "Check the corresponding label in the training set"
      ]
    },
    {
      "cell_type": "code",
      "execution_count": 13,
      "id": "cutting-gentleman",
      "metadata": {
        "id": "cutting-gentleman"
      },
      "outputs": [
        {
          "data": {
            "text/plain": [
              "8"
            ]
          },
          "execution_count": 13,
          "metadata": {},
          "output_type": "execute_result"
        }
      ],
      "source": [
        "\n",
        "y_train[333]"
      ]
    },
    {
      "cell_type": "markdown",
      "id": "147d0a6f",
      "metadata": {},
      "source": [
        "Check the actual image"
      ]
    },
    {
      "cell_type": "code",
      "execution_count": 14,
      "id": "tight-motivation",
      "metadata": {
        "id": "tight-motivation"
      },
      "outputs": [
        {
          "data": {
            "text/plain": [
              "<matplotlib.image.AxesImage at 0x22e128bec10>"
            ]
          },
          "execution_count": 14,
          "metadata": {},
          "output_type": "execute_result"
        },
        {
          "data": {
            "image/png": "[encoded data removed]",
            "text/plain": [
              "<Figure size 640x480 with 1 Axes>"
            ]
          },
          "metadata": {},
          "output_type": "display_data"
        }
      ],
      "source": [
        "\n",
        "plt.imshow(x_train[333], cmap='Greys_r')"
      ]
    },
    {
      "cell_type": "markdown",
      "id": "brutal-young",
      "metadata": {
        "id": "brutal-young"
      },
      "source": [
        "Check the shape of the x_train and x_test"
      ]
    },
    {
      "cell_type": "code",
      "execution_count": 15,
      "id": "residential-rouge",
      "metadata": {
        "id": "residential-rouge"
      },
      "outputs": [
        {
          "name": "stdout",
          "output_type": "stream",
          "text": [
            "(60000, 28, 28) train samples\n",
            "(10000, 28, 28) test samples\n"
          ]
        }
      ],
      "source": [
        "\n",
        "print(x_train.shape, 'train samples')\n",
        "print(x_test.shape, 'test samples')"
      ]
    },
    {
      "cell_type": "code",
      "execution_count": 16,
      "id": "f63e1daa",
      "metadata": {},
      "outputs": [
        {
          "data": {
            "text/plain": [
              "60000"
            ]
          },
          "execution_count": 16,
          "metadata": {},
          "output_type": "execute_result"
        }
      ],
      "source": [
        "len(x_train)"
      ]
    },
    {
      "cell_type": "markdown",
      "id": "secret-parameter",
      "metadata": {
        "id": "secret-parameter"
      },
      "source": [
        "* Convert the x_train and x_test\n",
        "* Cast the numbers to floats\n",
        "* Normalize the inputs"
      ]
    },
    {
      "cell_type": "code",
      "execution_count": 6,
      "id": "intense-daisy",
      "metadata": {
        "id": "intense-daisy"
      },
      "outputs": [],
      "source": [
        "\n",
        "x_train = x_train.reshape(len(x_train), 28*28)\n",
        "x_test = x_test.reshape(len(x_test), 28*28)\n",
        "\n",
        "\n",
        "x_train = x_train.astype('float32')\n",
        "x_test = x_test.astype('float32')\n",
        "\n",
        "\n",
        "x_train /= 255\n",
        "x_test /= 255\n"
      ]
    },
    {
      "cell_type": "markdown",
      "id": "celtic-output",
      "metadata": {
        "id": "celtic-output"
      },
      "source": [
        "Convert class vectors to binary class matrices"
      ]
    },
    {
      "cell_type": "code",
      "execution_count": 7,
      "id": "confidential-incentive",
      "metadata": {
        "id": "confidential-incentive"
      },
      "outputs": [
        {
          "data": {
            "text/plain": [
              "array([0., 0., 0., 0., 0., 0., 0., 0., 1., 0.], dtype=float32)"
            ]
          },
          "execution_count": 7,
          "metadata": {},
          "output_type": "execute_result"
        }
      ],
      "source": [
        "\n",
        "num_classes = 10\n",
        "y_train = keras.utils.to_categorical(y_train, num_classes)\n",
        "y_test = keras.utils.to_categorical(y_test, num_classes)\n",
        "\n",
        "y_train[333]  # now the digit k is represented by a 1 in the kth entry (0-indexed) of the length 10 vector"
      ]
    },
    {
      "cell_type": "markdown",
      "id": "lightweight-walter",
      "metadata": {
        "id": "lightweight-walter"
      },
      "source": [
        "* Build the model with two hidden layers of size 512.\n",
        "* Use dropout of 0.2\n",
        "* Check the model summary"
      ]
    },
    {
      "cell_type": "code",
      "execution_count": 19,
      "id": "level-blair",
      "metadata": {
        "id": "level-blair"
      },
      "outputs": [
        {
          "name": "stdout",
          "output_type": "stream",
          "text": [
            "WARNING:tensorflow:From C:\\Users\\MJ\\anaconda3\\Lib\\site-packages\\keras\\src\\backend.py:873: The name tf.get_default_graph is deprecated. Please use tf.compat.v1.get_default_graph instead.\n",
            "\n"
          ]
        }
      ],
      "source": [
        "\n",
        "model = Sequential()\n",
        "model.add(Dense(64, activation='relu', input_shape=(784,)))\n",
        "model.add(Dropout(0.2))\n",
        "model.add(Dense(64, activation='relu'))\n",
        "model.add(Dropout(0.2))\n",
        "model.add(Dense(10, activation='softmax'))"
      ]
    },
    {
      "cell_type": "code",
      "execution_count": 20,
      "id": "filled-class",
      "metadata": {
        "id": "filled-class"
      },
      "outputs": [
        {
          "name": "stdout",
          "output_type": "stream",
          "text": [
            "Model: \"sequential\"\n",
            "_________________________________________________________________\n",
            " Layer (type)                Output Shape              Param #   \n",
            "=================================================================\n",
            " dense (Dense)               (None, 64)                50240     \n",
            "                                                                 \n",
            " dropout (Dropout)           (None, 64)                0         \n",
            "                                                                 \n",
            " dense_1 (Dense)             (None, 64)                4160      \n",
            "                                                                 \n",
            " dropout_1 (Dropout)         (None, 64)                0         \n",
            "                                                                 \n",
            " dense_2 (Dense)             (None, 10)                650       \n",
            "                                                                 \n",
            "=================================================================\n",
            "Total params: 55050 (215.04 KB)\n",
            "Trainable params: 55050 (215.04 KB)\n",
            "Non-trainable params: 0 (0.00 Byte)\n",
            "_________________________________________________________________\n"
          ]
        }
      ],
      "source": [
        "model.summary()"
      ]
    },
    {
      "cell_type": "markdown",
      "id": "a142f517",
      "metadata": {},
      "source": [
        "- Dropout is a regularization technique used to avoid overfitting in neural networks. With a parameter 0f 20%, a random 20% of the input data values will be set to 0 to avoid overfitting. 2 dropout layer are added to the first 2 dense layer."
      ]
    },
    {
      "cell_type": "markdown",
      "id": "thrown-entry",
      "metadata": {
        "id": "thrown-entry"
      },
      "source": [
        "Compile the model using learning rate of 0.001 and optimizer of RMSprop"
      ]
    },
    {
      "cell_type": "code",
      "execution_count": 21,
      "id": "oriental-family",
      "metadata": {
        "id": "oriental-family"
      },
      "outputs": [
        {
          "name": "stderr",
          "output_type": "stream",
          "text": [
            "WARNING:absl:`lr` is deprecated in Keras optimizer, please use `learning_rate` or use the legacy optimizer, e.g.,tf.keras.optimizers.legacy.RMSprop.\n"
          ]
        },
        {
          "name": "stdout",
          "output_type": "stream",
          "text": [
            "Epoch 1/30\n",
            "WARNING:tensorflow:From C:\\Users\\MJ\\anaconda3\\Lib\\site-packages\\keras\\src\\utils\\tf_utils.py:492: The name tf.ragged.RaggedTensorValue is deprecated. Please use tf.compat.v1.ragged.RaggedTensorValue instead.\n",
            "\n"
          ]
        },
        {
          "name": "stderr",
          "output_type": "stream",
          "text": [
            "WARNING:tensorflow:From C:\\Users\\MJ\\anaconda3\\Lib\\site-packages\\keras\\src\\utils\\tf_utils.py:492: The name tf.ragged.RaggedTensorValue is deprecated. Please use tf.compat.v1.ragged.RaggedTensorValue instead.\n",
            "\n"
          ]
        },
        {
          "name": "stdout",
          "output_type": "stream",
          "text": [
            "WARNING:tensorflow:From C:\\Users\\MJ\\anaconda3\\Lib\\site-packages\\keras\\src\\engine\\base_layer_utils.py:384: The name tf.executing_eagerly_outside_functions is deprecated. Please use tf.compat.v1.executing_eagerly_outside_functions instead.\n",
            "\n"
          ]
        },
        {
          "name": "stderr",
          "output_type": "stream",
          "text": [
            "WARNING:tensorflow:From C:\\Users\\MJ\\anaconda3\\Lib\\site-packages\\keras\\src\\engine\\base_layer_utils.py:384: The name tf.executing_eagerly_outside_functions is deprecated. Please use tf.compat.v1.executing_eagerly_outside_functions instead.\n",
            "\n"
          ]
        },
        {
          "name": "stdout",
          "output_type": "stream",
          "text": [
            "469/469 [==============================] - 5s 8ms/step - loss: 0.5059 - accuracy: 0.8478 - val_loss: 0.2017 - val_accuracy: 0.9387\n",
            "Epoch 2/30\n",
            "469/469 [==============================] - 2s 5ms/step - loss: 0.2472 - accuracy: 0.9273 - val_loss: 0.1435 - val_accuracy: 0.9574\n",
            "Epoch 3/30\n",
            "469/469 [==============================] - 2s 5ms/step - loss: 0.1953 - accuracy: 0.9419 - val_loss: 0.1239 - val_accuracy: 0.9609\n",
            "Epoch 4/30\n",
            "469/469 [==============================] - 2s 5ms/step - loss: 0.1730 - accuracy: 0.9493 - val_loss: 0.1140 - val_accuracy: 0.9658\n",
            "Epoch 5/30\n",
            "469/469 [==============================] - 2s 4ms/step - loss: 0.1562 - accuracy: 0.9537 - val_loss: 0.1048 - val_accuracy: 0.9689\n",
            "Epoch 6/30\n",
            "469/469 [==============================] - 2s 4ms/step - loss: 0.1412 - accuracy: 0.9581 - val_loss: 0.1013 - val_accuracy: 0.9709\n",
            "Epoch 7/30\n",
            "469/469 [==============================] - 2s 4ms/step - loss: 0.1327 - accuracy: 0.9607 - val_loss: 0.0993 - val_accuracy: 0.9712\n",
            "Epoch 8/30\n",
            "469/469 [==============================] - 2s 4ms/step - loss: 0.1256 - accuracy: 0.9618 - val_loss: 0.0949 - val_accuracy: 0.9731\n",
            "Epoch 9/30\n",
            "469/469 [==============================] - 2s 5ms/step - loss: 0.1186 - accuracy: 0.9642 - val_loss: 0.0980 - val_accuracy: 0.9724\n",
            "Epoch 10/30\n",
            "469/469 [==============================] - 2s 5ms/step - loss: 0.1134 - accuracy: 0.9660 - val_loss: 0.1010 - val_accuracy: 0.9726\n",
            "Epoch 11/30\n",
            "469/469 [==============================] - 2s 4ms/step - loss: 0.1097 - accuracy: 0.9677 - val_loss: 0.0978 - val_accuracy: 0.9732\n",
            "Epoch 12/30\n",
            "469/469 [==============================] - 2s 4ms/step - loss: 0.1038 - accuracy: 0.9686 - val_loss: 0.0940 - val_accuracy: 0.9758\n",
            "Epoch 13/30\n",
            "469/469 [==============================] - 2s 5ms/step - loss: 0.1033 - accuracy: 0.9679 - val_loss: 0.0910 - val_accuracy: 0.9755\n",
            "Epoch 14/30\n",
            "469/469 [==============================] - 2s 5ms/step - loss: 0.0990 - accuracy: 0.9705 - val_loss: 0.0941 - val_accuracy: 0.9750\n",
            "Epoch 15/30\n",
            "469/469 [==============================] - 2s 5ms/step - loss: 0.0983 - accuracy: 0.9702 - val_loss: 0.0970 - val_accuracy: 0.9741\n",
            "Epoch 16/30\n",
            "469/469 [==============================] - 2s 5ms/step - loss: 0.0930 - accuracy: 0.9720 - val_loss: 0.0946 - val_accuracy: 0.9753\n",
            "Epoch 17/30\n",
            "469/469 [==============================] - 2s 5ms/step - loss: 0.0913 - accuracy: 0.9728 - val_loss: 0.0962 - val_accuracy: 0.9749\n",
            "Epoch 18/30\n",
            "469/469 [==============================] - 2s 5ms/step - loss: 0.0892 - accuracy: 0.9732 - val_loss: 0.0903 - val_accuracy: 0.9770\n",
            "Epoch 19/30\n",
            "469/469 [==============================] - 2s 5ms/step - loss: 0.0884 - accuracy: 0.9737 - val_loss: 0.0948 - val_accuracy: 0.9768\n",
            "Epoch 20/30\n",
            "469/469 [==============================] - 2s 5ms/step - loss: 0.0852 - accuracy: 0.9742 - val_loss: 0.0957 - val_accuracy: 0.9739\n",
            "Epoch 21/30\n",
            "469/469 [==============================] - 2s 5ms/step - loss: 0.0854 - accuracy: 0.9747 - val_loss: 0.0971 - val_accuracy: 0.9752\n",
            "Epoch 22/30\n",
            "469/469 [==============================] - 2s 5ms/step - loss: 0.0844 - accuracy: 0.9750 - val_loss: 0.0954 - val_accuracy: 0.9754\n",
            "Epoch 23/30\n",
            "469/469 [==============================] - 2s 5ms/step - loss: 0.0830 - accuracy: 0.9746 - val_loss: 0.1010 - val_accuracy: 0.9763\n",
            "Epoch 24/30\n",
            "469/469 [==============================] - 2s 5ms/step - loss: 0.0825 - accuracy: 0.9756 - val_loss: 0.0991 - val_accuracy: 0.9764\n",
            "Epoch 25/30\n",
            "469/469 [==============================] - 2s 5ms/step - loss: 0.0821 - accuracy: 0.9749 - val_loss: 0.1008 - val_accuracy: 0.9753\n",
            "Epoch 26/30\n",
            "469/469 [==============================] - 2s 5ms/step - loss: 0.0787 - accuracy: 0.9765 - val_loss: 0.1026 - val_accuracy: 0.9764\n",
            "Epoch 27/30\n",
            "469/469 [==============================] - 2s 5ms/step - loss: 0.0783 - accuracy: 0.9762 - val_loss: 0.1030 - val_accuracy: 0.9758\n",
            "Epoch 28/30\n",
            "469/469 [==============================] - 2s 5ms/step - loss: 0.0744 - accuracy: 0.9781 - val_loss: 0.1065 - val_accuracy: 0.9763\n",
            "Epoch 29/30\n",
            "469/469 [==============================] - 2s 5ms/step - loss: 0.0778 - accuracy: 0.9774 - val_loss: 0.1047 - val_accuracy: 0.9751\n",
            "Epoch 30/30\n",
            "469/469 [==============================] - 2s 5ms/step - loss: 0.0748 - accuracy: 0.9773 - val_loss: 0.1050 - val_accuracy: 0.9770\n"
          ]
        }
      ],
      "source": [
        "learning_rate = .001\n",
        "model.compile(loss='categorical_crossentropy',\n",
        "              optimizer=RMSprop(lr=learning_rate),\n",
        "              metrics=['accuracy'])\n",
        "batch_size = 128  # mini-batch with 128 examples\n",
        "epochs = 30\n",
        "history = model.fit(\n",
        "    x_train, y_train,\n",
        "    batch_size=batch_size,\n",
        "    epochs=epochs,\n",
        "    verbose=1,\n",
        "    validation_data=(x_test, y_test))"
      ]
    },
    {
      "cell_type": "markdown",
      "id": "forty-trout",
      "metadata": {
        "id": "forty-trout"
      },
      "source": [
        "Use Keras evaluate function to evaluate performance on the test set"
      ]
    },
    {
      "cell_type": "code",
      "execution_count": 22,
      "id": "random-ballet",
      "metadata": {
        "id": "random-ballet"
      },
      "outputs": [
        {
          "name": "stdout",
          "output_type": "stream",
          "text": [
            "Test loss: 0.10495549440383911\n",
            "Test accuracy: 0.9769999980926514\n"
          ]
        }
      ],
      "source": [
        "\n",
        "score = model.evaluate(x_test, y_test, verbose=0)\n",
        "print('Test loss:', score[0])\n",
        "print('Test accuracy:', score[1])"
      ]
    },
    {
      "cell_type": "markdown",
      "id": "fatal-tournament",
      "metadata": {
        "id": "fatal-tournament"
      },
      "source": [
        "Interpret the result"
      ]
    },
    {
      "cell_type": "markdown",
      "id": "german-breed",
      "metadata": {
        "id": "german-breed"
      },
      "source": [
        "#type your answer here"
      ]
    },
    {
      "cell_type": "code",
      "execution_count": 11,
      "id": "imported-impression",
      "metadata": {
        "id": "imported-impression"
      },
      "outputs": [
        {
          "ename": "NameError",
          "evalue": "name 'history' is not defined",
          "output_type": "error",
          "traceback": [
            "\u001b[1;31m---------------------------------------------------------------------------\u001b[0m",
            "\u001b[1;31mNameError\u001b[0m                                 Traceback (most recent call last)",
            "\u001b[1;32mc:\\Users\\MJ\\projects\\CPE-313---Activities\\Hands_on_Activity_1_3_Regularization.ipynb Cell 35\u001b[0m line \u001b[0;36m1\n\u001b[0;32m     <a href='vscode-notebook-cell:/c%3A/Users/MJ/projects/CPE-313---Activities/Hands_on_Activity_1_3_Regularization.ipynb#X43sZmlsZQ%3D%3D?line=14'>15</a>\u001b[0m     ax\u001b[39m.\u001b[39mset_title(\u001b[39m'\u001b[39m\u001b[39maccuracy\u001b[39m\u001b[39m'\u001b[39m)\n\u001b[0;32m     <a href='vscode-notebook-cell:/c%3A/Users/MJ/projects/CPE-313---Activities/Hands_on_Activity_1_3_Regularization.ipynb#X43sZmlsZQ%3D%3D?line=15'>16</a>\u001b[0m     ax\u001b[39m.\u001b[39mgrid(\u001b[39mTrue\u001b[39;00m)\n\u001b[1;32m---> <a href='vscode-notebook-cell:/c%3A/Users/MJ/projects/CPE-313---Activities/Hands_on_Activity_1_3_Regularization.ipynb#X43sZmlsZQ%3D%3D?line=18'>19</a>\u001b[0m plot_loss_accuracy(history)\n",
            "\u001b[1;31mNameError\u001b[0m: name 'history' is not defined"
          ]
        }
      ],
      "source": [
        "def plot_loss_accuracy(history):\n",
        "    fig = plt.figure(figsize=(12, 6))\n",
        "    ax = fig.add_subplot(1, 2, 1)\n",
        "    ax.plot(history.history[\"loss\"],'r-x', label=\"Train Loss\")\n",
        "    ax.plot(history.history[\"val_loss\"],'b-x', label=\"Validation Loss\")\n",
        "    ax.legend()\n",
        "    ax.set_title('cross_entropy loss')\n",
        "    ax.grid(True)\n",
        "\n",
        "\n",
        "    ax = fig.add_subplot(1, 2, 2)\n",
        "    ax.plot(history.history[\"accuracy\"],'r-x', label=\"Train Accuracy\")\n",
        "    ax.plot(history.history[\"val_accuracy\"],'b-x', label=\"Validation Accuracy\")\n",
        "    ax.legend()\n",
        "    ax.set_title('accuracy')\n",
        "    ax.grid(True)\n",
        "\n",
        "\n",
        "plot_loss_accuracy(history)"
      ]
    },
    {
      "cell_type": "markdown",
      "id": "acoustic-recipient",
      "metadata": {
        "id": "acoustic-recipient"
      },
      "source": [
        "Interpret the result."
      ]
    },
    {
      "cell_type": "markdown",
      "id": "cross-hotel",
      "metadata": {
        "id": "cross-hotel"
      },
      "source": [
        "- As the number of epochs increases, the loss in training reaches below 0.1 loss, compared to validation which seems to plateau after 5-10 epochs. In cross entropy loss, there might be a hint of overfitting because towards the end, training loss is lower compared to validation loss. Increasing the number of epochs should increase the gap between validation and training loss. In terms of accuracy, the model performed well with approximately 98% accuracy at 30 epochs."
      ]
    },
    {
      "cell_type": "markdown",
      "id": "three-terrorist",
      "metadata": {
        "id": "three-terrorist"
      },
      "source": [
        "#### Supplementary Activity\n",
        "\n",
        "* Use the Keras \"Sequential\" functionality to build a new model (model_1) with the following specifications:\n",
        "\n",
        "1. Two hidden layers.\n",
        "2. First hidden layer of size 400 and second of size 300\n",
        "3. Dropout of .4 at each layer\n",
        "4. How many parameters does your model have?  How does it compare with the previous model?\n",
        "5. Train this model for 20 epochs with RMSProp at a learning rate of .001 and a batch size of 128\n",
        "6. Use at least two  regularization techniques and apply it to the new model (model_2)\n",
        "7. Train this model for your preferred epochs , learning rate, batch size and optimizer\n",
        "8. Compare the accuracy and loss (training and validation) of model_1 and model_2"
      ]
    },
    {
      "cell_type": "code",
      "execution_count": 26,
      "id": "1e31703e",
      "metadata": {},
      "outputs": [],
      "source": [
        "# Two hidden layers\n",
        "model_1 = Sequential()\n",
        "model_1.add(Dense(400, activation= 'relu', input_shape=(784,)))    # first hidden layer with size 400\n",
        "model_1.add(Dropout(0.4))   # first dropout with 40% \n",
        "model_1.add(Dense(300, activation='relu', input_shape=(784,)))     # second hidden layer with size 300\n",
        "model_1.add(Dropout(0.4))   # second dropout with 40%\n",
        "\n",
        "# Since MNIST dataset is a multi-class classification problem, softmax will be the output activation function\n",
        "model_1.add(Dense(10, activation='softmax'))    # output layer with 10 outputs using softmax activation"
      ]
    },
    {
      "cell_type": "code",
      "execution_count": 31,
      "id": "374ef04f",
      "metadata": {},
      "outputs": [
        {
          "name": "stderr",
          "output_type": "stream",
          "text": [
            "WARNING:absl:`lr` is deprecated in Keras optimizer, please use `learning_rate` or use the legacy optimizer, e.g.,tf.keras.optimizers.legacy.RMSprop.\n"
          ]
        },
        {
          "name": "stdout",
          "output_type": "stream",
          "text": [
            "Epoch 1/20\n",
            "469/469 [==============================] - 4s 7ms/step - loss: 0.0560 - accuracy: 0.9841 - val_loss: 0.0737 - val_accuracy: 0.9815\n",
            "Epoch 2/20\n",
            "469/469 [==============================] - 3s 7ms/step - loss: 0.0521 - accuracy: 0.9847 - val_loss: 0.0672 - val_accuracy: 0.9829\n",
            "Epoch 3/20\n",
            "469/469 [==============================] - 3s 7ms/step - loss: 0.0497 - accuracy: 0.9853 - val_loss: 0.0728 - val_accuracy: 0.9829\n",
            "Epoch 4/20\n",
            "469/469 [==============================] - 3s 7ms/step - loss: 0.0491 - accuracy: 0.9854 - val_loss: 0.0700 - val_accuracy: 0.9827\n",
            "Epoch 5/20\n",
            "469/469 [==============================] - 3s 7ms/step - loss: 0.0466 - accuracy: 0.9861 - val_loss: 0.0725 - val_accuracy: 0.9834\n",
            "Epoch 6/20\n",
            "469/469 [==============================] - 3s 7ms/step - loss: 0.0422 - accuracy: 0.9871 - val_loss: 0.0794 - val_accuracy: 0.9831\n",
            "Epoch 7/20\n",
            "469/469 [==============================] - 3s 7ms/step - loss: 0.0401 - accuracy: 0.9881 - val_loss: 0.0732 - val_accuracy: 0.9830\n",
            "Epoch 8/20\n",
            "469/469 [==============================] - 3s 7ms/step - loss: 0.0413 - accuracy: 0.9877 - val_loss: 0.0723 - val_accuracy: 0.9841\n",
            "Epoch 9/20\n",
            "469/469 [==============================] - 3s 7ms/step - loss: 0.0400 - accuracy: 0.9886 - val_loss: 0.0745 - val_accuracy: 0.9836\n",
            "Epoch 10/20\n",
            "469/469 [==============================] - 3s 7ms/step - loss: 0.0409 - accuracy: 0.9880 - val_loss: 0.0746 - val_accuracy: 0.9844\n",
            "Epoch 11/20\n",
            "469/469 [==============================] - 3s 7ms/step - loss: 0.0376 - accuracy: 0.9887 - val_loss: 0.0753 - val_accuracy: 0.9845\n",
            "Epoch 12/20\n",
            "469/469 [==============================] - 3s 7ms/step - loss: 0.0365 - accuracy: 0.9898 - val_loss: 0.0785 - val_accuracy: 0.9833\n",
            "Epoch 13/20\n",
            "469/469 [==============================] - 3s 7ms/step - loss: 0.0338 - accuracy: 0.9899 - val_loss: 0.0823 - val_accuracy: 0.9847\n",
            "Epoch 14/20\n",
            "469/469 [==============================] - 3s 7ms/step - loss: 0.0332 - accuracy: 0.9905 - val_loss: 0.0795 - val_accuracy: 0.9843\n",
            "Epoch 15/20\n",
            "469/469 [==============================] - 3s 7ms/step - loss: 0.0322 - accuracy: 0.9904 - val_loss: 0.0767 - val_accuracy: 0.9839\n",
            "Epoch 16/20\n",
            "469/469 [==============================] - 3s 7ms/step - loss: 0.0331 - accuracy: 0.9905 - val_loss: 0.0806 - val_accuracy: 0.9839\n",
            "Epoch 17/20\n",
            "469/469 [==============================] - 3s 7ms/step - loss: 0.0310 - accuracy: 0.9903 - val_loss: 0.0809 - val_accuracy: 0.9838\n",
            "Epoch 18/20\n",
            "469/469 [==============================] - 3s 7ms/step - loss: 0.0305 - accuracy: 0.9911 - val_loss: 0.0826 - val_accuracy: 0.9841\n",
            "Epoch 19/20\n",
            "469/469 [==============================] - 3s 7ms/step - loss: 0.0301 - accuracy: 0.9915 - val_loss: 0.0809 - val_accuracy: 0.9840\n",
            "Epoch 20/20\n",
            "469/469 [==============================] - 3s 6ms/step - loss: 0.0295 - accuracy: 0.9911 - val_loss: 0.0786 - val_accuracy: 0.9831\n"
          ]
        }
      ],
      "source": [
        "learning_rate = .001\n",
        "model_1.compile(loss='categorical_crossentropy',\n",
        "            optimizer=RMSprop(lr=learning_rate),\n",
        "            metrics=['accuracy'])\n",
        "batch_size = 128  # mini-batch with 128 examples\n",
        "epochs = 20 # use 20 epochs for model_1\n",
        "model_1_hist = model_1.fit(\n",
        "    x_train, y_train,\n",
        "    batch_size=batch_size,\n",
        "    epochs=epochs,\n",
        "    verbose=1,\n",
        "    validation_data=(x_test, y_test))"
      ]
    },
    {
      "cell_type": "code",
      "execution_count": 33,
      "id": "10187a2e",
      "metadata": {},
      "outputs": [
        {
          "data": {
            "image/png": "[encoded data removed]",
            "text/plain": [
              "<Figure size 1200x600 with 2 Axes>"
            ]
          },
          "metadata": {},
          "output_type": "display_data"
        }
      ],
      "source": [
        "# let's plot model_1 loss and accuracy\n",
        "plot_loss_accuracy(model_1_hist)\n"
      ]
    },
    {
      "cell_type": "markdown",
      "id": "4dc1fc5a",
      "metadata": {},
      "source": [
        "- At first, it may seem that there is HUGE overfitting within the training loss, but it's actually only approx. 0.04 difference in training and validation loss. There might be a tiny overfitting but this can be solved in improving the model's parameters. Increasing the size in building the model helped the performance of model to increase compared to the model created in the procedure. The accuracy of training almost reached 100% accuracy compared to 98.3% validation accuracy at 20 epochs. Tinkering with the parameter of Regularization (Dropout) will definitely decrease the hint of overfitting existing in model_1."
      ]
    },
    {
      "cell_type": "markdown",
      "id": "0791ea51",
      "metadata": {},
      "source": [
        "6. Use at least two  regularization techniques and apply it to the new model (model_2)\n",
        "7. Train this model for your preferred epochs , learning rate, batch size and optimizer\n",
        "8. Compare the accuracy and loss (training and validation) of model_1 and model_2"
      ]
    },
    {
      "cell_type": "code",
      "execution_count": 35,
      "id": "95b80e06",
      "metadata": {},
      "outputs": [],
      "source": [
        "# Build model_2 with dropout and l2 regularization\n",
        "model_2 = Sequential()\n",
        "model_2.add(Dense(220, activation= 'relu', input_shape=(784,)))\n",
        "model_2.add(Dropout(0.2))\n",
        "model_2.add(Dense(420, activation= 'relu', input_shape=(784,), kernel_regularizer='l2'))\n",
        "model_2.add(Dropout(0.2))\n",
        "\n",
        "model_2.add(Dense(10, activation='softmax'))"
      ]
    },
    {
      "cell_type": "markdown",
      "id": "e7246b8b",
      "metadata": {},
      "source": [
        "- Let's try hypertuning the parameters for optimal model"
      ]
    },
    {
      "cell_type": "code",
      "execution_count": 42,
      "id": "f66f2ba0",
      "metadata": {},
      "outputs": [
        {
          "name": "stderr",
          "output_type": "stream",
          "text": [
            "WARNING:absl:`lr` is deprecated in Keras optimizer, please use `learning_rate` or use the legacy optimizer, e.g.,tf.keras.optimizers.legacy.RMSprop.\n"
          ]
        },
        {
          "name": "stdout",
          "output_type": "stream",
          "text": [
            "Epoch 1/30\n",
            "469/469 [==============================] - 5s 8ms/step - loss: 0.3172 - accuracy: 0.9054 - val_loss: 0.1372 - val_accuracy: 0.9574\n",
            "Epoch 2/30\n",
            "469/469 [==============================] - 4s 8ms/step - loss: 0.1356 - accuracy: 0.9585 - val_loss: 0.0917 - val_accuracy: 0.9714\n",
            "Epoch 3/30\n",
            "469/469 [==============================] - 4s 9ms/step - loss: 0.0993 - accuracy: 0.9693 - val_loss: 0.0878 - val_accuracy: 0.9728\n",
            "Epoch 4/30\n",
            "469/469 [==============================] - 4s 9ms/step - loss: 0.0829 - accuracy: 0.9747 - val_loss: 0.0739 - val_accuracy: 0.9772\n",
            "Epoch 5/30\n",
            "469/469 [==============================] - 4s 9ms/step - loss: 0.0713 - accuracy: 0.9780 - val_loss: 0.0749 - val_accuracy: 0.9781\n",
            "Epoch 6/30\n",
            "469/469 [==============================] - 4s 9ms/step - loss: 0.0616 - accuracy: 0.9806 - val_loss: 0.0720 - val_accuracy: 0.9796\n",
            "Epoch 7/30\n",
            "469/469 [==============================] - 4s 8ms/step - loss: 0.0546 - accuracy: 0.9827 - val_loss: 0.0721 - val_accuracy: 0.9789\n",
            "Epoch 8/30\n",
            "469/469 [==============================] - 3s 7ms/step - loss: 0.0480 - accuracy: 0.9848 - val_loss: 0.0670 - val_accuracy: 0.9806\n",
            "Epoch 9/30\n",
            "469/469 [==============================] - 3s 7ms/step - loss: 0.0458 - accuracy: 0.9857 - val_loss: 0.0686 - val_accuracy: 0.9816\n",
            "Epoch 10/30\n",
            "469/469 [==============================] - 4s 8ms/step - loss: 0.0415 - accuracy: 0.9866 - val_loss: 0.0633 - val_accuracy: 0.9814\n",
            "Epoch 11/30\n",
            "469/469 [==============================] - 3s 7ms/step - loss: 0.0374 - accuracy: 0.9882 - val_loss: 0.0663 - val_accuracy: 0.9816\n",
            "Epoch 12/30\n",
            "469/469 [==============================] - 3s 7ms/step - loss: 0.0330 - accuracy: 0.9896 - val_loss: 0.0750 - val_accuracy: 0.9809\n",
            "Epoch 13/30\n",
            "469/469 [==============================] - 3s 7ms/step - loss: 0.0322 - accuracy: 0.9895 - val_loss: 0.0727 - val_accuracy: 0.9820\n",
            "Epoch 14/30\n",
            "469/469 [==============================] - 4s 8ms/step - loss: 0.0318 - accuracy: 0.9897 - val_loss: 0.0770 - val_accuracy: 0.9825\n",
            "Epoch 15/30\n",
            "469/469 [==============================] - 3s 7ms/step - loss: 0.0277 - accuracy: 0.9911 - val_loss: 0.0750 - val_accuracy: 0.9813\n",
            "Epoch 16/30\n",
            "469/469 [==============================] - 3s 7ms/step - loss: 0.0281 - accuracy: 0.9912 - val_loss: 0.0731 - val_accuracy: 0.9818\n",
            "Epoch 17/30\n",
            "469/469 [==============================] - 3s 7ms/step - loss: 0.0259 - accuracy: 0.9916 - val_loss: 0.0831 - val_accuracy: 0.9824\n",
            "Epoch 18/30\n",
            "469/469 [==============================] - 3s 7ms/step - loss: 0.0250 - accuracy: 0.9918 - val_loss: 0.0796 - val_accuracy: 0.9829\n",
            "Epoch 19/30\n",
            "469/469 [==============================] - 3s 7ms/step - loss: 0.0237 - accuracy: 0.9921 - val_loss: 0.0800 - val_accuracy: 0.9827\n",
            "Epoch 20/30\n",
            "469/469 [==============================] - 3s 7ms/step - loss: 0.0228 - accuracy: 0.9927 - val_loss: 0.0781 - val_accuracy: 0.9833\n",
            "Epoch 21/30\n",
            "469/469 [==============================] - 3s 7ms/step - loss: 0.0219 - accuracy: 0.9928 - val_loss: 0.0810 - val_accuracy: 0.9830\n",
            "Epoch 22/30\n",
            "469/469 [==============================] - 3s 7ms/step - loss: 0.0206 - accuracy: 0.9933 - val_loss: 0.0793 - val_accuracy: 0.9828\n",
            "Epoch 23/30\n",
            "469/469 [==============================] - 3s 7ms/step - loss: 0.0214 - accuracy: 0.9930 - val_loss: 0.0826 - val_accuracy: 0.9835\n",
            "Epoch 24/30\n",
            "469/469 [==============================] - 3s 7ms/step - loss: 0.0200 - accuracy: 0.9936 - val_loss: 0.0893 - val_accuracy: 0.9808\n",
            "Epoch 25/30\n",
            "469/469 [==============================] - 3s 7ms/step - loss: 0.0195 - accuracy: 0.9942 - val_loss: 0.0921 - val_accuracy: 0.9821\n",
            "Epoch 26/30\n",
            "469/469 [==============================] - 3s 7ms/step - loss: 0.0188 - accuracy: 0.9936 - val_loss: 0.0865 - val_accuracy: 0.9833\n",
            "Epoch 27/30\n",
            "469/469 [==============================] - 4s 8ms/step - loss: 0.0190 - accuracy: 0.9941 - val_loss: 0.0781 - val_accuracy: 0.9843\n",
            "Epoch 28/30\n",
            "469/469 [==============================] - 4s 8ms/step - loss: 0.0153 - accuracy: 0.9951 - val_loss: 0.0860 - val_accuracy: 0.9831\n",
            "Epoch 29/30\n",
            "469/469 [==============================] - 4s 8ms/step - loss: 0.0163 - accuracy: 0.9944 - val_loss: 0.0916 - val_accuracy: 0.9825\n",
            "Epoch 30/30\n",
            "469/469 [==============================] - 4s 8ms/step - loss: 0.0176 - accuracy: 0.9943 - val_loss: 0.0831 - val_accuracy: 0.9836\n"
          ]
        },
        {
          "name": "stderr",
          "output_type": "stream",
          "text": [
            "WARNING:absl:`lr` is deprecated in Keras optimizer, please use `learning_rate` or use the legacy optimizer, e.g.,tf.keras.optimizers.legacy.RMSprop.\n"
          ]
        },
        {
          "name": "stdout",
          "output_type": "stream",
          "text": [
            "Epoch 1/30\n",
            "469/469 [==============================] - 4s 8ms/step - loss: 0.3460 - accuracy: 0.8955 - val_loss: 0.1291 - val_accuracy: 0.9581\n",
            "Epoch 2/30\n",
            "469/469 [==============================] - 4s 8ms/step - loss: 0.1553 - accuracy: 0.9531 - val_loss: 0.1003 - val_accuracy: 0.9686\n",
            "Epoch 3/30\n",
            "469/469 [==============================] - 4s 8ms/step - loss: 0.1208 - accuracy: 0.9636 - val_loss: 0.0873 - val_accuracy: 0.9739\n",
            "Epoch 4/30\n",
            "469/469 [==============================] - 4s 8ms/step - loss: 0.1030 - accuracy: 0.9692 - val_loss: 0.0735 - val_accuracy: 0.9770\n",
            "Epoch 5/30\n",
            "469/469 [==============================] - 4s 8ms/step - loss: 0.0901 - accuracy: 0.9732 - val_loss: 0.0704 - val_accuracy: 0.9797\n",
            "Epoch 6/30\n",
            "469/469 [==============================] - 4s 8ms/step - loss: 0.0810 - accuracy: 0.9750 - val_loss: 0.0804 - val_accuracy: 0.9770\n",
            "Epoch 7/30\n",
            "469/469 [==============================] - 4s 8ms/step - loss: 0.0748 - accuracy: 0.9773 - val_loss: 0.0669 - val_accuracy: 0.9818\n",
            "Epoch 8/30\n",
            "469/469 [==============================] - 4s 8ms/step - loss: 0.0685 - accuracy: 0.9794 - val_loss: 0.0668 - val_accuracy: 0.9811\n",
            "Epoch 9/30\n",
            "469/469 [==============================] - 4s 8ms/step - loss: 0.0638 - accuracy: 0.9802 - val_loss: 0.0683 - val_accuracy: 0.9822\n",
            "Epoch 10/30\n",
            "469/469 [==============================] - 3s 7ms/step - loss: 0.0593 - accuracy: 0.9815 - val_loss: 0.0647 - val_accuracy: 0.9827\n",
            "Epoch 11/30\n",
            "469/469 [==============================] - 4s 8ms/step - loss: 0.0559 - accuracy: 0.9836 - val_loss: 0.0715 - val_accuracy: 0.9825\n",
            "Epoch 12/30\n",
            "469/469 [==============================] - 3s 7ms/step - loss: 0.0542 - accuracy: 0.9830 - val_loss: 0.0777 - val_accuracy: 0.9805\n",
            "Epoch 13/30\n",
            "469/469 [==============================] - 3s 7ms/step - loss: 0.0495 - accuracy: 0.9843 - val_loss: 0.0736 - val_accuracy: 0.9825\n",
            "Epoch 14/30\n",
            "469/469 [==============================] - 4s 8ms/step - loss: 0.0501 - accuracy: 0.9853 - val_loss: 0.0741 - val_accuracy: 0.9811\n",
            "Epoch 15/30\n",
            "469/469 [==============================] - 4s 8ms/step - loss: 0.0462 - accuracy: 0.9854 - val_loss: 0.0698 - val_accuracy: 0.9831\n",
            "Epoch 16/30\n",
            "469/469 [==============================] - 4s 8ms/step - loss: 0.0443 - accuracy: 0.9860 - val_loss: 0.0763 - val_accuracy: 0.9815\n",
            "Epoch 17/30\n",
            "469/469 [==============================] - 3s 7ms/step - loss: 0.0425 - accuracy: 0.9864 - val_loss: 0.0821 - val_accuracy: 0.9812\n",
            "Epoch 18/30\n",
            "469/469 [==============================] - 3s 7ms/step - loss: 0.0426 - accuracy: 0.9868 - val_loss: 0.0756 - val_accuracy: 0.9821\n",
            "Epoch 19/30\n",
            "469/469 [==============================] - 4s 8ms/step - loss: 0.0421 - accuracy: 0.9873 - val_loss: 0.0779 - val_accuracy: 0.9839\n",
            "Epoch 20/30\n",
            "469/469 [==============================] - 3s 7ms/step - loss: 0.0359 - accuracy: 0.9884 - val_loss: 0.0792 - val_accuracy: 0.9816\n",
            "Epoch 21/30\n",
            "469/469 [==============================] - 3s 7ms/step - loss: 0.0403 - accuracy: 0.9878 - val_loss: 0.0732 - val_accuracy: 0.9840\n",
            "Epoch 22/30\n",
            "469/469 [==============================] - 3s 7ms/step - loss: 0.0369 - accuracy: 0.9883 - val_loss: 0.0725 - val_accuracy: 0.9851\n",
            "Epoch 23/30\n",
            "469/469 [==============================] - 4s 8ms/step - loss: 0.0362 - accuracy: 0.9894 - val_loss: 0.0800 - val_accuracy: 0.9831\n",
            "Epoch 24/30\n",
            "469/469 [==============================] - 3s 7ms/step - loss: 0.0357 - accuracy: 0.9890 - val_loss: 0.0768 - val_accuracy: 0.9846\n",
            "Epoch 25/30\n",
            "469/469 [==============================] - 4s 7ms/step - loss: 0.0339 - accuracy: 0.9893 - val_loss: 0.0809 - val_accuracy: 0.9843\n",
            "Epoch 26/30\n",
            "469/469 [==============================] - 4s 8ms/step - loss: 0.0333 - accuracy: 0.9896 - val_loss: 0.0823 - val_accuracy: 0.9832\n",
            "Epoch 27/30\n",
            "469/469 [==============================] - 3s 7ms/step - loss: 0.0312 - accuracy: 0.9901 - val_loss: 0.0827 - val_accuracy: 0.9832\n",
            "Epoch 28/30\n",
            "469/469 [==============================] - 3s 7ms/step - loss: 0.0325 - accuracy: 0.9901 - val_loss: 0.0861 - val_accuracy: 0.9842\n",
            "Epoch 29/30\n",
            "469/469 [==============================] - 3s 7ms/step - loss: 0.0308 - accuracy: 0.9907 - val_loss: 0.0899 - val_accuracy: 0.9835\n",
            "Epoch 30/30\n",
            "469/469 [==============================] - 3s 7ms/step - loss: 0.0311 - accuracy: 0.9904 - val_loss: 0.0868 - val_accuracy: 0.9833\n"
          ]
        },
        {
          "name": "stderr",
          "output_type": "stream",
          "text": [
            "WARNING:absl:`lr` is deprecated in Keras optimizer, please use `learning_rate` or use the legacy optimizer, e.g.,tf.keras.optimizers.legacy.RMSprop.\n"
          ]
        },
        {
          "name": "stdout",
          "output_type": "stream",
          "text": [
            "Epoch 1/30\n",
            "469/469 [==============================] - 4s 8ms/step - loss: 0.3964 - accuracy: 0.8788 - val_loss: 0.1524 - val_accuracy: 0.9547\n",
            "Epoch 2/30\n",
            "469/469 [==============================] - 3s 7ms/step - loss: 0.1881 - accuracy: 0.9437 - val_loss: 0.1168 - val_accuracy: 0.9653\n",
            "Epoch 3/30\n",
            "469/469 [==============================] - 4s 8ms/step - loss: 0.1498 - accuracy: 0.9557 - val_loss: 0.0927 - val_accuracy: 0.9719\n",
            "Epoch 4/30\n",
            "469/469 [==============================] - 4s 8ms/step - loss: 0.1287 - accuracy: 0.9616 - val_loss: 0.0830 - val_accuracy: 0.9746\n",
            "Epoch 5/30\n",
            "469/469 [==============================] - 3s 7ms/step - loss: 0.1151 - accuracy: 0.9662 - val_loss: 0.0843 - val_accuracy: 0.9745\n",
            "Epoch 6/30\n",
            "469/469 [==============================] - 4s 8ms/step - loss: 0.1059 - accuracy: 0.9685 - val_loss: 0.0810 - val_accuracy: 0.9768\n",
            "Epoch 7/30\n",
            "469/469 [==============================] - 3s 7ms/step - loss: 0.0971 - accuracy: 0.9712 - val_loss: 0.0795 - val_accuracy: 0.9785\n",
            "Epoch 8/30\n",
            "469/469 [==============================] - 3s 7ms/step - loss: 0.0942 - accuracy: 0.9727 - val_loss: 0.0742 - val_accuracy: 0.9805\n",
            "Epoch 9/30\n",
            "469/469 [==============================] - 3s 7ms/step - loss: 0.0875 - accuracy: 0.9742 - val_loss: 0.0777 - val_accuracy: 0.9800\n",
            "Epoch 10/30\n",
            "469/469 [==============================] - 3s 7ms/step - loss: 0.0850 - accuracy: 0.9750 - val_loss: 0.0760 - val_accuracy: 0.9794\n",
            "Epoch 11/30\n",
            "469/469 [==============================] - 3s 7ms/step - loss: 0.0800 - accuracy: 0.9764 - val_loss: 0.0779 - val_accuracy: 0.9811\n",
            "Epoch 12/30\n",
            "469/469 [==============================] - 3s 7ms/step - loss: 0.0771 - accuracy: 0.9775 - val_loss: 0.0735 - val_accuracy: 0.9811\n",
            "Epoch 13/30\n",
            "469/469 [==============================] - 3s 7ms/step - loss: 0.0754 - accuracy: 0.9776 - val_loss: 0.0825 - val_accuracy: 0.9792\n",
            "Epoch 14/30\n",
            "469/469 [==============================] - 3s 7ms/step - loss: 0.0727 - accuracy: 0.9789 - val_loss: 0.0741 - val_accuracy: 0.9815\n",
            "Epoch 15/30\n",
            "469/469 [==============================] - 3s 7ms/step - loss: 0.0722 - accuracy: 0.9786 - val_loss: 0.0758 - val_accuracy: 0.9818\n",
            "Epoch 16/30\n",
            "469/469 [==============================] - 3s 7ms/step - loss: 0.0670 - accuracy: 0.9801 - val_loss: 0.0798 - val_accuracy: 0.9804\n",
            "Epoch 17/30\n",
            "469/469 [==============================] - 3s 7ms/step - loss: 0.0657 - accuracy: 0.9807 - val_loss: 0.0747 - val_accuracy: 0.9820\n",
            "Epoch 18/30\n",
            "469/469 [==============================] - 3s 7ms/step - loss: 0.0658 - accuracy: 0.9812 - val_loss: 0.0782 - val_accuracy: 0.9810\n",
            "Epoch 19/30\n",
            "469/469 [==============================] - 3s 7ms/step - loss: 0.0605 - accuracy: 0.9823 - val_loss: 0.0831 - val_accuracy: 0.9814\n",
            "Epoch 20/30\n",
            "469/469 [==============================] - 3s 7ms/step - loss: 0.0626 - accuracy: 0.9822 - val_loss: 0.0819 - val_accuracy: 0.9815\n",
            "Epoch 21/30\n",
            "469/469 [==============================] - 4s 8ms/step - loss: 0.0617 - accuracy: 0.9818 - val_loss: 0.0792 - val_accuracy: 0.9820\n",
            "Epoch 22/30\n",
            "469/469 [==============================] - 4s 8ms/step - loss: 0.0639 - accuracy: 0.9818 - val_loss: 0.0782 - val_accuracy: 0.9827\n",
            "Epoch 23/30\n",
            "469/469 [==============================] - 3s 7ms/step - loss: 0.0582 - accuracy: 0.9834 - val_loss: 0.0855 - val_accuracy: 0.9830\n",
            "Epoch 24/30\n",
            "469/469 [==============================] - 3s 7ms/step - loss: 0.0589 - accuracy: 0.9838 - val_loss: 0.0800 - val_accuracy: 0.9839\n",
            "Epoch 25/30\n",
            "469/469 [==============================] - 3s 7ms/step - loss: 0.0534 - accuracy: 0.9844 - val_loss: 0.0958 - val_accuracy: 0.9807\n",
            "Epoch 26/30\n",
            "469/469 [==============================] - 3s 7ms/step - loss: 0.0579 - accuracy: 0.9836 - val_loss: 0.0810 - val_accuracy: 0.9829\n",
            "Epoch 27/30\n",
            "469/469 [==============================] - 3s 7ms/step - loss: 0.0576 - accuracy: 0.9832 - val_loss: 0.0831 - val_accuracy: 0.9823\n",
            "Epoch 28/30\n",
            "469/469 [==============================] - 3s 7ms/step - loss: 0.0552 - accuracy: 0.9845 - val_loss: 0.0874 - val_accuracy: 0.9832\n",
            "Epoch 29/30\n",
            "469/469 [==============================] - 3s 6ms/step - loss: 0.0543 - accuracy: 0.9843 - val_loss: 0.0952 - val_accuracy: 0.9817\n",
            "Epoch 30/30\n",
            "469/469 [==============================] - 3s 7ms/step - loss: 0.0546 - accuracy: 0.9845 - val_loss: 0.0842 - val_accuracy: 0.9824\n"
          ]
        },
        {
          "name": "stderr",
          "output_type": "stream",
          "text": [
            "WARNING:absl:`lr` is deprecated in Keras optimizer, please use `learning_rate` or use the legacy optimizer, e.g.,tf.keras.optimizers.legacy.RMSprop.\n"
          ]
        },
        {
          "name": "stdout",
          "output_type": "stream",
          "text": [
            "Epoch 1/30\n",
            "469/469 [==============================] - 4s 7ms/step - loss: 0.2833 - accuracy: 0.9138 - val_loss: 0.1369 - val_accuracy: 0.9580\n",
            "Epoch 2/30\n",
            "469/469 [==============================] - 3s 7ms/step - loss: 0.1208 - accuracy: 0.9629 - val_loss: 0.0918 - val_accuracy: 0.9715\n",
            "Epoch 3/30\n",
            "469/469 [==============================] - 4s 8ms/step - loss: 0.0861 - accuracy: 0.9736 - val_loss: 0.0815 - val_accuracy: 0.9747\n",
            "Epoch 4/30\n",
            "469/469 [==============================] - 4s 8ms/step - loss: 0.0683 - accuracy: 0.9789 - val_loss: 0.0714 - val_accuracy: 0.9774\n",
            "Epoch 5/30\n",
            "469/469 [==============================] - 4s 8ms/step - loss: 0.0573 - accuracy: 0.9823 - val_loss: 0.0745 - val_accuracy: 0.9789\n",
            "Epoch 6/30\n",
            "469/469 [==============================] - 4s 8ms/step - loss: 0.0495 - accuracy: 0.9846 - val_loss: 0.0638 - val_accuracy: 0.9824\n",
            "Epoch 7/30\n",
            "469/469 [==============================] - 4s 8ms/step - loss: 0.0419 - accuracy: 0.9869 - val_loss: 0.0686 - val_accuracy: 0.9813\n",
            "Epoch 8/30\n",
            "469/469 [==============================] - 3s 7ms/step - loss: 0.0377 - accuracy: 0.9876 - val_loss: 0.0666 - val_accuracy: 0.9823\n",
            "Epoch 9/30\n",
            "469/469 [==============================] - 4s 8ms/step - loss: 0.0356 - accuracy: 0.9887 - val_loss: 0.0557 - val_accuracy: 0.9843\n",
            "Epoch 10/30\n",
            "469/469 [==============================] - 4s 8ms/step - loss: 0.0293 - accuracy: 0.9903 - val_loss: 0.0668 - val_accuracy: 0.9831\n",
            "Epoch 11/30\n",
            "469/469 [==============================] - 4s 8ms/step - loss: 0.0285 - accuracy: 0.9910 - val_loss: 0.0683 - val_accuracy: 0.9831\n",
            "Epoch 12/30\n",
            "469/469 [==============================] - 4s 8ms/step - loss: 0.0262 - accuracy: 0.9912 - val_loss: 0.0660 - val_accuracy: 0.9854\n",
            "Epoch 13/30\n",
            "469/469 [==============================] - 3s 7ms/step - loss: 0.0232 - accuracy: 0.9923 - val_loss: 0.0687 - val_accuracy: 0.9840\n",
            "Epoch 14/30\n",
            "469/469 [==============================] - 3s 7ms/step - loss: 0.0218 - accuracy: 0.9929 - val_loss: 0.0683 - val_accuracy: 0.9838\n",
            "Epoch 15/30\n",
            "469/469 [==============================] - 3s 7ms/step - loss: 0.0207 - accuracy: 0.9937 - val_loss: 0.0671 - val_accuracy: 0.9827\n",
            "Epoch 16/30\n",
            "469/469 [==============================] - 3s 7ms/step - loss: 0.0194 - accuracy: 0.9935 - val_loss: 0.0849 - val_accuracy: 0.9825\n",
            "Epoch 17/30\n",
            "469/469 [==============================] - 3s 7ms/step - loss: 0.0173 - accuracy: 0.9940 - val_loss: 0.0751 - val_accuracy: 0.9843\n",
            "Epoch 18/30\n",
            "469/469 [==============================] - 4s 8ms/step - loss: 0.0169 - accuracy: 0.9941 - val_loss: 0.0726 - val_accuracy: 0.9855\n",
            "Epoch 19/30\n",
            "469/469 [==============================] - 4s 7ms/step - loss: 0.0153 - accuracy: 0.9948 - val_loss: 0.0701 - val_accuracy: 0.9847\n",
            "Epoch 20/30\n",
            "469/469 [==============================] - 3s 7ms/step - loss: 0.0159 - accuracy: 0.9946 - val_loss: 0.0811 - val_accuracy: 0.9836\n",
            "Epoch 21/30\n",
            "469/469 [==============================] - 3s 7ms/step - loss: 0.0142 - accuracy: 0.9954 - val_loss: 0.0757 - val_accuracy: 0.9847\n",
            "Epoch 22/30\n",
            "469/469 [==============================] - 3s 7ms/step - loss: 0.0131 - accuracy: 0.9956 - val_loss: 0.0782 - val_accuracy: 0.9839\n",
            "Epoch 23/30\n",
            "469/469 [==============================] - 3s 7ms/step - loss: 0.0128 - accuracy: 0.9957 - val_loss: 0.0694 - val_accuracy: 0.9858\n",
            "Epoch 24/30\n",
            "469/469 [==============================] - 3s 7ms/step - loss: 0.0127 - accuracy: 0.9960 - val_loss: 0.0853 - val_accuracy: 0.9844\n",
            "Epoch 25/30\n",
            "469/469 [==============================] - 3s 7ms/step - loss: 0.0123 - accuracy: 0.9961 - val_loss: 0.0861 - val_accuracy: 0.9839\n",
            "Epoch 26/30\n",
            "469/469 [==============================] - 3s 7ms/step - loss: 0.0119 - accuracy: 0.9962 - val_loss: 0.0871 - val_accuracy: 0.9836\n",
            "Epoch 27/30\n",
            "469/469 [==============================] - 3s 7ms/step - loss: 0.0114 - accuracy: 0.9961 - val_loss: 0.0848 - val_accuracy: 0.9853\n",
            "Epoch 28/30\n",
            "469/469 [==============================] - 3s 7ms/step - loss: 0.0107 - accuracy: 0.9962 - val_loss: 0.0851 - val_accuracy: 0.9858\n",
            "Epoch 29/30\n",
            "469/469 [==============================] - 3s 7ms/step - loss: 0.0111 - accuracy: 0.9964 - val_loss: 0.0770 - val_accuracy: 0.9853\n",
            "Epoch 30/30\n",
            "469/469 [==============================] - 4s 8ms/step - loss: 0.0099 - accuracy: 0.9966 - val_loss: 0.0848 - val_accuracy: 0.9843\n"
          ]
        },
        {
          "name": "stderr",
          "output_type": "stream",
          "text": [
            "WARNING:absl:`lr` is deprecated in Keras optimizer, please use `learning_rate` or use the legacy optimizer, e.g.,tf.keras.optimizers.legacy.RMSprop.\n"
          ]
        },
        {
          "name": "stdout",
          "output_type": "stream",
          "text": [
            "Epoch 1/30\n",
            "469/469 [==============================] - 4s 8ms/step - loss: 0.3045 - accuracy: 0.9068 - val_loss: 0.1268 - val_accuracy: 0.9601\n",
            "Epoch 2/30\n",
            "469/469 [==============================] - 3s 7ms/step - loss: 0.1365 - accuracy: 0.9592 - val_loss: 0.0967 - val_accuracy: 0.9703\n",
            "Epoch 3/30\n",
            "469/469 [==============================] - 3s 7ms/step - loss: 0.1026 - accuracy: 0.9694 - val_loss: 0.0800 - val_accuracy: 0.9746\n",
            "Epoch 4/30\n",
            "469/469 [==============================] - 3s 7ms/step - loss: 0.0859 - accuracy: 0.9738 - val_loss: 0.0699 - val_accuracy: 0.9786\n",
            "Epoch 5/30\n",
            "469/469 [==============================] - 4s 8ms/step - loss: 0.0725 - accuracy: 0.9776 - val_loss: 0.0714 - val_accuracy: 0.9791\n",
            "Epoch 6/30\n",
            "469/469 [==============================] - 3s 7ms/step - loss: 0.0647 - accuracy: 0.9797 - val_loss: 0.0725 - val_accuracy: 0.9791\n",
            "Epoch 7/30\n",
            "469/469 [==============================] - 3s 7ms/step - loss: 0.0571 - accuracy: 0.9822 - val_loss: 0.0622 - val_accuracy: 0.9814\n",
            "Epoch 8/30\n",
            "469/469 [==============================] - 4s 8ms/step - loss: 0.0530 - accuracy: 0.9836 - val_loss: 0.0628 - val_accuracy: 0.9812\n",
            "Epoch 9/30\n",
            "469/469 [==============================] - 4s 8ms/step - loss: 0.0478 - accuracy: 0.9852 - val_loss: 0.0641 - val_accuracy: 0.9814\n",
            "Epoch 10/30\n",
            "469/469 [==============================] - 4s 8ms/step - loss: 0.0441 - accuracy: 0.9861 - val_loss: 0.0627 - val_accuracy: 0.9832\n",
            "Epoch 11/30\n",
            "469/469 [==============================] - 4s 8ms/step - loss: 0.0411 - accuracy: 0.9876 - val_loss: 0.0675 - val_accuracy: 0.9824\n",
            "Epoch 12/30\n",
            "469/469 [==============================] - 4s 8ms/step - loss: 0.0392 - accuracy: 0.9875 - val_loss: 0.0606 - val_accuracy: 0.9833\n",
            "Epoch 13/30\n",
            "469/469 [==============================] - 4s 7ms/step - loss: 0.0377 - accuracy: 0.9884 - val_loss: 0.0652 - val_accuracy: 0.9838\n",
            "Epoch 14/30\n",
            "469/469 [==============================] - 4s 8ms/step - loss: 0.0336 - accuracy: 0.9891 - val_loss: 0.0631 - val_accuracy: 0.9841\n",
            "Epoch 15/30\n",
            "469/469 [==============================] - 3s 7ms/step - loss: 0.0327 - accuracy: 0.9896 - val_loss: 0.0723 - val_accuracy: 0.9823\n",
            "Epoch 16/30\n",
            "469/469 [==============================] - 3s 7ms/step - loss: 0.0325 - accuracy: 0.9896 - val_loss: 0.0747 - val_accuracy: 0.9822\n",
            "Epoch 17/30\n",
            "469/469 [==============================] - 3s 7ms/step - loss: 0.0296 - accuracy: 0.9903 - val_loss: 0.0788 - val_accuracy: 0.9821\n",
            "Epoch 18/30\n",
            "469/469 [==============================] - 4s 7ms/step - loss: 0.0278 - accuracy: 0.9911 - val_loss: 0.0781 - val_accuracy: 0.9834\n",
            "Epoch 19/30\n",
            "469/469 [==============================] - 4s 8ms/step - loss: 0.0278 - accuracy: 0.9914 - val_loss: 0.0719 - val_accuracy: 0.9843\n",
            "Epoch 20/30\n",
            "469/469 [==============================] - 3s 7ms/step - loss: 0.0257 - accuracy: 0.9920 - val_loss: 0.0812 - val_accuracy: 0.9839\n",
            "Epoch 21/30\n",
            "469/469 [==============================] - 3s 7ms/step - loss: 0.0255 - accuracy: 0.9917 - val_loss: 0.0738 - val_accuracy: 0.9844\n",
            "Epoch 22/30\n",
            "469/469 [==============================] - 4s 8ms/step - loss: 0.0242 - accuracy: 0.9922 - val_loss: 0.0781 - val_accuracy: 0.9845\n",
            "Epoch 23/30\n",
            "469/469 [==============================] - 3s 7ms/step - loss: 0.0224 - accuracy: 0.9931 - val_loss: 0.0739 - val_accuracy: 0.9839\n",
            "Epoch 24/30\n",
            "469/469 [==============================] - 3s 7ms/step - loss: 0.0238 - accuracy: 0.9929 - val_loss: 0.0850 - val_accuracy: 0.9838\n",
            "Epoch 25/30\n",
            "469/469 [==============================] - 3s 7ms/step - loss: 0.0219 - accuracy: 0.9929 - val_loss: 0.0787 - val_accuracy: 0.9839\n",
            "Epoch 26/30\n",
            "469/469 [==============================] - 4s 8ms/step - loss: 0.0225 - accuracy: 0.9933 - val_loss: 0.0725 - val_accuracy: 0.9836\n",
            "Epoch 27/30\n",
            "469/469 [==============================] - 3s 7ms/step - loss: 0.0198 - accuracy: 0.9937 - val_loss: 0.0788 - val_accuracy: 0.9848\n",
            "Epoch 28/30\n",
            "469/469 [==============================] - 3s 7ms/step - loss: 0.0203 - accuracy: 0.9937 - val_loss: 0.0836 - val_accuracy: 0.9851\n",
            "Epoch 29/30\n",
            "469/469 [==============================] - 4s 7ms/step - loss: 0.0221 - accuracy: 0.9932 - val_loss: 0.0719 - val_accuracy: 0.9868\n",
            "Epoch 30/30\n",
            "469/469 [==============================] - 3s 7ms/step - loss: 0.0187 - accuracy: 0.9938 - val_loss: 0.0935 - val_accuracy: 0.9841\n"
          ]
        },
        {
          "name": "stderr",
          "output_type": "stream",
          "text": [
            "WARNING:absl:`lr` is deprecated in Keras optimizer, please use `learning_rate` or use the legacy optimizer, e.g.,tf.keras.optimizers.legacy.RMSprop.\n"
          ]
        },
        {
          "name": "stdout",
          "output_type": "stream",
          "text": [
            "Epoch 1/30\n",
            "469/469 [==============================] - 4s 7ms/step - loss: 0.3387 - accuracy: 0.8961 - val_loss: 0.1406 - val_accuracy: 0.9565\n",
            "Epoch 2/30\n",
            "469/469 [==============================] - 4s 7ms/step - loss: 0.1591 - accuracy: 0.9524 - val_loss: 0.0891 - val_accuracy: 0.9732\n",
            "Epoch 3/30\n",
            "469/469 [==============================] - 3s 7ms/step - loss: 0.1251 - accuracy: 0.9621 - val_loss: 0.0872 - val_accuracy: 0.9737\n",
            "Epoch 4/30\n",
            "469/469 [==============================] - 3s 7ms/step - loss: 0.1068 - accuracy: 0.9687 - val_loss: 0.0765 - val_accuracy: 0.9781\n",
            "Epoch 5/30\n",
            "469/469 [==============================] - 3s 7ms/step - loss: 0.0950 - accuracy: 0.9715 - val_loss: 0.0744 - val_accuracy: 0.9785\n",
            "Epoch 6/30\n",
            "469/469 [==============================] - 3s 7ms/step - loss: 0.0860 - accuracy: 0.9748 - val_loss: 0.0737 - val_accuracy: 0.9796\n",
            "Epoch 7/30\n",
            "469/469 [==============================] - 3s 7ms/step - loss: 0.0790 - accuracy: 0.9765 - val_loss: 0.0728 - val_accuracy: 0.9794\n",
            "Epoch 8/30\n",
            "469/469 [==============================] - 4s 7ms/step - loss: 0.0745 - accuracy: 0.9783 - val_loss: 0.0767 - val_accuracy: 0.9796\n",
            "Epoch 9/30\n",
            "469/469 [==============================] - 3s 7ms/step - loss: 0.0686 - accuracy: 0.9790 - val_loss: 0.0682 - val_accuracy: 0.9815\n",
            "Epoch 10/30\n",
            "469/469 [==============================] - 3s 7ms/step - loss: 0.0662 - accuracy: 0.9802 - val_loss: 0.0696 - val_accuracy: 0.9806\n",
            "Epoch 11/30\n",
            "469/469 [==============================] - 3s 7ms/step - loss: 0.0610 - accuracy: 0.9822 - val_loss: 0.0693 - val_accuracy: 0.9824\n",
            "Epoch 12/30\n",
            "469/469 [==============================] - 3s 7ms/step - loss: 0.0569 - accuracy: 0.9827 - val_loss: 0.0712 - val_accuracy: 0.9819\n",
            "Epoch 13/30\n",
            "469/469 [==============================] - 3s 7ms/step - loss: 0.0567 - accuracy: 0.9831 - val_loss: 0.0728 - val_accuracy: 0.9826\n",
            "Epoch 14/30\n",
            "469/469 [==============================] - 3s 7ms/step - loss: 0.0529 - accuracy: 0.9845 - val_loss: 0.0691 - val_accuracy: 0.9833\n",
            "Epoch 15/30\n",
            "469/469 [==============================] - 3s 7ms/step - loss: 0.0508 - accuracy: 0.9849 - val_loss: 0.0698 - val_accuracy: 0.9827\n",
            "Epoch 16/30\n",
            "469/469 [==============================] - 3s 7ms/step - loss: 0.0518 - accuracy: 0.9846 - val_loss: 0.0732 - val_accuracy: 0.9835\n",
            "Epoch 17/30\n",
            "469/469 [==============================] - 3s 7ms/step - loss: 0.0483 - accuracy: 0.9859 - val_loss: 0.0735 - val_accuracy: 0.9834\n",
            "Epoch 18/30\n",
            "469/469 [==============================] - 3s 7ms/step - loss: 0.0469 - accuracy: 0.9863 - val_loss: 0.0745 - val_accuracy: 0.9828\n",
            "Epoch 19/30\n",
            "469/469 [==============================] - 3s 7ms/step - loss: 0.0475 - accuracy: 0.9858 - val_loss: 0.0732 - val_accuracy: 0.9849\n",
            "Epoch 20/30\n",
            "469/469 [==============================] - 3s 7ms/step - loss: 0.0434 - accuracy: 0.9866 - val_loss: 0.0713 - val_accuracy: 0.9825\n",
            "Epoch 21/30\n",
            "469/469 [==============================] - 4s 8ms/step - loss: 0.0434 - accuracy: 0.9870 - val_loss: 0.0678 - val_accuracy: 0.9841\n",
            "Epoch 22/30\n",
            "469/469 [==============================] - 3s 7ms/step - loss: 0.0434 - accuracy: 0.9873 - val_loss: 0.0755 - val_accuracy: 0.9841\n",
            "Epoch 23/30\n",
            "469/469 [==============================] - 3s 7ms/step - loss: 0.0416 - accuracy: 0.9878 - val_loss: 0.0740 - val_accuracy: 0.9847\n",
            "Epoch 24/30\n",
            "469/469 [==============================] - 3s 7ms/step - loss: 0.0404 - accuracy: 0.9890 - val_loss: 0.0784 - val_accuracy: 0.9845\n",
            "Epoch 25/30\n",
            "469/469 [==============================] - 4s 8ms/step - loss: 0.0374 - accuracy: 0.9887 - val_loss: 0.0775 - val_accuracy: 0.9846\n",
            "Epoch 26/30\n",
            "469/469 [==============================] - 3s 7ms/step - loss: 0.0395 - accuracy: 0.9884 - val_loss: 0.0797 - val_accuracy: 0.9847\n",
            "Epoch 27/30\n",
            "469/469 [==============================] - 3s 7ms/step - loss: 0.0395 - accuracy: 0.9884 - val_loss: 0.0794 - val_accuracy: 0.9842\n",
            "Epoch 28/30\n",
            "469/469 [==============================] - 3s 7ms/step - loss: 0.0373 - accuracy: 0.9891 - val_loss: 0.0845 - val_accuracy: 0.9843\n",
            "Epoch 29/30\n",
            "469/469 [==============================] - 3s 7ms/step - loss: 0.0352 - accuracy: 0.9897 - val_loss: 0.0771 - val_accuracy: 0.9848\n",
            "Epoch 30/30\n",
            "469/469 [==============================] - 3s 7ms/step - loss: 0.0353 - accuracy: 0.9899 - val_loss: 0.0869 - val_accuracy: 0.9846\n"
          ]
        },
        {
          "name": "stderr",
          "output_type": "stream",
          "text": [
            "WARNING:absl:`lr` is deprecated in Keras optimizer, please use `learning_rate` or use the legacy optimizer, e.g.,tf.keras.optimizers.legacy.RMSprop.\n"
          ]
        },
        {
          "name": "stdout",
          "output_type": "stream",
          "text": [
            "Epoch 1/30\n",
            "469/469 [==============================] - 3s 6ms/step - loss: 0.2657 - accuracy: 0.9194 - val_loss: 0.1019 - val_accuracy: 0.9686\n",
            "Epoch 2/30\n",
            "469/469 [==============================] - 3s 6ms/step - loss: 0.1075 - accuracy: 0.9675 - val_loss: 0.1050 - val_accuracy: 0.9663\n",
            "Epoch 3/30\n",
            "469/469 [==============================] - 3s 5ms/step - loss: 0.0780 - accuracy: 0.9761 - val_loss: 0.0800 - val_accuracy: 0.9761\n",
            "Epoch 4/30\n",
            "469/469 [==============================] - 3s 5ms/step - loss: 0.0601 - accuracy: 0.9816 - val_loss: 0.0732 - val_accuracy: 0.9797\n",
            "Epoch 5/30\n",
            "469/469 [==============================] - 3s 5ms/step - loss: 0.0498 - accuracy: 0.9844 - val_loss: 0.0597 - val_accuracy: 0.9827\n",
            "Epoch 6/30\n",
            "469/469 [==============================] - 3s 6ms/step - loss: 0.0424 - accuracy: 0.9869 - val_loss: 0.0733 - val_accuracy: 0.9791\n",
            "Epoch 7/30\n",
            "469/469 [==============================] - 3s 5ms/step - loss: 0.0362 - accuracy: 0.9880 - val_loss: 0.0696 - val_accuracy: 0.9821\n",
            "Epoch 8/30\n",
            "469/469 [==============================] - 3s 6ms/step - loss: 0.0312 - accuracy: 0.9899 - val_loss: 0.0677 - val_accuracy: 0.9825\n",
            "Epoch 9/30\n",
            "469/469 [==============================] - 3s 5ms/step - loss: 0.0273 - accuracy: 0.9912 - val_loss: 0.0690 - val_accuracy: 0.9836\n",
            "Epoch 10/30\n",
            "469/469 [==============================] - 3s 5ms/step - loss: 0.0249 - accuracy: 0.9920 - val_loss: 0.0716 - val_accuracy: 0.9840\n",
            "Epoch 11/30\n",
            "469/469 [==============================] - 3s 6ms/step - loss: 0.0208 - accuracy: 0.9934 - val_loss: 0.0687 - val_accuracy: 0.9830\n",
            "Epoch 12/30\n",
            "469/469 [==============================] - 3s 6ms/step - loss: 0.0202 - accuracy: 0.9937 - val_loss: 0.0687 - val_accuracy: 0.9841\n",
            "Epoch 13/30\n",
            "469/469 [==============================] - 3s 5ms/step - loss: 0.0196 - accuracy: 0.9934 - val_loss: 0.0812 - val_accuracy: 0.9821\n",
            "Epoch 14/30\n",
            "469/469 [==============================] - 3s 6ms/step - loss: 0.0174 - accuracy: 0.9941 - val_loss: 0.0783 - val_accuracy: 0.9835\n",
            "Epoch 15/30\n",
            "469/469 [==============================] - 3s 6ms/step - loss: 0.0175 - accuracy: 0.9945 - val_loss: 0.0775 - val_accuracy: 0.9838\n",
            "Epoch 16/30\n",
            "469/469 [==============================] - 3s 6ms/step - loss: 0.0157 - accuracy: 0.9950 - val_loss: 0.0738 - val_accuracy: 0.9855\n",
            "Epoch 17/30\n",
            "469/469 [==============================] - 3s 6ms/step - loss: 0.0136 - accuracy: 0.9956 - val_loss: 0.0719 - val_accuracy: 0.9843\n",
            "Epoch 18/30\n",
            "469/469 [==============================] - 3s 6ms/step - loss: 0.0141 - accuracy: 0.9955 - val_loss: 0.0791 - val_accuracy: 0.9844\n",
            "Epoch 19/30\n",
            "469/469 [==============================] - 3s 6ms/step - loss: 0.0135 - accuracy: 0.9958 - val_loss: 0.0799 - val_accuracy: 0.9853\n",
            "Epoch 20/30\n",
            "469/469 [==============================] - 3s 5ms/step - loss: 0.0131 - accuracy: 0.9959 - val_loss: 0.0729 - val_accuracy: 0.9844\n",
            "Epoch 21/30\n",
            "469/469 [==============================] - 3s 6ms/step - loss: 0.0108 - accuracy: 0.9963 - val_loss: 0.0795 - val_accuracy: 0.9856\n",
            "Epoch 22/30\n",
            "469/469 [==============================] - 3s 6ms/step - loss: 0.0097 - accuracy: 0.9967 - val_loss: 0.0879 - val_accuracy: 0.9833\n",
            "Epoch 23/30\n",
            "469/469 [==============================] - 3s 6ms/step - loss: 0.0092 - accuracy: 0.9971 - val_loss: 0.0758 - val_accuracy: 0.9853\n",
            "Epoch 24/30\n",
            "469/469 [==============================] - 3s 6ms/step - loss: 0.0093 - accuracy: 0.9970 - val_loss: 0.0780 - val_accuracy: 0.9850\n",
            "Epoch 25/30\n",
            "469/469 [==============================] - 3s 6ms/step - loss: 0.0099 - accuracy: 0.9969 - val_loss: 0.0976 - val_accuracy: 0.9832\n",
            "Epoch 26/30\n",
            "469/469 [==============================] - 3s 5ms/step - loss: 0.0078 - accuracy: 0.9972 - val_loss: 0.0808 - val_accuracy: 0.9846\n",
            "Epoch 27/30\n",
            "469/469 [==============================] - 3s 6ms/step - loss: 0.0086 - accuracy: 0.9974 - val_loss: 0.1066 - val_accuracy: 0.9837\n",
            "Epoch 28/30\n",
            "469/469 [==============================] - 3s 5ms/step - loss: 0.0076 - accuracy: 0.9977 - val_loss: 0.1013 - val_accuracy: 0.9846\n",
            "Epoch 29/30\n",
            "469/469 [==============================] - 2s 5ms/step - loss: 0.0075 - accuracy: 0.9975 - val_loss: 0.0896 - val_accuracy: 0.9853\n",
            "Epoch 30/30\n",
            "469/469 [==============================] - 2s 5ms/step - loss: 0.0088 - accuracy: 0.9972 - val_loss: 0.0877 - val_accuracy: 0.9854\n"
          ]
        },
        {
          "name": "stderr",
          "output_type": "stream",
          "text": [
            "WARNING:absl:`lr` is deprecated in Keras optimizer, please use `learning_rate` or use the legacy optimizer, e.g.,tf.keras.optimizers.legacy.RMSprop.\n"
          ]
        },
        {
          "name": "stdout",
          "output_type": "stream",
          "text": [
            "Epoch 1/30\n",
            "469/469 [==============================] - 5s 9ms/step - loss: 0.2821 - accuracy: 0.9146 - val_loss: 0.1177 - val_accuracy: 0.9646\n",
            "Epoch 2/30\n",
            "469/469 [==============================] - 3s 6ms/step - loss: 0.1250 - accuracy: 0.9619 - val_loss: 0.0890 - val_accuracy: 0.9712\n",
            "Epoch 3/30\n",
            "469/469 [==============================] - 3s 6ms/step - loss: 0.0940 - accuracy: 0.9710 - val_loss: 0.0756 - val_accuracy: 0.9754\n",
            "Epoch 4/30\n",
            "469/469 [==============================] - 3s 6ms/step - loss: 0.0776 - accuracy: 0.9764 - val_loss: 0.0737 - val_accuracy: 0.9787\n",
            "Epoch 5/30\n",
            "469/469 [==============================] - 3s 6ms/step - loss: 0.0641 - accuracy: 0.9803 - val_loss: 0.0625 - val_accuracy: 0.9808\n",
            "Epoch 6/30\n",
            "469/469 [==============================] - 3s 6ms/step - loss: 0.0566 - accuracy: 0.9824 - val_loss: 0.0668 - val_accuracy: 0.9815\n",
            "Epoch 7/30\n",
            "469/469 [==============================] - 3s 6ms/step - loss: 0.0509 - accuracy: 0.9839 - val_loss: 0.0746 - val_accuracy: 0.9792\n",
            "Epoch 8/30\n",
            "469/469 [==============================] - 3s 6ms/step - loss: 0.0476 - accuracy: 0.9851 - val_loss: 0.0634 - val_accuracy: 0.9818\n",
            "Epoch 9/30\n",
            "469/469 [==============================] - 3s 6ms/step - loss: 0.0412 - accuracy: 0.9873 - val_loss: 0.0713 - val_accuracy: 0.9821\n",
            "Epoch 10/30\n",
            "469/469 [==============================] - 3s 6ms/step - loss: 0.0385 - accuracy: 0.9881 - val_loss: 0.0618 - val_accuracy: 0.9839\n",
            "Epoch 11/30\n",
            "469/469 [==============================] - 3s 6ms/step - loss: 0.0348 - accuracy: 0.9888 - val_loss: 0.0657 - val_accuracy: 0.9836\n",
            "Epoch 12/30\n",
            "469/469 [==============================] - 3s 6ms/step - loss: 0.0335 - accuracy: 0.9896 - val_loss: 0.0617 - val_accuracy: 0.9838\n",
            "Epoch 13/30\n",
            "469/469 [==============================] - 3s 6ms/step - loss: 0.0303 - accuracy: 0.9903 - val_loss: 0.0730 - val_accuracy: 0.9842\n",
            "Epoch 14/30\n",
            "469/469 [==============================] - 3s 6ms/step - loss: 0.0290 - accuracy: 0.9913 - val_loss: 0.0659 - val_accuracy: 0.9846\n",
            "Epoch 15/30\n",
            "469/469 [==============================] - 3s 6ms/step - loss: 0.0279 - accuracy: 0.9916 - val_loss: 0.0693 - val_accuracy: 0.9833\n",
            "Epoch 16/30\n",
            "469/469 [==============================] - 3s 6ms/step - loss: 0.0246 - accuracy: 0.9924 - val_loss: 0.0630 - val_accuracy: 0.9855\n",
            "Epoch 17/30\n",
            "469/469 [==============================] - 3s 6ms/step - loss: 0.0271 - accuracy: 0.9913 - val_loss: 0.0735 - val_accuracy: 0.9852\n",
            "Epoch 18/30\n",
            "469/469 [==============================] - 3s 6ms/step - loss: 0.0234 - accuracy: 0.9924 - val_loss: 0.0698 - val_accuracy: 0.9846\n",
            "Epoch 19/30\n",
            "469/469 [==============================] - 3s 6ms/step - loss: 0.0203 - accuracy: 0.9935 - val_loss: 0.0752 - val_accuracy: 0.9840\n",
            "Epoch 20/30\n",
            "469/469 [==============================] - 3s 6ms/step - loss: 0.0211 - accuracy: 0.9935 - val_loss: 0.0720 - val_accuracy: 0.9846\n",
            "Epoch 21/30\n",
            "469/469 [==============================] - 3s 6ms/step - loss: 0.0197 - accuracy: 0.9939 - val_loss: 0.0763 - val_accuracy: 0.9828\n",
            "Epoch 22/30\n",
            "469/469 [==============================] - 3s 6ms/step - loss: 0.0196 - accuracy: 0.9941 - val_loss: 0.0735 - val_accuracy: 0.9847\n",
            "Epoch 23/30\n",
            "469/469 [==============================] - 3s 6ms/step - loss: 0.0187 - accuracy: 0.9942 - val_loss: 0.0706 - val_accuracy: 0.9854\n",
            "Epoch 24/30\n",
            "469/469 [==============================] - 3s 6ms/step - loss: 0.0159 - accuracy: 0.9954 - val_loss: 0.0758 - val_accuracy: 0.9856\n",
            "Epoch 25/30\n",
            "469/469 [==============================] - 3s 6ms/step - loss: 0.0178 - accuracy: 0.9943 - val_loss: 0.0689 - val_accuracy: 0.9861\n",
            "Epoch 26/30\n",
            "469/469 [==============================] - 3s 6ms/step - loss: 0.0150 - accuracy: 0.9952 - val_loss: 0.0736 - val_accuracy: 0.9861\n",
            "Epoch 27/30\n",
            "469/469 [==============================] - 3s 6ms/step - loss: 0.0154 - accuracy: 0.9952 - val_loss: 0.0732 - val_accuracy: 0.9866\n",
            "Epoch 28/30\n",
            "469/469 [==============================] - 3s 6ms/step - loss: 0.0143 - accuracy: 0.9955 - val_loss: 0.0859 - val_accuracy: 0.9845\n",
            "Epoch 29/30\n",
            "469/469 [==============================] - 3s 6ms/step - loss: 0.0153 - accuracy: 0.9953 - val_loss: 0.0812 - val_accuracy: 0.9855\n",
            "Epoch 30/30\n",
            "469/469 [==============================] - 3s 6ms/step - loss: 0.0139 - accuracy: 0.9958 - val_loss: 0.0829 - val_accuracy: 0.9856\n"
          ]
        },
        {
          "name": "stderr",
          "output_type": "stream",
          "text": [
            "WARNING:absl:`lr` is deprecated in Keras optimizer, please use `learning_rate` or use the legacy optimizer, e.g.,tf.keras.optimizers.legacy.RMSprop.\n"
          ]
        },
        {
          "name": "stdout",
          "output_type": "stream",
          "text": [
            "Epoch 1/30\n",
            "469/469 [==============================] - 3s 6ms/step - loss: 0.3082 - accuracy: 0.9064 - val_loss: 0.1265 - val_accuracy: 0.9602\n",
            "Epoch 2/30\n",
            "469/469 [==============================] - 3s 6ms/step - loss: 0.1465 - accuracy: 0.9560 - val_loss: 0.0875 - val_accuracy: 0.9722\n",
            "Epoch 3/30\n",
            "469/469 [==============================] - 3s 6ms/step - loss: 0.1125 - accuracy: 0.9664 - val_loss: 0.0772 - val_accuracy: 0.9753\n",
            "Epoch 4/30\n",
            "469/469 [==============================] - 3s 6ms/step - loss: 0.0927 - accuracy: 0.9723 - val_loss: 0.0818 - val_accuracy: 0.9766\n",
            "Epoch 5/30\n",
            "469/469 [==============================] - 3s 6ms/step - loss: 0.0841 - accuracy: 0.9751 - val_loss: 0.0636 - val_accuracy: 0.9814\n",
            "Epoch 6/30\n",
            "469/469 [==============================] - 3s 6ms/step - loss: 0.0729 - accuracy: 0.9779 - val_loss: 0.0710 - val_accuracy: 0.9804\n",
            "Epoch 7/30\n",
            "469/469 [==============================] - 3s 6ms/step - loss: 0.0669 - accuracy: 0.9799 - val_loss: 0.0685 - val_accuracy: 0.9822\n",
            "Epoch 8/30\n",
            "469/469 [==============================] - 3s 6ms/step - loss: 0.0629 - accuracy: 0.9815 - val_loss: 0.0629 - val_accuracy: 0.9834\n",
            "Epoch 9/30\n",
            "469/469 [==============================] - 3s 6ms/step - loss: 0.0583 - accuracy: 0.9819 - val_loss: 0.0633 - val_accuracy: 0.9823\n",
            "Epoch 10/30\n",
            "469/469 [==============================] - 3s 6ms/step - loss: 0.0569 - accuracy: 0.9830 - val_loss: 0.0713 - val_accuracy: 0.9820\n",
            "Epoch 11/30\n",
            "469/469 [==============================] - 3s 6ms/step - loss: 0.0509 - accuracy: 0.9843 - val_loss: 0.0631 - val_accuracy: 0.9839\n",
            "Epoch 12/30\n",
            "469/469 [==============================] - 3s 6ms/step - loss: 0.0479 - accuracy: 0.9856 - val_loss: 0.0682 - val_accuracy: 0.9836\n",
            "Epoch 13/30\n",
            "469/469 [==============================] - 3s 6ms/step - loss: 0.0463 - accuracy: 0.9865 - val_loss: 0.0639 - val_accuracy: 0.9851\n",
            "Epoch 14/30\n",
            "469/469 [==============================] - 3s 6ms/step - loss: 0.0447 - accuracy: 0.9863 - val_loss: 0.0738 - val_accuracy: 0.9832\n",
            "Epoch 15/30\n",
            "469/469 [==============================] - 3s 6ms/step - loss: 0.0437 - accuracy: 0.9866 - val_loss: 0.0622 - val_accuracy: 0.9836\n",
            "Epoch 16/30\n",
            "469/469 [==============================] - 3s 6ms/step - loss: 0.0406 - accuracy: 0.9878 - val_loss: 0.0673 - val_accuracy: 0.9843\n",
            "Epoch 17/30\n",
            "469/469 [==============================] - 3s 6ms/step - loss: 0.0396 - accuracy: 0.9884 - val_loss: 0.0665 - val_accuracy: 0.9848\n",
            "Epoch 18/30\n",
            "469/469 [==============================] - 3s 6ms/step - loss: 0.0371 - accuracy: 0.9890 - val_loss: 0.0709 - val_accuracy: 0.9829\n",
            "Epoch 19/30\n",
            "469/469 [==============================] - 3s 6ms/step - loss: 0.0360 - accuracy: 0.9893 - val_loss: 0.0726 - val_accuracy: 0.9844\n",
            "Epoch 20/30\n",
            "469/469 [==============================] - 3s 6ms/step - loss: 0.0356 - accuracy: 0.9896 - val_loss: 0.0751 - val_accuracy: 0.9841\n",
            "Epoch 21/30\n",
            "469/469 [==============================] - 3s 6ms/step - loss: 0.0353 - accuracy: 0.9898 - val_loss: 0.0707 - val_accuracy: 0.9844\n",
            "Epoch 22/30\n",
            "469/469 [==============================] - 3s 6ms/step - loss: 0.0330 - accuracy: 0.9902 - val_loss: 0.0778 - val_accuracy: 0.9843\n",
            "Epoch 23/30\n",
            "469/469 [==============================] - 3s 6ms/step - loss: 0.0330 - accuracy: 0.9907 - val_loss: 0.0726 - val_accuracy: 0.9848\n",
            "Epoch 24/30\n",
            "469/469 [==============================] - 3s 6ms/step - loss: 0.0305 - accuracy: 0.9903 - val_loss: 0.0781 - val_accuracy: 0.9851\n",
            "Epoch 25/30\n",
            "469/469 [==============================] - 3s 6ms/step - loss: 0.0315 - accuracy: 0.9913 - val_loss: 0.0752 - val_accuracy: 0.9855\n",
            "Epoch 26/30\n",
            "469/469 [==============================] - 3s 6ms/step - loss: 0.0283 - accuracy: 0.9912 - val_loss: 0.0683 - val_accuracy: 0.9863\n",
            "Epoch 27/30\n",
            "469/469 [==============================] - 3s 5ms/step - loss: 0.0286 - accuracy: 0.9915 - val_loss: 0.0753 - val_accuracy: 0.9850\n",
            "Epoch 28/30\n",
            "469/469 [==============================] - 3s 6ms/step - loss: 0.0270 - accuracy: 0.9918 - val_loss: 0.0699 - val_accuracy: 0.9858\n",
            "Epoch 29/30\n",
            "469/469 [==============================] - 3s 6ms/step - loss: 0.0250 - accuracy: 0.9926 - val_loss: 0.0829 - val_accuracy: 0.9855\n",
            "Epoch 30/30\n",
            "469/469 [==============================] - 3s 6ms/step - loss: 0.0257 - accuracy: 0.9924 - val_loss: 0.0682 - val_accuracy: 0.9862\n"
          ]
        }
      ],
      "source": [
        "learning_rates = [0.001, 0.01, 0.1] # Different learning rates\n",
        "epochs = [20, 25, 30]\n",
        "neuron_size = [200, 300, 400]  # Number of neurons in hidden layers\n",
        "dropout_val = [0.2, 0.3, 0.4]\n",
        "\n",
        "\n",
        "best_acc = 0\n",
        "best_model = None\n",
        "best_param = {}\n",
        "\n",
        "for neuron in neuron_size:\n",
        "    for val in dropout_val:\n",
        "        # create model\n",
        "        model_2 = Sequential()\n",
        "        model_2.add(Dense(neuron, activation='relu', input_shape=(784,)))\n",
        "        model_2.add(Dropout(val))\n",
        "        model_2.add(Dense(round(neuron * 1.5, 0), activation= 'relu', input_shape=(784,)))\n",
        "        model_2.add(Dropout(val))\n",
        "\n",
        "        # output layer\n",
        "        model_2.add(Dense(10, activation='softmax'))\n",
        "\n",
        "        # Compile model\n",
        "        model_2.compile(loss='categorical_crossentropy',\n",
        "                        optimizer=RMSprop(lr=0.001), \n",
        "                        metrics=['accuracy'])\n",
        "\n",
        "        # Train model\n",
        "        model_2.fit(x_train, y_train,\n",
        "                    epochs=30,\n",
        "                    batch_size=128,\n",
        "                    verbose=1,\n",
        "                    validation_data=(x_test, y_test))\n",
        "\n",
        "        # Evaluate model\n",
        "        _, accuracy = model_2.evaluate(x_test, y_test, verbose=0)\n",
        "\n",
        "        # Check if this model is the best so far\n",
        "        if accuracy > best_acc:\n",
        "            best_acc = accuracy\n",
        "            best_model = model_2\n",
        "            best_param = {'neuron_size': neuron,\n",
        "                                'dropout_value': val}"
      ]
    },
    {
      "cell_type": "code",
      "execution_count": 58,
      "id": "ac67e05b",
      "metadata": {},
      "outputs": [
        {
          "name": "stdout",
          "output_type": "stream",
          "text": [
            "Best accuracy: 0.9861999750137329\n",
            "Model: \"sequential_18\"\n",
            "_________________________________________________________________\n",
            " Layer (type)                Output Shape              Param #   \n",
            "=================================================================\n",
            " dense_53 (Dense)            (None, 400)               314000    \n",
            "                                                                 \n",
            " dropout_35 (Dropout)        (None, 400)               0         \n",
            "                                                                 \n",
            " dense_54 (Dense)            (None, 600)               240600    \n",
            "                                                                 \n",
            " dropout_36 (Dropout)        (None, 600)               0         \n",
            "                                                                 \n",
            " dense_55 (Dense)            (None, 10)                6010      \n",
            "                                                                 \n",
            "=================================================================\n",
            "Total params: 560610 (2.14 MB)\n",
            "Trainable params: 560610 (2.14 MB)\n",
            "Non-trainable params: 0 (0.00 Byte)\n",
            "_________________________________________________________________\n"
          ]
        }
      ],
      "source": [
        "# prints the best parameters for model building\n",
        "print(f\"Best accuracy: {best_acc}\")\n",
        "model_2 = best_model\n",
        "model_2.summary()"
      ]
    },
    {
      "cell_type": "code",
      "execution_count": 39,
      "id": "3d76357b",
      "metadata": {},
      "outputs": [],
      "source": [
        "# Two hidden layers\n",
        "model_2 = Sequential()\n",
        "model_2.add(Dense(400, activation= 'relu', input_shape=(784,)))    # first hidden layer with size 400\n",
        "model_2.add(Dropout(0.4))\n",
        "model_2.add(Dense(600, activation='relu', input_shape=(784,), kernel_regularizer='l2'))     # second hidden layer with size 300\n",
        "model_2.add(Dropout(0.4))   \n",
        "\n",
        "# Since MNIST dataset is a multi-class classification problem, softmax will be the output activation function\n",
        "model_2.add(Dense(10, activation='softmax'))    # output layer with 10 outputs using softmax activation"
      ]
    },
    {
      "cell_type": "markdown",
      "id": "636ee890",
      "metadata": {},
      "source": [
        "- Let's now hypertune parameters for model compiling"
      ]
    },
    {
      "cell_type": "code",
      "execution_count": 2,
      "id": "29a1e527",
      "metadata": {},
      "outputs": [
        {
          "ename": "NameError",
          "evalue": "name 'model_2' is not defined",
          "output_type": "error",
          "traceback": [
            "\u001b[1;31m---------------------------------------------------------------------------\u001b[0m",
            "\u001b[1;31mNameError\u001b[0m                                 Traceback (most recent call last)",
            "\u001b[1;32mc:\\Users\\MJ\\projects\\CPE-313---Activities\\Hands_on_Activity_1_3_Regularization.ipynb Cell 49\u001b[0m line \u001b[0;36m8\n\u001b[0;32m      <a href='vscode-notebook-cell:/c%3A/Users/MJ/projects/CPE-313---Activities/Hands_on_Activity_1_3_Regularization.ipynb#Y114sZmlsZQ%3D%3D?line=5'>6</a>\u001b[0m \u001b[39mfor\u001b[39;00m lr \u001b[39min\u001b[39;00m learning_rates:\n\u001b[0;32m      <a href='vscode-notebook-cell:/c%3A/Users/MJ/projects/CPE-313---Activities/Hands_on_Activity_1_3_Regularization.ipynb#Y114sZmlsZQ%3D%3D?line=6'>7</a>\u001b[0m     \u001b[39mfor\u001b[39;00m e \u001b[39min\u001b[39;00m epochs:\n\u001b[1;32m----> <a href='vscode-notebook-cell:/c%3A/Users/MJ/projects/CPE-313---Activities/Hands_on_Activity_1_3_Regularization.ipynb#Y114sZmlsZQ%3D%3D?line=7'>8</a>\u001b[0m         model_2\u001b[39m.\u001b[39mcompile(loss\u001b[39m=\u001b[39m\u001b[39m'\u001b[39m\u001b[39mcategorical_crossentropy\u001b[39m\u001b[39m'\u001b[39m,\n\u001b[0;32m      <a href='vscode-notebook-cell:/c%3A/Users/MJ/projects/CPE-313---Activities/Hands_on_Activity_1_3_Regularization.ipynb#Y114sZmlsZQ%3D%3D?line=8'>9</a>\u001b[0m                         optimizer\u001b[39m=\u001b[39mRMSprop(learning_rate \u001b[39m=\u001b[39m lr),\n\u001b[0;32m     <a href='vscode-notebook-cell:/c%3A/Users/MJ/projects/CPE-313---Activities/Hands_on_Activity_1_3_Regularization.ipynb#Y114sZmlsZQ%3D%3D?line=9'>10</a>\u001b[0m                         metrics\u001b[39m=\u001b[39m[\u001b[39m'\u001b[39m\u001b[39maccuracy\u001b[39m\u001b[39m'\u001b[39m])\n\u001b[0;32m     <a href='vscode-notebook-cell:/c%3A/Users/MJ/projects/CPE-313---Activities/Hands_on_Activity_1_3_Regularization.ipynb#Y114sZmlsZQ%3D%3D?line=10'>11</a>\u001b[0m         model_2_hist \u001b[39m=\u001b[39m model_2\u001b[39m.\u001b[39mfit(\n\u001b[0;32m     <a href='vscode-notebook-cell:/c%3A/Users/MJ/projects/CPE-313---Activities/Hands_on_Activity_1_3_Regularization.ipynb#Y114sZmlsZQ%3D%3D?line=11'>12</a>\u001b[0m             x_train, y_train,\n\u001b[0;32m     <a href='vscode-notebook-cell:/c%3A/Users/MJ/projects/CPE-313---Activities/Hands_on_Activity_1_3_Regularization.ipynb#Y114sZmlsZQ%3D%3D?line=12'>13</a>\u001b[0m             batch_size \u001b[39m=\u001b[39m \u001b[39m128\u001b[39m,\n\u001b[1;32m   (...)\u001b[0m\n\u001b[0;32m     <a href='vscode-notebook-cell:/c%3A/Users/MJ/projects/CPE-313---Activities/Hands_on_Activity_1_3_Regularization.ipynb#Y114sZmlsZQ%3D%3D?line=15'>16</a>\u001b[0m             validation_data\u001b[39m=\u001b[39m (x_test, y_test)\n\u001b[0;32m     <a href='vscode-notebook-cell:/c%3A/Users/MJ/projects/CPE-313---Activities/Hands_on_Activity_1_3_Regularization.ipynb#Y114sZmlsZQ%3D%3D?line=16'>17</a>\u001b[0m         )\n\u001b[0;32m     <a href='vscode-notebook-cell:/c%3A/Users/MJ/projects/CPE-313---Activities/Hands_on_Activity_1_3_Regularization.ipynb#Y114sZmlsZQ%3D%3D?line=18'>19</a>\u001b[0m         _, accuracy \u001b[39m=\u001b[39m model_2\u001b[39m.\u001b[39mevaluate(x_test, y_test, verbose\u001b[39m=\u001b[39m\u001b[39m0\u001b[39m)\n",
            "\u001b[1;31mNameError\u001b[0m: name 'model_2' is not defined"
          ]
        }
      ],
      "source": [
        "# learning_rates = [0.001, 0.01, 0.005] # Different learning rates\n",
        "# epochs = [20, 25, 30]\n",
        "\n",
        "# best_parameters = {}\n",
        "# best_ac = 0\n",
        "# for lr in learning_rates:\n",
        "#     for e in epochs:\n",
        "#         model_2.compile(loss='categorical_crossentropy',\n",
        "#                         optimizer=RMSprop(learning_rate = lr),\n",
        "#                         metrics=['accuracy'])\n",
        "#         model_2_hist = model_2.fit(\n",
        "#             x_train, y_train,\n",
        "#             batch_size = 128,\n",
        "#             epochs = e,\n",
        "#             verbose = 1,\n",
        "#             validation_data= (x_test, y_test)\n",
        "#         )\n",
        "        \n",
        "#         _, accuracy = model_2.evaluate(x_test, y_test, verbose=0)\n",
        "\n",
        "#             # Check if this model is the best so far\n",
        "#         if accuracy > best_ac:\n",
        "#             best_accuracy = accuracy\n",
        "#             best_parameters = {'learning_rate' : lr,\n",
        "#                                 'epoch' : e}"
      ]
    },
    {
      "cell_type": "code",
      "execution_count": 40,
      "id": "cb550124",
      "metadata": {},
      "outputs": [
        {
          "name": "stderr",
          "output_type": "stream",
          "text": [
            "WARNING:absl:`lr` is deprecated in Keras optimizer, please use `learning_rate` or use the legacy optimizer, e.g.,tf.keras.optimizers.legacy.RMSprop.\n"
          ]
        },
        {
          "name": "stdout",
          "output_type": "stream",
          "text": [
            "Epoch 1/30\n",
            "235/235 [==============================] - 4s 16ms/step - loss: 1.2149 - accuracy: 0.8713 - val_loss: 0.3289 - val_accuracy: 0.9356\n",
            "Epoch 2/30\n",
            "235/235 [==============================] - 4s 15ms/step - loss: 0.3129 - accuracy: 0.9355 - val_loss: 0.2445 - val_accuracy: 0.9553\n",
            "Epoch 3/30\n",
            "235/235 [==============================] - 3s 13ms/step - loss: 0.2550 - accuracy: 0.9487 - val_loss: 0.2249 - val_accuracy: 0.9560\n",
            "Epoch 4/30\n",
            "235/235 [==============================] - 3s 14ms/step - loss: 0.2237 - accuracy: 0.9567 - val_loss: 0.1832 - val_accuracy: 0.9657\n",
            "Epoch 5/30\n",
            "235/235 [==============================] - 3s 14ms/step - loss: 0.2043 - accuracy: 0.9614 - val_loss: 0.1934 - val_accuracy: 0.9641\n",
            "Epoch 6/30\n",
            "235/235 [==============================] - 3s 13ms/step - loss: 0.1902 - accuracy: 0.9641 - val_loss: 0.1752 - val_accuracy: 0.9685\n",
            "Epoch 7/30\n",
            "235/235 [==============================] - 4s 15ms/step - loss: 0.1785 - accuracy: 0.9674 - val_loss: 0.1760 - val_accuracy: 0.9675\n",
            "Epoch 8/30\n",
            "235/235 [==============================] - 3s 14ms/step - loss: 0.1696 - accuracy: 0.9686 - val_loss: 0.1679 - val_accuracy: 0.9705\n",
            "Epoch 9/30\n",
            "235/235 [==============================] - 4s 16ms/step - loss: 0.1644 - accuracy: 0.9704 - val_loss: 0.1500 - val_accuracy: 0.9742\n",
            "Epoch 10/30\n",
            "235/235 [==============================] - 4s 16ms/step - loss: 0.1588 - accuracy: 0.9715 - val_loss: 0.1449 - val_accuracy: 0.9770\n",
            "Epoch 11/30\n",
            "235/235 [==============================] - 3s 15ms/step - loss: 0.1538 - accuracy: 0.9729 - val_loss: 0.1593 - val_accuracy: 0.9732\n",
            "Epoch 12/30\n",
            "235/235 [==============================] - 4s 15ms/step - loss: 0.1504 - accuracy: 0.9737 - val_loss: 0.1453 - val_accuracy: 0.9758\n",
            "Epoch 13/30\n",
            "235/235 [==============================] - 3s 15ms/step - loss: 0.1456 - accuracy: 0.9743 - val_loss: 0.1394 - val_accuracy: 0.9770\n",
            "Epoch 14/30\n",
            "235/235 [==============================] - 3s 15ms/step - loss: 0.1410 - accuracy: 0.9757 - val_loss: 0.1458 - val_accuracy: 0.9747\n",
            "Epoch 15/30\n",
            "235/235 [==============================] - 4s 15ms/step - loss: 0.1383 - accuracy: 0.9759 - val_loss: 0.1438 - val_accuracy: 0.9756\n",
            "Epoch 16/30\n",
            "235/235 [==============================] - 3s 14ms/step - loss: 0.1363 - accuracy: 0.9766 - val_loss: 0.1688 - val_accuracy: 0.9697\n",
            "Epoch 17/30\n",
            "235/235 [==============================] - 3s 14ms/step - loss: 0.1311 - accuracy: 0.9777 - val_loss: 0.1402 - val_accuracy: 0.9769\n",
            "Epoch 18/30\n",
            "235/235 [==============================] - 3s 14ms/step - loss: 0.1282 - accuracy: 0.9780 - val_loss: 0.1469 - val_accuracy: 0.9731\n",
            "Epoch 19/30\n",
            "235/235 [==============================] - 3s 15ms/step - loss: 0.1273 - accuracy: 0.9787 - val_loss: 0.1299 - val_accuracy: 0.9774\n",
            "Epoch 20/30\n",
            "235/235 [==============================] - 3s 15ms/step - loss: 0.1250 - accuracy: 0.9789 - val_loss: 0.1489 - val_accuracy: 0.9733\n",
            "Epoch 21/30\n",
            "235/235 [==============================] - 3s 15ms/step - loss: 0.1216 - accuracy: 0.9800 - val_loss: 0.1381 - val_accuracy: 0.9770\n",
            "Epoch 22/30\n",
            "235/235 [==============================] - 3s 15ms/step - loss: 0.1214 - accuracy: 0.9804 - val_loss: 0.1331 - val_accuracy: 0.9780\n",
            "Epoch 23/30\n",
            "235/235 [==============================] - 3s 14ms/step - loss: 0.1196 - accuracy: 0.9807 - val_loss: 0.1321 - val_accuracy: 0.9763\n",
            "Epoch 24/30\n",
            "235/235 [==============================] - 3s 15ms/step - loss: 0.1166 - accuracy: 0.9814 - val_loss: 0.1674 - val_accuracy: 0.9670\n",
            "Epoch 25/30\n",
            "235/235 [==============================] - 3s 14ms/step - loss: 0.1146 - accuracy: 0.9811 - val_loss: 0.1272 - val_accuracy: 0.9781\n",
            "Epoch 26/30\n",
            "235/235 [==============================] - 3s 14ms/step - loss: 0.1129 - accuracy: 0.9813 - val_loss: 0.1540 - val_accuracy: 0.9720\n",
            "Epoch 27/30\n",
            "235/235 [==============================] - 3s 14ms/step - loss: 0.1116 - accuracy: 0.9819 - val_loss: 0.1390 - val_accuracy: 0.9738\n",
            "Epoch 28/30\n",
            "235/235 [==============================] - 3s 14ms/step - loss: 0.1097 - accuracy: 0.9822 - val_loss: 0.1304 - val_accuracy: 0.9781\n",
            "Epoch 29/30\n",
            "235/235 [==============================] - 3s 14ms/step - loss: 0.1092 - accuracy: 0.9822 - val_loss: 0.1318 - val_accuracy: 0.9790\n",
            "Epoch 30/30\n",
            "235/235 [==============================] - 3s 15ms/step - loss: 0.1086 - accuracy: 0.9821 - val_loss: 0.1277 - val_accuracy: 0.9785\n"
          ]
        }
      ],
      "source": [
        "learning_rate = 0.001\n",
        "model_2.compile(loss='categorical_crossentropy',\n",
        "            optimizer=RMSprop(lr=learning_rate),\n",
        "            metrics=['accuracy'])\n",
        "batch_size = 256  # mini-batch with 128 examples\n",
        "epochs = 30\n",
        "model_2_hist = model_2.fit(\n",
        "    x_train, y_train,\n",
        "    batch_size=batch_size,\n",
        "    epochs=epochs,\n",
        "    verbose=1,\n",
        "    validation_data=(x_test, y_test))"
      ]
    },
    {
      "cell_type": "code",
      "execution_count": 41,
      "id": "662fe0be",
      "metadata": {},
      "outputs": [
        {
          "data": {
            "image/png": "[encoded data removed]",
            "text/plain": [
              "<Figure size 1200x600 with 2 Axes>"
            ]
          },
          "metadata": {},
          "output_type": "display_data"
        }
      ],
      "source": [
        "plot_loss_accuracy(model_2_hist)"
      ]
    },
    {
      "cell_type": "markdown",
      "id": "61523309",
      "metadata": {},
      "source": [
        "- Compared to model_1's loss and accuracy plot, model_2 is much better and only a tiny bit of overfit exist within the model, further increasing the epoch **MIGHT** make validation accuracy more consistent. With a dropout rate of 40% on both 1st and 2nd hidden layer, learning rate of 0.001, batch size of 256 and an epoch of 30. The model is able to achieven accuracy of 98.21 with validation performance of 97.85%."
      ]
    },
    {
      "cell_type": "markdown",
      "id": "classified-campaign",
      "metadata": {
        "id": "classified-campaign"
      },
      "source": [
        "#### Conclusion"
      ]
    },
    {
      "cell_type": "markdown",
      "id": "relevant-thunder",
      "metadata": {
        "id": "relevant-thunder"
      },
      "source": [
        "#type your answer here"
      ]
    },
    {
      "cell_type": "markdown",
      "id": "36a92910",
      "metadata": {},
      "source": [
        "- After performing the supplementary activity, applying regularization is really important in building models in Neural Networks. As data gets more complex, or the model gets more complex with lots of hidden layers, the model may fail to generalize to new or unseen data. In other terms, the model may overfit. It is a common problem to encounter especially in neural networks. That is why applying regularization will help prevent or lessen overfitting by adding a penalty to the loss function. What this means is that it discourages the model by putting **too** much importance on one feature. This reduce the model's tendency to overfit, thus making it more robust to noisy or unseen data."
      ]
    }
  ],
  "metadata": {
    "colab": {
      "provenance": []
    },
    "kernelspec": {
      "display_name": "Python 3 (ipykernel)",
      "language": "python",
      "name": "python3"
    },
    "language_info": {
      "codemirror_mode": {
        "name": "ipython",
        "version": 3
      },
      "file_extension": ".py",
      "mimetype": "text/x-python",
      "name": "python",
      "nbconvert_exporter": "python",
      "pygments_lexer": "ipython3",
      "version": "3.11.4"
    }
  },
  "nbformat": 4,
  "nbformat_minor": 5
}
