{
  "cells": [
    {
      "cell_type": "markdown",
      "id": "frozen-passport",
      "metadata": {
        "id": "frozen-passport"
      },
      "source": [
        "# Activity 1.3 : Regularization"
      ]
    },
    {
      "cell_type": "markdown",
      "id": "downtown-relay",
      "metadata": {
        "id": "downtown-relay"
      },
      "source": [
        "#### Objective(s):\n",
        "\n",
        "This activity aims to demonstrate how to apply  regularization in neural networks"
      ]
    },
    {
      "cell_type": "markdown",
      "id": "weird-journal",
      "metadata": {
        "id": "weird-journal"
      },
      "source": [
        "#### Intended Learning Outcomes (ILOs):\n",
        "* Demonstrate how to build and train neural networks with regularization\n",
        "* Demonstrate how to visualize the model with regularization\n",
        "* Evaluate the result of model with regularization\n"
      ]
    },
    {
      "cell_type": "markdown",
      "id": "returning-harvard",
      "metadata": {
        "id": "returning-harvard"
      },
      "source": [
        "#### Resources:\n",
        "* Jupyter Notebook\n",
        "* MNIST\n"
      ]
    },
    {
      "cell_type": "markdown",
      "id": "virgin-webcam",
      "metadata": {
        "id": "virgin-webcam"
      },
      "source": [
        "#### Procedures\n",
        "Load the necessary libraries"
      ]
    },
    {
      "cell_type": "code",
      "execution_count": null,
      "id": "changing-emergency",
      "metadata": {
        "id": "changing-emergency"
      },
      "outputs": [],
      "source": [
        "from __future__ import print_function\n",
        "\n",
        "import keras\n",
        "from keras.datasets import mnist\n",
        "from keras.models import Sequential\n",
        "from keras.layers import Dense, Dropout\n",
        "from keras.optimizers import RMSprop\n",
        "\n",
        "import numpy as np\n",
        "import matplotlib.pyplot as plt\n",
        "%matplotlib inline"
      ]
    },
    {
      "cell_type": "markdown",
      "id": "central-drama",
      "metadata": {
        "id": "central-drama"
      },
      "source": [
        "Load the data, shuffled and split between train and test sets"
      ]
    },
    {
      "cell_type": "code",
      "execution_count": null,
      "id": "egyptian-driving",
      "metadata": {
        "id": "egyptian-driving"
      },
      "outputs": [],
      "source": [
        "(x_train, y_train), (x_test, y_test) = mnist.load_data()"
      ]
    },
    {
      "cell_type": "markdown",
      "id": "creative-cricket",
      "metadata": {
        "id": "creative-cricket"
      },
      "source": [
        "Get the size of the sample train data"
      ]
    },
    {
      "cell_type": "code",
      "execution_count": null,
      "id": "instrumental-funds",
      "metadata": {
        "id": "instrumental-funds"
      },
      "outputs": [],
      "source": [
        "x_train[0].shape"
      ]
    },
    {
      "cell_type": "markdown",
      "id": "atmospheric-carol",
      "metadata": {
        "id": "atmospheric-carol"
      },
      "source": [
        "Check the sample train data"
      ]
    },
    {
      "cell_type": "code",
      "execution_count": null,
      "id": "mental-johnston",
      "metadata": {
        "id": "mental-johnston"
      },
      "outputs": [],
      "source": [
        "x_train[333]"
      ]
    },
    {
      "cell_type": "markdown",
      "id": "compact-disposal",
      "metadata": {
        "id": "compact-disposal"
      },
      "source": [
        "Check the corresponding label in the training set"
      ]
    },
    {
      "cell_type": "code",
      "execution_count": null,
      "id": "cutting-gentleman",
      "metadata": {
        "id": "cutting-gentleman"
      },
      "outputs": [],
      "source": [
        "\n",
        "y_train[333]"
      ]
    },
    {
      "cell_type": "code",
      "execution_count": null,
      "id": "stupid-spectacular",
      "metadata": {
        "id": "stupid-spectacular"
      },
      "outputs": [],
      "source": [
        "Check the actual image"
      ]
    },
    {
      "cell_type": "code",
      "execution_count": null,
      "id": "tight-motivation",
      "metadata": {
        "id": "tight-motivation"
      },
      "outputs": [],
      "source": [
        "\n",
        "plt.imshow(x_train[333], cmap='Greys_r')"
      ]
    },
    {
      "cell_type": "markdown",
      "id": "brutal-young",
      "metadata": {
        "id": "brutal-young"
      },
      "source": [
        "Check the shape of the x_train and x_test"
      ]
    },
    {
      "cell_type": "code",
      "execution_count": null,
      "id": "residential-rouge",
      "metadata": {
        "id": "residential-rouge"
      },
      "outputs": [],
      "source": [
        "\n",
        "print(x_train.shape, 'train samples')\n",
        "print(x_test.shape, 'test samples')"
      ]
    },
    {
      "cell_type": "markdown",
      "id": "secret-parameter",
      "metadata": {
        "id": "secret-parameter"
      },
      "source": [
        "* Convert the x_train and x_test\n",
        "* Cast the numbers to floats\n",
        "* Normalize the inputs"
      ]
    },
    {
      "cell_type": "code",
      "execution_count": null,
      "id": "intense-daisy",
      "metadata": {
        "id": "intense-daisy"
      },
      "outputs": [],
      "source": [
        "\n",
        "x_train = x_train.reshape(len(x_train), 28*28)\n",
        "x_test = x_test.reshape(len(x_test), 28*28)\n",
        "\n",
        "\n",
        "x_train = x_train.astype('float32')\n",
        "x_test = x_test.astype('float32')\n",
        "\n",
        "\n",
        "x_train /= 255\n",
        "x_test /= 255\n"
      ]
    },
    {
      "cell_type": "markdown",
      "id": "celtic-output",
      "metadata": {
        "id": "celtic-output"
      },
      "source": [
        "Convert class vectors to binary class matrices"
      ]
    },
    {
      "cell_type": "code",
      "execution_count": null,
      "id": "confidential-incentive",
      "metadata": {
        "id": "confidential-incentive"
      },
      "outputs": [],
      "source": [
        "\n",
        "num_classes = 10\n",
        "y_train = keras.utils.to_categorical(y_train, num_classes)\n",
        "y_test = keras.utils.to_categorical(y_test, num_classes)\n",
        "\n",
        "y_train[333]  # now the digit k is represented by a 1 in the kth entry (0-indexed) of the length 10 vector"
      ]
    },
    {
      "cell_type": "markdown",
      "id": "lightweight-walter",
      "metadata": {
        "id": "lightweight-walter"
      },
      "source": [
        "* Build the model with two hidden layers of size 512.\n",
        "* Use dropout of 0.2\n",
        "* Check the model summary"
      ]
    },
    {
      "cell_type": "code",
      "execution_count": null,
      "id": "level-blair",
      "metadata": {
        "id": "level-blair"
      },
      "outputs": [],
      "source": [
        "\n",
        "model = Sequential()\n",
        "model.add(Dense(64, activation='relu', input_shape=(784,)))\n",
        "model.add(Dropout(0.2))\n",
        "model.add(Dense(64, activation='relu'))\n",
        "model.add(Dropout(0.2))\n",
        "model.add(Dense(10, activation='softmax'))"
      ]
    },
    {
      "cell_type": "code",
      "execution_count": null,
      "id": "filled-class",
      "metadata": {
        "id": "filled-class"
      },
      "outputs": [],
      "source": [
        "model.summary()"
      ]
    },
    {
      "cell_type": "markdown",
      "id": "thrown-entry",
      "metadata": {
        "id": "thrown-entry"
      },
      "source": [
        "Compile the model using learning rate of 0.001 and optimizer of RMSprop"
      ]
    },
    {
      "cell_type": "code",
      "execution_count": null,
      "id": "oriental-family",
      "metadata": {
        "id": "oriental-family"
      },
      "outputs": [],
      "source": [
        "learning_rate = .001\n",
        "model.compile(loss='categorical_crossentropy',\n",
        "              optimizer=RMSprop(lr=learning_rate),\n",
        "              metrics=['accuracy'])\n",
        "batch_size = 128  # mini-batch with 128 examples\n",
        "epochs = 30\n",
        "history = model.fit(\n",
        "    x_train, y_train,\n",
        "    batch_size=batch_size,\n",
        "    epochs=epochs,\n",
        "    verbose=1,\n",
        "    validation_data=(x_test, y_test))"
      ]
    },
    {
      "cell_type": "markdown",
      "id": "forty-trout",
      "metadata": {
        "id": "forty-trout"
      },
      "source": [
        "Use Keras evaluate function to evaluate performance on the test set"
      ]
    },
    {
      "cell_type": "code",
      "execution_count": null,
      "id": "random-ballet",
      "metadata": {
        "id": "random-ballet"
      },
      "outputs": [],
      "source": [
        "\n",
        "score = model.evaluate(x_test, y_test, verbose=0)\n",
        "print('Test loss:', score[0])\n",
        "print('Test accuracy:', score[1])"
      ]
    },
    {
      "cell_type": "markdown",
      "id": "fatal-tournament",
      "metadata": {
        "id": "fatal-tournament"
      },
      "source": [
        "Interpret the result"
      ]
    },
    {
      "cell_type": "markdown",
      "id": "german-breed",
      "metadata": {
        "id": "german-breed"
      },
      "source": [
        "#type your answer here"
      ]
    },
    {
      "cell_type": "code",
      "execution_count": null,
      "id": "imported-impression",
      "metadata": {
        "id": "imported-impression"
      },
      "outputs": [],
      "source": [
        "def plot_loss_accuracy(history):\n",
        "    fig = plt.figure(figsize=(12, 6))\n",
        "    ax = fig.add_subplot(1, 2, 1)\n",
        "    ax.plot(history.history[\"loss\"],'r-x', label=\"Train Loss\")\n",
        "    ax.plot(history.history[\"val_loss\"],'b-x', label=\"Validation Loss\")\n",
        "    ax.legend()\n",
        "    ax.set_title('cross_entropy loss')\n",
        "    ax.grid(True)\n",
        "\n",
        "\n",
        "    ax = fig.add_subplot(1, 2, 2)\n",
        "    ax.plot(history.history[\"accuracy\"],'r-x', label=\"Train Accuracy\")\n",
        "    ax.plot(history.history[\"val_accuracy\"],'b-x', label=\"Validation Accuracy\")\n",
        "    ax.legend()\n",
        "    ax.set_title('accuracy')\n",
        "    ax.grid(True)\n",
        "\n",
        "\n",
        "plot_loss_accuracy(history)"
      ]
    },
    {
      "cell_type": "markdown",
      "id": "acoustic-recipient",
      "metadata": {
        "id": "acoustic-recipient"
      },
      "source": [
        "Interpret the result"
      ]
    },
    {
      "cell_type": "markdown",
      "id": "cross-hotel",
      "metadata": {
        "id": "cross-hotel"
      },
      "source": [
        "#type your answer here"
      ]
    },
    {
      "cell_type": "markdown",
      "id": "three-terrorist",
      "metadata": {
        "id": "three-terrorist"
      },
      "source": [
        "#### Supplementary Activity\n",
        "\n",
        "* Use the Keras \"Sequential\" functionality to build a new model (model_1) with the following specifications:\n",
        "\n",
        "1. Two hidden layers.\n",
        "2. First hidden layer of size 400 and second of size 300\n",
        "3. Dropout of .4 at each layer\n",
        "4. How many parameters does your model have?  How does it compare with the previous model?\n",
        "5. Train this model for 20 epochs with RMSProp at a learning rate of .001 and a batch size of 128\n",
        "6. Use at least two  regularization techniques and apply it to the new model (model_2)\n",
        "7. Train this model for your preferred epochs , learning rate, batch size and optimizer\n",
        "8. Compare the accuracy and loss (training and validation) of model_1 and model_2"
      ]
    },
    {
      "cell_type": "code",
      "execution_count": null,
      "id": "responsible-preserve",
      "metadata": {
        "id": "responsible-preserve"
      },
      "outputs": [],
      "source": [
        "#type your code here"
      ]
    },
    {
      "cell_type": "markdown",
      "id": "classified-campaign",
      "metadata": {
        "id": "classified-campaign"
      },
      "source": [
        "#### Conclusion"
      ]
    },
    {
      "cell_type": "markdown",
      "id": "relevant-thunder",
      "metadata": {
        "id": "relevant-thunder"
      },
      "source": [
        "#type your answer here"
      ]
    },
    {
      "cell_type": "code",
      "execution_count": null,
      "id": "interracial-satellite",
      "metadata": {
        "id": "interracial-satellite"
      },
      "outputs": [],
      "source": []
    }
  ],
  "metadata": {
    "kernelspec": {
      "display_name": "Python 3",
      "language": "python",
      "name": "python3"
    },
    "language_info": {
      "codemirror_mode": {
        "name": "ipython",
        "version": 3
      },
      "file_extension": ".py",
      "mimetype": "text/x-python",
      "name": "python",
      "nbconvert_exporter": "python",
      "pygments_lexer": "ipython3",
      "version": "3.7.10"
    },
    "colab": {
      "provenance": []
    }
  },
  "nbformat": 4,
  "nbformat_minor": 5
}