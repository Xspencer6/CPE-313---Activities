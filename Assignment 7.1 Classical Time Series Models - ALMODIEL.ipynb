{
  "metadata": {
    "kernelspec": {
      "language": "python",
      "display_name": "Python 3",
      "name": "python3"
    },
    "language_info": {
      "pygments_lexer": "ipython3",
      "nbconvert_exporter": "python",
      "version": "3.6.4",
      "file_extension": ".py",
      "codemirror_mode": {
        "name": "ipython",
        "version": 3
      },
      "name": "python",
      "mimetype": "text/x-python"
    },
    "kaggle": {
      "accelerator": "none",
      "dataSources": [
        {
          "sourceId": 1444180,
          "sourceType": "datasetVersion",
          "datasetId": 846443
        }
      ],
      "dockerImageVersionId": 30096,
      "isInternetEnabled": false,
      "language": "python",
      "sourceType": "notebook",
      "isGpuEnabled": false
    },
    "colab": {
      "provenance": [],
      "include_colab_link": true
    }
  },
  "nbformat_minor": 0,
  "nbformat": 4,
  "cells": [
    {
      "cell_type": "markdown",
      "metadata": {
        "id": "view-in-github",
        "colab_type": "text"
      },
      "source": [
        "<a href=\"https://colab.research.google.com/github/Xspencer6/CPE-313---Activities/blob/main/Assignment%207.1%20Classical%20Time%20Series%20Models%20-%20ALMODIEL.ipynb\" target=\"_parent\"><img src=\"https://colab.research.google.com/assets/colab-badge.svg\" alt=\"Open In Colab\"/></a>"
      ]
    },
    {
      "cell_type": "markdown",
      "source": [
        "# <center>TIME SERIES | ARIMA | SARIMA MODELS USING PYTHON</center>"
      ],
      "metadata": {
        "_uuid": "8f2839f25d086af736a60e9eeb907d3b93b6e0e5",
        "_cell_guid": "b1076dfc-b9ad-4769-8c92-a6c4dae69d19",
        "id": "5Zcc7Jps0817"
      }
    },
    {
      "cell_type": "markdown",
      "source": [
        "---------------------------"
      ],
      "metadata": {
        "id": "kYxxr5nE081_"
      }
    },
    {
      "cell_type": "markdown",
      "source": [
        "### What is Time Series?\n",
        "\n",
        "* According to the wikipedia, A time series is a series of data points indexed (or listed or graphed) in time order. Most commonly, a time series is a sequence taken at successive equally spaced points in time. Thus it is a sequence of discrete-time data. For example, stock prices over a fixed period of time, hotel bookings, ecommerce sales, waether cycle reports etc.\n",
        "\n",
        "* Time series analysis comprises methods for analyzing time series data in order to extract meaningful statistics and other characteristics of the data. Time series forecasting is the use of a model to predict future values based on previously observed values.\n",
        "\n",
        "### Examples of time series data:\n",
        "\n",
        "* Stock prices, Sales demand, website traffic, daily temperatures, quarterly sales.\n",
        "\n",
        "### Components of a Time Series:\n",
        "\n",
        "* Trend\n",
        "* Seasonality\n",
        "\n",
        "### What is a TREND in time series?\n",
        "\n",
        "* Trend is a pattern in data that shows the movement of a series to relatively higher or lower values over a long period of time.\n",
        "\n",
        "* Trend usually happens for some time and then disappears, it does not repeat. For example, some new kaggle kernels, it goes trending for a while, and then disappears. There is fairly any chance that it would be trending again.\n",
        "\n",
        "<b>A trend could be :</b>\n",
        "\n",
        "* <b>UPTREND</b>: Time Series Analysis shows a general pattern that is upward then it is Uptrend.\n",
        "* <b>DOWNTREND</b>: Time Series Analysis shows a pattern that is downward then it is Downtrend.\n",
        "* <b>HORIZONTAL TREND</b>: If no pattern observed then it is called a Horizontal or stationary trend.\n",
        "\n",
        "![](https://anomaly.io/wp-content/uploads/2015/12/multiplicative-model.png)\n",
        "\n",
        "### What is SEASONALITY?\n",
        "\n",
        "* Predictable pattern that recurs or repeats over regular intervals. Seasonality is often observed within a year or less.\n",
        "\n",
        "![](https://miro.medium.com/max/700/1*KajC_step0g6WQ7-49dYKQ.png)\n",
        "\n",
        "### Modelling and evaluation Techniques:\n",
        "\n",
        "* MODELS: Naive approach, Moving average, Simple exponential smoothing, Holt.s linear trend model, Auto Regression Integrated Moving Average(ARIMA), SARIMAX, etc.\n",
        "\n",
        "*  Mean Square Error(MSE), Root Mean Squared Error(RMSE)\n"
      ],
      "metadata": {
        "id": "xVPcgeOK081_"
      }
    },
    {
      "cell_type": "markdown",
      "source": [
        "-------------"
      ],
      "metadata": {
        "id": "9W2_JZVc082A"
      }
    },
    {
      "cell_type": "markdown",
      "source": [
        "### AUTO-CORRELATION:\n",
        "\n",
        "* <b>Before we decide which model to use, we need to look at auto-correlations</b>\n",
        "\n",
        "* Autocorrelation is the most important concept in time series. It is precisely what makes modeling them so difficult.\n",
        "\n",
        "* Autocorrelation is the measure of the degree of similarity between a given time series and the lagged version of that time series over successive time periods. It is similar to calculating the correlation between two different variables except in Autocorrelation we calculate the correlation between two different versions Xt and Xt-k of the same time series\n",
        "\n",
        "* In time series, the current value depends on past values. If the temperature today is 80 F, tomorrow it is more likely for the temperature to be around 80 F rather than 40 F.\n",
        "\n",
        "* If you swap the first and tenth observations in tabular data, the data has not changed one bit. If you swap the first and tenth observations in a time series, you get a different time series. Order matters. Not accounting for autocorrelation is almost as silly as this timeless classic.\n",
        "\n",
        "### PARTIAL AUTO-CORRELATION:\n",
        "\n",
        "* Another useful method to examine serial dependencies is to examine the partial autocorrelation function (PACF) – an extension of autocorrelation, where the dependence on the intermediate elements (those within the lag) is removed.\n",
        "\n",
        "<b>Once we determine the nature of the auto-correlations we use the following rules of thumb.</b>\n",
        "\n",
        "* Rule 1: If the ACF shows exponential decay, the PACF has a spike at lag 1, and no correlation for other lags, then use one autoregressive (p)parameter\n",
        "\n",
        "* Rule 2: If the ACF shows a sine-wave shape pattern or a set of exponential decays, the PACF has spikes at lags 1 and 2, and no correlation for other lags, the use two autoregressive (p) parameters\n",
        "\n",
        "* Rule 3: If the ACF has a spike at lag 1, no correlation for other lags, and the PACF damps out exponentially, then use one moving average (q) parameter.\n",
        "\n",
        "* Rule 4: If the ACF has spikes at lags 1 and 2, no correlation for other lags, and the PACF has a sine-wave shape pattern or a set of exponential decays, then use two moving average (q) parameter.\n",
        "\n",
        "* Rule 5: If the ACF shows exponential decay starting at lag 1, and the PACF shows exponential decay starting at lag 1, then use one autoregressive (p) and one moving average (q) parameter.\n",
        "\n",
        "### Removing serial dependency.\n",
        "\n",
        "Serial dependency for a particular lag can be removed by differencing the series. There are two major reasons for such transformations.\n",
        "\n",
        "* First, we can identify the hidden nature of seasonal dependencies in the series. Autocorrelations for consecutive lags are interdependent, so removing some of the autocorrelations will change other auto correlations, making other seasonalities more apparent.\n",
        "\n",
        "* Second, removing serial dependencies will make the series stationary, which is necessary for ARIMA and other techniques.\n",
        "\n",
        "### DURBIN-WATSON TEST:\n",
        "\n",
        "* Another popular test for serial correlation is the Durbin-Watson statistic.\n",
        "* Durbin-Watson test is used to measure the amount of autocorrelation in residuals from the regression analysis. Durbin Watson test is used to check for the first-order autocorrelation.\n",
        "\n",
        "![](https://www.geeksforgeeks.org/wp-content/ql-cache/quicklatex.com-36cfeeac8654724f1cefdbef9f7b134e_l3.svg)\n",
        "\n",
        "<b>Assumptions for the Durbin-Watson Test:</b>\n",
        "\n",
        "* The errors are normally distributed and the mean is 0.\n",
        "* The errors are stationary.\n",
        "\n",
        "* The null hypothesis and alternate hypothesis for the Durbin-Watson Test are\n",
        "\n",
        "        H0: No first-order autocorrelation.\n",
        "        H1: There is some first-order correlation.\n",
        "        \n",
        "<b>The Durbin Watson test has values between 0 and 4. Below is the table containing values and their interpretations:</b>\n",
        "\n",
        "* 2: No autocorrelation. Generally, we assume 1.5 to 2.5 as no correlation.\n",
        "* 0- <2: positive autocorrelation. The more close it to 0, the more signs of positive autocorrelation.\n",
        "* greater 2 -4: negative autocorrelation. The more close it to 4, the more signs of negative autocorrelation."
      ],
      "metadata": {
        "id": "BskspTwJ082A"
      }
    },
    {
      "cell_type": "markdown",
      "source": [
        "---------------"
      ],
      "metadata": {
        "id": "0sQAztIs082B"
      }
    },
    {
      "cell_type": "markdown",
      "source": [
        "# <center>TIME SERIES MODELING - ARIMA, SARIMA</center>"
      ],
      "metadata": {
        "id": "QW1WqCxZ082B"
      }
    },
    {
      "cell_type": "markdown",
      "source": [
        "### ARIMA\n",
        "\n",
        "* Autoregressive Integrated Moving Average, or ARIMA, is a forecasting method for univariate time series data.\n",
        "\n",
        "* As its name suggests, it supports both an autoregressive and moving average elements. The integrated element refers to differencing allowing the method to support time series data with a trend.\n",
        "\n",
        "* A problem with ARIMA is that it does not support seasonal data. That is a time series with a repeating cycle.\n",
        "\n",
        "* ARIMA expects data that is either not seasonal or has the seasonal component removed, e.g. seasonally adjusted via methods such as seasonal differencing.\n",
        "\n",
        "### SARIMA\n",
        "\n",
        "* Seasonal Autoregressive Integrated Moving Average, SARIMA or Seasonal ARIMA, is an extension of ARIMA that explicitly supports univariate time series data with a seasonal component.\n",
        "\n",
        "* It adds three new hyperparameters to specify the autoregression (AR), differencing (I) and moving average (MA) for the seasonal component of the series, as well as an additional parameter for the period of the seasonality.\n",
        "\n",
        "* A seasonal ARIMA model is formed by including additional seasonal terms in the ARIMA.\n",
        "\n",
        "* The seasonal part of the model consists of terms that are very similar to the non-seasonal components of the model, but they involve backshifts of the seasonal period.\n",
        "\n",
        "### The general process for ARIMA models is the following:\n",
        "\n",
        "* Visualize the Time Series Data\n",
        "* Make the time series data stationary\n",
        "* Plot the Correlation and AutoCorrelation Charts\n",
        "* Construct the ARIMA Model or Seasonal ARIMA based on the data\n",
        "* Use the model to make prediction"
      ],
      "metadata": {
        "id": "1U_FZvLB082C"
      }
    },
    {
      "cell_type": "markdown",
      "source": [
        "------------"
      ],
      "metadata": {
        "id": "fLFZcT6F082C"
      }
    },
    {
      "cell_type": "markdown",
      "source": [
        "# <center>PYTHON IMPLEMENTATION</center>"
      ],
      "metadata": {
        "id": "bjMvSAlg082C"
      }
    },
    {
      "cell_type": "markdown",
      "source": [
        "### 1. BASIC STEPS OF A PROJECT:"
      ],
      "metadata": {
        "id": "YvFUels_082D"
      }
    },
    {
      "cell_type": "code",
      "source": [
        "import numpy as np\n",
        "import pandas as pd\n",
        "\n",
        "import matplotlib.pyplot as plt\n",
        "%matplotlib inline"
      ],
      "metadata": {
        "trusted": true,
        "id": "1iECjLPQ082D"
      },
      "execution_count": null,
      "outputs": []
    },
    {
      "cell_type": "code",
      "source": [
        "df=pd.read_csv('../input/perrin-freres-monthly-champagne-sales/Perrin Freres monthly champagne sales millions.csv')"
      ],
      "metadata": {
        "trusted": true,
        "id": "F7qywhZv082E"
      },
      "execution_count": null,
      "outputs": []
    },
    {
      "cell_type": "code",
      "source": [
        "df.head()"
      ],
      "metadata": {
        "trusted": true,
        "id": "lh9Mkt9m082E"
      },
      "execution_count": null,
      "outputs": []
    },
    {
      "cell_type": "code",
      "source": [
        "## Change the Column Names\n",
        "df.columns=[\"Month\",\"Sales\"]\n",
        "df.head()"
      ],
      "metadata": {
        "trusted": true,
        "id": "trLVauAO082E"
      },
      "execution_count": null,
      "outputs": []
    },
    {
      "cell_type": "code",
      "source": [
        "df.tail()"
      ],
      "metadata": {
        "trusted": true,
        "id": "ojSHdTXK082F"
      },
      "execution_count": null,
      "outputs": []
    },
    {
      "cell_type": "markdown",
      "source": [
        "#### Here we can see that last 2 columns have null values. So we'll remove those"
      ],
      "metadata": {
        "id": "foqHNKVB082F"
      }
    },
    {
      "cell_type": "code",
      "source": [
        "## Drop last 2 rows\n",
        "df.drop(106,axis=0,inplace=True)"
      ],
      "metadata": {
        "trusted": true,
        "id": "eu7Ip_O6082F"
      },
      "execution_count": null,
      "outputs": []
    },
    {
      "cell_type": "code",
      "source": [
        "df.drop(105,axis=0,inplace=True)"
      ],
      "metadata": {
        "trusted": true,
        "id": "_ruoS4r-082F"
      },
      "execution_count": null,
      "outputs": []
    },
    {
      "cell_type": "code",
      "source": [
        "# Convert Month into Datetime\n",
        "df['Month']=pd.to_datetime(df['Month'])"
      ],
      "metadata": {
        "trusted": true,
        "id": "NVjPaGFK082F"
      },
      "execution_count": null,
      "outputs": []
    },
    {
      "cell_type": "code",
      "source": [
        "df.head()"
      ],
      "metadata": {
        "trusted": true,
        "id": "aQ7Ar8ls082F"
      },
      "execution_count": null,
      "outputs": []
    },
    {
      "cell_type": "code",
      "source": [
        "df.set_index('Month',inplace=True)"
      ],
      "metadata": {
        "trusted": true,
        "id": "_-mAk0nL082F"
      },
      "execution_count": null,
      "outputs": []
    },
    {
      "cell_type": "code",
      "source": [
        "df.head()"
      ],
      "metadata": {
        "trusted": true,
        "id": "rNEFdTvN082F"
      },
      "execution_count": null,
      "outputs": []
    },
    {
      "cell_type": "code",
      "source": [
        "df.describe()"
      ],
      "metadata": {
        "trusted": true,
        "id": "m9UFrQl3082F"
      },
      "execution_count": null,
      "outputs": []
    },
    {
      "cell_type": "markdown",
      "source": [
        "--------------"
      ],
      "metadata": {
        "id": "SIXerD1L082F"
      }
    },
    {
      "cell_type": "markdown",
      "source": [
        "### 2. VISUALIZE THE DATA:"
      ],
      "metadata": {
        "id": "WVSzpCKS082F"
      }
    },
    {
      "cell_type": "code",
      "source": [
        "df.plot()"
      ],
      "metadata": {
        "trusted": true,
        "id": "ntBjgzpx082G"
      },
      "execution_count": null,
      "outputs": []
    },
    {
      "cell_type": "markdown",
      "source": [
        "* #### Testing For Stationarity : When a time series is stationary, it can be easier to model.\n",
        "* #### \"adfuller\" is a function / module used to check the STATIONARITY in dataset."
      ],
      "metadata": {
        "id": "83gygJnP082G"
      }
    },
    {
      "cell_type": "code",
      "source": [
        "from statsmodels.tsa.stattools import adfuller"
      ],
      "metadata": {
        "trusted": true,
        "id": "MwA6IDDu082G"
      },
      "execution_count": null,
      "outputs": []
    },
    {
      "cell_type": "code",
      "source": [
        "test_result=adfuller(df['Sales'])"
      ],
      "metadata": {
        "trusted": true,
        "id": "ERrK4PQE082G"
      },
      "execution_count": null,
      "outputs": []
    },
    {
      "cell_type": "code",
      "source": [
        "#HYPOTHESIS TEST:\n",
        "#Ho: It is non stationary\n",
        "#H1: It is stationary\n",
        "\n",
        "def adfuller_test(sales):\n",
        "\n",
        "    result=adfuller(sales)\n",
        "\n",
        "    labels = ['ADF Test Statistic','p-value','#Lags Used','Number of Observations Used']\n",
        "\n",
        "    for value,label in zip(result,labels):\n",
        "        print(label+' : '+str(value) )\n",
        "\n",
        "    if result[1] <= 0.05:\n",
        "        print(\"strong evidence against the null hypothesis(Ho), reject the null hypothesis. Data has no unit root and is stationary\")\n",
        "    else:\n",
        "        print(\"weak evidence against null hypothesis, time series has a unit root, indicating it is non-stationary \")"
      ],
      "metadata": {
        "trusted": true,
        "id": "j51fyRlu082G"
      },
      "execution_count": null,
      "outputs": []
    },
    {
      "cell_type": "code",
      "source": [
        "adfuller_test(df['Sales'])"
      ],
      "metadata": {
        "trusted": true,
        "id": "0ZsJhiez082G"
      },
      "execution_count": null,
      "outputs": []
    },
    {
      "cell_type": "markdown",
      "source": [
        "#### DIFFERENCING:\n",
        "\n",
        "* Differencing is a popular and widely used data transform for making time series data stationary.\n",
        "\n",
        "* Differencing can help stabilise the mean of a time series by removing changes in the level of a time series, and therefore eliminating (or reducing) trend and seasonality.\n",
        "\n",
        "* Differencing shifts ONE/MORE row towards downwards."
      ],
      "metadata": {
        "id": "SHyNLBFM082G"
      }
    },
    {
      "cell_type": "code",
      "source": [
        "df['Seasonal First Difference']=df['Sales']-df['Sales'].shift(12)"
      ],
      "metadata": {
        "trusted": true,
        "id": "X2WA1T6p082G"
      },
      "execution_count": null,
      "outputs": []
    },
    {
      "cell_type": "markdown",
      "source": [
        "##### Here the value 12 is the number of index values per period of time you are calculating."
      ],
      "metadata": {
        "id": "atu1rr5H082G"
      }
    },
    {
      "cell_type": "code",
      "source": [
        "df.head(14)"
      ],
      "metadata": {
        "trusted": true,
        "id": "HQeZGM2o082G"
      },
      "execution_count": null,
      "outputs": []
    },
    {
      "cell_type": "code",
      "source": [
        "## Again test dickey fuller test\n",
        "adfuller_test(df['Seasonal First Difference'].dropna())"
      ],
      "metadata": {
        "trusted": true,
        "id": "f3VxDYSt082G"
      },
      "execution_count": null,
      "outputs": []
    },
    {
      "cell_type": "code",
      "source": [
        "df['Seasonal First Difference'].plot()"
      ],
      "metadata": {
        "trusted": true,
        "id": "fwaoQ1Ha082H"
      },
      "execution_count": null,
      "outputs": []
    },
    {
      "cell_type": "markdown",
      "source": [
        "#### NOW OUR DATA IS STATIONARY."
      ],
      "metadata": {
        "id": "tv1MRbTu082H"
      }
    },
    {
      "cell_type": "markdown",
      "source": [
        "-----------------"
      ],
      "metadata": {
        "id": "-RJ2-7QC082N"
      }
    },
    {
      "cell_type": "markdown",
      "source": [
        "### AUTO-CORRELATION | PARTIAL AUTO-CORRELATION:"
      ],
      "metadata": {
        "id": "dYx__TUR082N"
      }
    },
    {
      "cell_type": "code",
      "source": [
        "from statsmodels.graphics.tsaplots import plot_acf,plot_pacf"
      ],
      "metadata": {
        "trusted": true,
        "id": "cGmzVuEP082N"
      },
      "execution_count": null,
      "outputs": []
    },
    {
      "cell_type": "code",
      "source": [
        "\n",
        "from pandas.plotting import autocorrelation_plot\n",
        "autocorrelation_plot(df['Sales'])\n",
        "plt.show()"
      ],
      "metadata": {
        "trusted": true,
        "id": "p5-LjHtR082O"
      },
      "execution_count": null,
      "outputs": []
    },
    {
      "cell_type": "code",
      "source": [
        "import statsmodels.api as sm\n",
        "fig = plt.figure(figsize=(12,8))\n",
        "ax1 = fig.add_subplot(211)\n",
        "fig = sm.graphics.tsa.plot_acf(df['Seasonal First Difference'].iloc[13:],lags=40,ax=ax1)\n",
        "ax2 = fig.add_subplot(212)\n",
        "fig = sm.graphics.tsa.plot_pacf(df['Seasonal First Difference'].iloc[13:],lags=40,ax=ax2)"
      ],
      "metadata": {
        "trusted": true,
        "id": "bAc4VoPy082O"
      },
      "execution_count": null,
      "outputs": []
    },
    {
      "cell_type": "markdown",
      "source": [
        "#### Here these two graphs will help you to find the p and q values.\n",
        "\n",
        "* Partial AutoCorrelation Graph is for the p-value.\n",
        "* AutoCorrelation Graph for the q-value."
      ],
      "metadata": {
        "id": "ehUJut01082O"
      }
    },
    {
      "cell_type": "markdown",
      "source": [
        "--------------"
      ],
      "metadata": {
        "id": "Kcp0HA3o082O"
      }
    },
    {
      "cell_type": "markdown",
      "source": [
        "### 3. ARIMA MODEL\n",
        "\n",
        "Let’s Break it Down:-\n",
        "\n",
        "* AR: Autoregression. A model that uses the dependent relationship between an observation and some number of lagged observations.\n",
        "\n",
        "* I: Integrated. The use of differencing of raw observations in order to make the time series stationary.\n",
        "\n",
        "* MA: Moving Average. A model that uses the dependency between an observation and a residual error from a moving average model applied to lagged observations.\n",
        "\n",
        "The parameters of the ARIMA model are defined as follows:\n",
        "\n",
        "* p: The number of lag observations included in the model, also called the lag order.\n",
        "* d: The number of times that the raw observations are differenced, also called the degree of differencing.\n",
        "* q: The size of the moving average window, also called the order of moving average.\n",
        "\n"
      ],
      "metadata": {
        "id": "H1eQJlvm082O"
      }
    },
    {
      "cell_type": "code",
      "source": [
        "# For non-seasonal data\n",
        "#p=1, d=1, q=0 or 1\n",
        "from statsmodels.tsa.arima_model import ARIMA"
      ],
      "metadata": {
        "trusted": true,
        "id": "DRAJ5_6U082O"
      },
      "execution_count": null,
      "outputs": []
    },
    {
      "cell_type": "code",
      "source": [
        "model=ARIMA(df['Sales'],order=(1,1,1))\n",
        "model_fit=model.fit()"
      ],
      "metadata": {
        "trusted": true,
        "id": "-XR9zSWc082O"
      },
      "execution_count": null,
      "outputs": []
    },
    {
      "cell_type": "code",
      "source": [
        "model_fit.summary()"
      ],
      "metadata": {
        "trusted": true,
        "id": "TGK_23NB082O"
      },
      "execution_count": null,
      "outputs": []
    },
    {
      "cell_type": "code",
      "source": [
        "df['forecast']=model_fit.predict(start=90,end=103,dynamic=True)\n",
        "df[['Sales','forecast']].plot(figsize=(12,8))"
      ],
      "metadata": {
        "trusted": true,
        "id": "XidaUa72082O"
      },
      "execution_count": null,
      "outputs": []
    },
    {
      "cell_type": "markdown",
      "source": [
        "### SARIMA MODEL"
      ],
      "metadata": {
        "id": "mrn2Vuvf082O"
      }
    },
    {
      "cell_type": "code",
      "source": [
        "import statsmodels.api as sm"
      ],
      "metadata": {
        "trusted": true,
        "id": "f2ysOCoa082P"
      },
      "execution_count": null,
      "outputs": []
    },
    {
      "cell_type": "code",
      "source": [
        "model=sm.tsa.statespace.SARIMAX(df['Sales'],order=(1, 1, 1),seasonal_order=(1,1,1,12))\n",
        "results=model.fit()"
      ],
      "metadata": {
        "trusted": true,
        "id": "QfaSlMSa082P"
      },
      "execution_count": null,
      "outputs": []
    },
    {
      "cell_type": "code",
      "source": [
        "df['forecast']=results.predict(start=90,end=103,dynamic=True)\n",
        "df[['Sales','forecast']].plot(figsize=(12,8))"
      ],
      "metadata": {
        "trusted": true,
        "id": "if76vpwv082P"
      },
      "execution_count": null,
      "outputs": []
    },
    {
      "cell_type": "markdown",
      "source": [
        "##### HERE THE BLUE LINE IS ACTUAL DATA & ORANGE LINE IS PREDICTED DATA. HOW GOOD IT GAVE US THE RESULTS."
      ],
      "metadata": {
        "id": "mYZUSggX082P"
      }
    },
    {
      "cell_type": "markdown",
      "source": [
        "-------------------"
      ],
      "metadata": {
        "id": "GGW4Bafo082P"
      }
    },
    {
      "cell_type": "markdown",
      "source": [
        "### 4. PREDICT FOR FUTURE DATASET:"
      ],
      "metadata": {
        "id": "wicQKACX082P"
      }
    },
    {
      "cell_type": "code",
      "source": [
        "from pandas.tseries.offsets import DateOffset\n",
        "\n",
        "#Here USING FOR LOOP we are adding some additional data for prediction purpose:\n",
        "\n",
        "future_dates=[df.index[-1]+ DateOffset(months=x)for x in range(0,24)]"
      ],
      "metadata": {
        "trusted": true,
        "id": "OI7-KTBK082P"
      },
      "execution_count": null,
      "outputs": []
    },
    {
      "cell_type": "code",
      "source": [
        "#Convert that list into DATAFRAME:\n",
        "\n",
        "future_datest_df=pd.DataFrame(index=future_dates[1:],columns=df.columns)"
      ],
      "metadata": {
        "trusted": true,
        "id": "lsGn8fBu082P"
      },
      "execution_count": null,
      "outputs": []
    },
    {
      "cell_type": "code",
      "source": [
        "future_datest_df.tail()"
      ],
      "metadata": {
        "trusted": true,
        "id": "k7OwW-RT082P"
      },
      "execution_count": null,
      "outputs": []
    },
    {
      "cell_type": "code",
      "source": [
        "#CONCATE THE ORIGINAL AND THE NEWLY CREATED DATASET FOR VISUALIZATION PURPOSE:\n",
        "future_df=pd.concat([df,future_datest_df])"
      ],
      "metadata": {
        "trusted": true,
        "id": "kow4lYXm082P"
      },
      "execution_count": null,
      "outputs": []
    },
    {
      "cell_type": "code",
      "source": [
        "#PREDICT\n",
        "future_df['forecast'] = results.predict(start = 104, end = 120, dynamic= True)\n",
        "future_df[['Sales', 'forecast']].plot(figsize=(12, 8))"
      ],
      "metadata": {
        "trusted": true,
        "id": "TWIMc2u8082P"
      },
      "execution_count": null,
      "outputs": []
    },
    {
      "cell_type": "markdown",
      "source": [
        "# Hence, We have predicted the SALES for the next Two Years Successfully."
      ],
      "metadata": {
        "id": "LnfJXMAQ082Q"
      }
    },
    {
      "cell_type": "markdown",
      "source": [
        "------------------------------------------------------------"
      ],
      "metadata": {
        "id": "W2QC8CjK082Q"
      }
    }
  ]
}