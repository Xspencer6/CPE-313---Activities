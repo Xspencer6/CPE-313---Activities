{
 "cells": [
  {
   "cell_type": "markdown",
   "metadata": {},
   "source": [
    "# **Prelim Skills Exam** <br>\n",
    "\n",
    "**Name**: Mj Spencer Almodiel <br>\n",
    "**Instructor**: Engr. Roman Richard <br>\n",
    "**Date Performed**: 3/12/24"
   ]
  },
  {
   "cell_type": "markdown",
   "metadata": {},
   "source": [
    "1. Build and train a CNN model from a scratch.  Apply different regularization techniques and data preprocessing to reduce overfitting.\n",
    "\n",
    "2.  Plot the training and validation loss and accuracy. The target accuracy is 85 and above.\n",
    "\n",
    "3.  Use the assigned pre-trained model and fine-tuned it. \n",
    "\n",
    "4. Build and train a CNN model using the modified pretrained model.\n",
    "\n",
    "5. Plot the training and validation loss and accuracy. The target accuracy is 95 and above.\n",
    "\n",
    "6. Use the classification report, confusion matrix and ROC over AUC metric to evaluate also the performance of the scratch and using pre-trained mode"
   ]
  },
  {
   "cell_type": "markdown",
   "metadata": {},
   "source": []
  }
 ],
 "metadata": {
  "language_info": {
   "name": "python"
  }
 },
 "nbformat": 4,
 "nbformat_minor": 2
}
