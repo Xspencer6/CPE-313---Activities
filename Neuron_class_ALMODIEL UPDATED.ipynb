{
  "cells": [
    {
      "cell_type": "code",
      "execution_count": 1,
      "metadata": {
        "colab": {
          "base_uri": "https://localhost:8080/"
        },
        "id": "HHYmDmwFKmjT",
        "outputId": "86fd5a4d-b1bb-49ec-e289-28dec56561e7"
      },
      "outputs": [
        {
          "name": "stdout",
          "output_type": "stream",
          "text": [
            "The weights used are:[array([4]), array([9]), array([2])]\n",
            "\n",
            "Output: [88]\n"
          ]
        }
      ],
      "source": [
        "import numpy as np\n",
        "\n",
        "class Neuron:\n",
        "\n",
        "\n",
        "  def __init__(self, input, weights=None):\n",
        "    if weights:\n",
        "      self.weights = weights\n",
        "    else:\n",
        "      self.weights = np.random.randint(10, size=(len(input), len(input[0])))\n",
        "    self.input = input\n",
        "    self.output = self.relu()\n",
        "\n",
        "  def __str__(self):\n",
        "    strWeights = [x for x in self.weights]\n",
        "    text = f\"The weights used are:{strWeights}\\n\\nOutput: {str(self.output)}\"\n",
        "    return text\n",
        "\n",
        "  def adder(self):\n",
        "    result = 0\n",
        "    for i in range(len(self.input)):\n",
        "      result += self.input[i] * self.weights[i]\n",
        "    return result\n",
        "\n",
        "\n",
        "  def relu(self):\n",
        "    if self.adder() > 0:  # max (0, input)\n",
        "      return self.adder()\n",
        "    return 0\n",
        "\n",
        "\n",
        "# test\n",
        "input = [[5],\n",
        "         [6],\n",
        "         [7]]\n",
        "\n",
        "test = Neuron(input)\n",
        "print(test)"
      ]
    },
    {
      "cell_type": "code",
      "execution_count": 2,
      "metadata": {
        "id": "DJ1D2Xm2OBuD"
      },
      "outputs": [],
      "source": [
        "class NNetwork:  # Feed-forward Neuron Network class\n",
        "\n",
        "  def __init__(self, activation_func=\"sig\"): # default activation function will be 'relu'\n",
        "    self.input = []\n",
        "    self.weights = None\n",
        "    self.output = None\n",
        "    self.bias = np.random.rand(1, 1) - 0.5  # since there will be only 1 output neuron\n",
        "    self.neuron_list = []\n",
        "    self.activation = activation_func\n",
        "\n",
        "  def __str__(self):\n",
        "    return f\"There are {len(self.neuron_list)} neurons present in Neural Network.\\nOutput using {self.activation} activation: {self.output}\"\n",
        "\n",
        "  def feed_forward(self, input): \n",
        "   ## - Feed-forward formula:\n",
        "   # output = np.dot(input, weights) + bias\n",
        "   #  This summed function is applied over an Activation function\n",
        "   self.output = np.dot(self.input, self.weights) + self.bias\n",
        "\n",
        "  def add(self, Neuron):\n",
        "    self.input.append(Neuron.output)  # the output of neurons will be the current input for this network output\n",
        "    self.neuron_list.append(Neuron)\n",
        "    # update number of weights for every addition of Neuron\n",
        "    # code here\n",
        "\n",
        "  def adder(self):  # adder for all neurons within neuron_list\n",
        "    result = 0\n",
        "    for i in range(len(self.neuron_list)):\n",
        "      result += self.input[i] * self.weights[i]\n",
        "    return result\n",
        "\n",
        "  def activate(self): # default: sigmoid activation function\n",
        "    if self.activation != \"sig\":\n",
        "      # do other activation function\n",
        "      raise NotImplementedError\n",
        "    # Sigmoid formula : 1/(1+e^(-x))\n",
        "    else: self.output = 1 / (1 + np.e ** (-self.adder()))\n",
        "\n",
        "  def setWeight(self, weights): # this function will be used for statically created weights\n",
        "    self.weights = weights"
      ]
    },
    {
      "cell_type": "code",
      "execution_count": 3,
      "metadata": {
        "colab": {
          "base_uri": "https://localhost:8080/"
        },
        "id": "TilxayiZOaYM",
        "outputId": "d175bd69-6439-4cea-8ef0-c553ad6f3dac"
      },
      "outputs": [
        {
          "name": "stdout",
          "output_type": "stream",
          "text": [
            "Neuron 1 : Output -> [53]\n",
            "Weight 1\n",
            "[[4]\n",
            " [2]\n",
            " [3]]\n",
            "\n",
            "Neuron 2 : Output -> [75]\n",
            "Weight 2\n",
            "[[7]\n",
            " [2]\n",
            " [4]]\n",
            "\n",
            "Neuron 3 : Output -> [67]\n",
            "Weight 3\n",
            "[[6]\n",
            " [5]\n",
            " [1]]\n",
            "\n",
            "Neuron 4 : Output -> [62]\n",
            "Weight 4\n",
            "[[6]\n",
            " [3]\n",
            " [2]]\n",
            "\n",
            "Neuron 5 : Output -> [79]\n",
            "Weight 5\n",
            "[[6]\n",
            " [0]\n",
            " [7]]\n",
            "\n"
          ]
        }
      ],
      "source": [
        "# Create 5 neurons with 3 inputs and 1 output\n",
        "n_1 = Neuron([[5],\n",
        "              [6],\n",
        "              [7]])\n",
        "\n",
        "n_2 = Neuron([[5],\n",
        "              [6],\n",
        "              [7]])\n",
        "\n",
        "n_3 = Neuron([[5],\n",
        "              [6],\n",
        "              [7]])\n",
        "\n",
        "n_4 = Neuron([[5],\n",
        "              [6],\n",
        "              [7]])\n",
        "\n",
        "n_5 = Neuron([[5],\n",
        "              [6],\n",
        "              [7]])\n",
        "\n",
        "# Create a network of neurons with 1 output neuron\n",
        "network = NNetwork()\n",
        "network.add(n_1)\n",
        "network.add(n_2)\n",
        "network.add(n_3)\n",
        "network.add(n_4)\n",
        "network.add(n_5)\n",
        "\n",
        "# statically create weights for validation of NNetwork class\n",
        "network.setWeight([[6],\n",
        "                   [5],\n",
        "                   [4],\n",
        "                   [3],\n",
        "                   [2]])\n",
        "\n",
        "network.activate() # compute using sigmoid activation\n",
        "\n",
        "for i in range(len(network.neuron_list)):\n",
        "  print(f\"Neuron {i+1} : Output -> {network.neuron_list[i].output}\\nWeight {i+1}\\n{network.neuron_list[i].weights}\\n\")"
      ]
    },
    {
      "cell_type": "code",
      "execution_count": 4,
      "metadata": {
        "colab": {
          "base_uri": "https://localhost:8080/"
        },
        "id": "960ENSCTRawE",
        "outputId": "e0bc5e23-2773-4e05-d939-fe43b3e5f6d8"
      },
      "outputs": [
        {
          "name": "stdout",
          "output_type": "stream",
          "text": [
            "There are 5 neurons present in Neural Network.\n",
            "Output using sig activation: [1.]\n"
          ]
        }
      ],
      "source": [
        "# print output of Neural Network\n",
        "print(network)"
      ]
    },
    {
      "cell_type": "markdown",
      "metadata": {},
      "source": [
        "- The output is correct since the output in sigmoid activation function is either 1 or 0."
      ]
    },
    {
      "cell_type": "markdown",
      "metadata": {
        "id": "pP-gd7n6NMKu"
      },
      "source": [
        "## - Feed-forward formula:\n",
        " self.output = np.dot(self.input, self.weights) + self.bias\n"
      ]
    }
  ],
  "metadata": {
    "colab": {
      "authorship_tag": "ABX9TyMRbe2G8QZimxqCXyje5sJO",
      "include_colab_link": true,
      "provenance": []
    },
    "kernelspec": {
      "display_name": "Python 3",
      "name": "python3"
    },
    "language_info": {
      "codemirror_mode": {
        "name": "ipython",
        "version": 3
      },
      "file_extension": ".py",
      "mimetype": "text/x-python",
      "name": "python",
      "nbconvert_exporter": "python",
      "pygments_lexer": "ipython3",
      "version": "0.0.0"
    }
  },
  "nbformat": 4,
  "nbformat_minor": 0
}
