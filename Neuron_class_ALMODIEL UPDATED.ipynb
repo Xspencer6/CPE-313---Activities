{
  "nbformat": 4,
  "nbformat_minor": 0,
  "metadata": {
    "colab": {
      "provenance": [],
      "authorship_tag": "ABX9TyMRbe2G8QZimxqCXyje5sJO",
      "include_colab_link": true
    },
    "kernelspec": {
      "name": "python3",
      "display_name": "Python 3"
    },
    "language_info": {
      "name": "python"
    }
  },
  "cells": [
    {
      "cell_type": "markdown",
      "metadata": {
        "id": "view-in-github",
        "colab_type": "text"
      },
      "source": [
        "<a href=\"https://colab.research.google.com/github/Xspencer6/CPE-313---Activities/blob/main/Neuron_class_ALMODIEL%20UPDATED.ipynb\" target=\"_parent\"><img src=\"https://colab.research.google.com/assets/colab-badge.svg\" alt=\"Open In Colab\"/></a>"
      ]
    },
    {
      "cell_type": "code",
      "execution_count": 110,
      "metadata": {
        "colab": {
          "base_uri": "https://localhost:8080/"
        },
        "id": "HHYmDmwFKmjT",
        "outputId": "86fd5a4d-b1bb-49ec-e289-28dec56561e7"
      },
      "outputs": [
        {
          "output_type": "stream",
          "name": "stdout",
          "text": [
            "The weights used are:[array([7]), array([1]), array([1])]\n",
            "\n",
            "Output: [48]\n"
          ]
        }
      ],
      "source": [
        "import numpy as np\n",
        "\n",
        "class Neuron:\n",
        "\n",
        "\n",
        "  def __init__(self, input, weights=None):\n",
        "    if weights:\n",
        "      self.weights = weights\n",
        "    else:\n",
        "      self.weights = np.random.randint(10, size=(len(input), len(input[0])))\n",
        "    self.input = input\n",
        "    self.output = self.relu()\n",
        "\n",
        "  def __str__(self):\n",
        "    strWeights = [x for x in self.weights]\n",
        "    text = f\"The weights used are:{strWeights}\\n\\nOutput: {str(self.output)}\"\n",
        "    return text\n",
        "\n",
        "  def adder(self):\n",
        "    result = 0\n",
        "    for i in range(len(self.input)):\n",
        "      result += self.input[i] * self.weights[i]\n",
        "    return result\n",
        "\n",
        "\n",
        "  def relu(self):\n",
        "    if self.adder() > 0:  # max (0, input)\n",
        "      return self.adder()\n",
        "    return 0\n",
        "\n",
        "\n",
        "# test\n",
        "input = [[5],\n",
        "         [6],\n",
        "         [7]]\n",
        "\n",
        "test = Neuron(input)\n",
        "print(test)"
      ]
    },
    {
      "cell_type": "code",
      "source": [
        "class NNetwork:  # Feed-forward Neuron Network class\n",
        "\n",
        "  def __init__(self, activation_func=None): # default activation function will be 'relu'\n",
        "    self.input = []\n",
        "    self.weights = None\n",
        "    self.output = None\n",
        "    self.bias = np.random.rand(1, 1) - 0.5  # since there will be only 1 output neuron\n",
        "    self.neuron_list = []\n",
        "\n",
        "  def __str__(self):\n",
        "    return f\"There are {len(self.neuron_list)} neurons present in Neural Network.\\nOutput: {self.output}\"\n",
        "\n",
        "  def feed_forward(self, input):\n",
        "   raise NotImplementedError\n",
        "\n",
        "  def add(self, Neuron):\n",
        "    self.input.append(Neuron.output)  # the output of neurons will be the current input for this network output\n",
        "    self.neuron_list.append(Neuron)\n",
        "    # update number of weights for every addition of Neuron\n",
        "    # code here\n",
        "\n",
        "  def adder(self):  # adder for all neurons within neuron_list\n",
        "    result = 0\n",
        "    for i in range(len(self.neuron_list)):\n",
        "      result += self.input[i] * self.weights[i]\n",
        "    return result\n",
        "\n",
        "  def activate(self): # sigmoid activation function\n",
        "    # Sigmoid formula : 1/(1+e^(-x))\n",
        "    self.output = 1 / (1 + np.e ** (-self.adder()))\n",
        "\n",
        "  def setWeight(self, weights): # this function will be used for statically created weights\n",
        "    self.weights = weights"
      ],
      "metadata": {
        "id": "DJ1D2Xm2OBuD"
      },
      "execution_count": 113,
      "outputs": []
    },
    {
      "cell_type": "code",
      "source": [
        "# Create 5 neurons with 3 inputs and 1 output\n",
        "n_1 = Neuron([[5],\n",
        "              [6],\n",
        "              [7]])\n",
        "\n",
        "n_2 = Neuron([[5],\n",
        "              [6],\n",
        "              [7]])\n",
        "\n",
        "n_3 = Neuron([[5],\n",
        "              [6],\n",
        "              [7]])\n",
        "\n",
        "n_4 = Neuron([[5],\n",
        "              [6],\n",
        "              [7]])\n",
        "\n",
        "n_5 = Neuron([[5],\n",
        "              [6],\n",
        "              [7]])\n",
        "\n",
        "# Create a network of neurons with 1 output neuron\n",
        "network = NNetwork()\n",
        "network.add(n_1)\n",
        "network.add(n_2)\n",
        "network.add(n_3)\n",
        "network.add(n_4)\n",
        "network.add(n_5)\n",
        "\n",
        "# statically create weights for validation of NNetwork class\n",
        "network.setWeight([[6],\n",
        "                   [5],\n",
        "                   [4],\n",
        "                   [3],\n",
        "                   [2]])\n",
        "\n",
        "network.activate() # compute using sigmoid activation\n",
        "\n",
        "for i in range(len(network.neuron_list)):\n",
        "  print(f\"Neuron {i+1} : Output -> {network.neuron_list[i].output}\\nWeight {i+1}\\n{network.neuron_list[i].weights}\\n\")"
      ],
      "metadata": {
        "colab": {
          "base_uri": "https://localhost:8080/"
        },
        "id": "TilxayiZOaYM",
        "outputId": "d175bd69-6439-4cea-8ef0-c553ad6f3dac"
      },
      "execution_count": 114,
      "outputs": [
        {
          "output_type": "stream",
          "name": "stdout",
          "text": [
            "Neuron 1 : Output -> [73]\n",
            "Weight 1\n",
            "[[9]\n",
            " [0]\n",
            " [4]]\n",
            "\n",
            "Neuron 2 : Output -> [90]\n",
            "Weight 2\n",
            "[[8]\n",
            " [6]\n",
            " [2]]\n",
            "\n",
            "Neuron 3 : Output -> [52]\n",
            "Weight 3\n",
            "[[4]\n",
            " [3]\n",
            " [2]]\n",
            "\n",
            "Neuron 4 : Output -> [28]\n",
            "Weight 4\n",
            "[[0]\n",
            " [0]\n",
            " [4]]\n",
            "\n",
            "Neuron 5 : Output -> [40]\n",
            "Weight 5\n",
            "[[2]\n",
            " [5]\n",
            " [0]]\n",
            "\n"
          ]
        }
      ]
    },
    {
      "cell_type": "code",
      "source": [
        "# print output of Neural Network\n",
        "print(network.)"
      ],
      "metadata": {
        "colab": {
          "base_uri": "https://localhost:8080/"
        },
        "id": "960ENSCTRawE",
        "outputId": "e0bc5e23-2773-4e05-d939-fe43b3e5f6d8"
      },
      "execution_count": 116,
      "outputs": [
        {
          "output_type": "stream",
          "name": "stdout",
          "text": [
            "There are 5 neurons present in Neural Network.\n",
            "Output: [1.]\n"
          ]
        }
      ]
    },
    {
      "cell_type": "code",
      "source": [],
      "metadata": {
        "colab": {
          "base_uri": "https://localhost:8080/"
        },
        "id": "75KOVYU8eLB-",
        "outputId": "db282381-b6e6-4599-9fa5-aa7a55463490"
      },
      "execution_count": 108,
      "outputs": [
        {
          "output_type": "execute_result",
          "data": {
            "text/plain": [
              "array([[8],\n",
              "       [8],\n",
              "       [0]])"
            ]
          },
          "metadata": {},
          "execution_count": 108
        }
      ]
    },
    {
      "cell_type": "markdown",
      "source": [
        "## - Feed-forward formula:\n",
        " self.output = np.dot(self.input, self.weights) + self.bias\n",
        ""
      ],
      "metadata": {
        "id": "pP-gd7n6NMKu"
      }
    }
  ]
}